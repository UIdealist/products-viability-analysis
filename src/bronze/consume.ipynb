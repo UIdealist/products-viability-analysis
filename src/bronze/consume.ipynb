{
 "cells": [
  {
   "cell_type": "code",
   "execution_count": 1,
   "metadata": {},
   "outputs": [],
   "source": [
    "%load_ext IPython.extensions.autoreload\n",
    "%autoreload 2"
   ]
  },
  {
   "cell_type": "code",
   "execution_count": 2,
   "metadata": {},
   "outputs": [],
   "source": [
    "import sys\n",
    "from pathlib import Path\n",
    "\n",
    "def find_src_folder(current_path: Path, folder_name: str = 'src') -> Path:\n",
    "    search_directories = [current_path] + list(current_path.parents)\n",
    "    for parent in search_directories:\n",
    "        if parent.name == folder_name:\n",
    "            return parent.parent\n",
    "    return current_path\n",
    "\n",
    "src_path = find_src_folder(Path.cwd(), 'src')\n",
    "sys.path.append(str(src_path))"
   ]
  },
  {
   "cell_type": "markdown",
   "metadata": {},
   "source": [
    "# Extracción de información de productos y reseñas de Amazon Reviews\n",
    "Se tomará el repositorio de datos público de reseñas de productos de Amazon Reviews. Se trata de un conjunto de información recopilada en el 2023 referente a productos de diversas categorías. Actualmente se plantea el estudio de únicamente los productos pertenecientes al entorno tecnológico.\n",
    "\n",
    "Específicamente, se eligieron las siguientes categorías:\n",
    "- Accesorios y Celulares\n",
    "- Electrónica\n",
    "- Software\n",
    "- Videojuegos"
   ]
  },
  {
   "cell_type": "markdown",
   "metadata": {},
   "source": [
    "## Importación de librerias necesarias"
   ]
  },
  {
   "cell_type": "code",
   "execution_count": 3,
   "metadata": {},
   "outputs": [],
   "source": [
    "import os\n",
    "from pyspark.sql import functions as F, types as T, DataFrame\n",
    "from pyspark.sql import SparkSession\n",
    "import html, re"
   ]
  },
  {
   "cell_type": "code",
   "execution_count": 4,
   "metadata": {},
   "outputs": [
    {
     "name": "stderr",
     "output_type": "stream",
     "text": [
      "c:\\Users\\User\\AppData\\Local\\Programs\\Python\\Python311\\Lib\\site-packages\\tensorflow_hub\\__init__.py:61: UserWarning: pkg_resources is deprecated as an API. See https://setuptools.pypa.io/en/latest/pkg_resources.html. The pkg_resources package is slated for removal as early as 2025-11-30. Refrain from using this package or pin to Setuptools<81.\n",
      "  from pkg_resources import parse_version\n"
     ]
    },
    {
     "name": "stdout",
     "output_type": "stream",
     "text": [
      "WARNING:tensorflow:From c:\\Users\\User\\AppData\\Local\\Programs\\Python\\Python311\\Lib\\site-packages\\tf_keras\\src\\losses.py:2976: The name tf.losses.sparse_softmax_cross_entropy is deprecated. Please use tf.compat.v1.losses.sparse_softmax_cross_entropy instead.\n",
      "\n"
     ]
    }
   ],
   "source": [
    "from src.utils import SparkUtils\n",
    "from src.config import BASE_JSON_PATH"
   ]
  },
  {
   "cell_type": "markdown",
   "metadata": {},
   "source": [
    "## Definición de variables necesarias"
   ]
  },
  {
   "cell_type": "code",
   "execution_count": 5,
   "metadata": {},
   "outputs": [],
   "source": [
    "REGENERATE_INTERMEDIATE = True"
   ]
  },
  {
   "cell_type": "code",
   "execution_count": 6,
   "metadata": {},
   "outputs": [],
   "source": [
    "spark_utils = SparkUtils('consume')"
   ]
  },
  {
   "cell_type": "code",
   "execution_count": 7,
   "metadata": {},
   "outputs": [],
   "source": [
    "spark = spark_utils.spark"
   ]
  },
  {
   "cell_type": "markdown",
   "metadata": {},
   "source": [
    "## Importar información de caracterización de productos\n",
    "Se carga información de productos, incluyendo características abstraídas en su descripción, categoría principal, cantidad de referencias, calificación promedio, precio y código interno (parent_asin). Este último código refleja la categoría general del producto, descartando características particulares como color o presentación, lo cuál no se considerará dentro del estudio."
   ]
  },
  {
   "cell_type": "markdown",
   "metadata": {},
   "source": [
    "El esquema de los metadatos de items se compone de los campos descritos a continuación:"
   ]
  },
  {
   "cell_type": "code",
   "execution_count": 8,
   "metadata": {},
   "outputs": [],
   "source": [
    "item_schema = T.StructType([\n",
    "    T.StructField(\"title\", T.StringType(), True),\n",
    "    T.StructField(\"main_category\", T.StringType(), True),\n",
    "    T.StructField(\"features\", T.ArrayType( T.StringType() ), True),\n",
    "    T.StructField(\"description\", T.ArrayType( T.StringType() ), True),\n",
    "    T.StructField(\"average_rating\", T.FloatType(), True),\n",
    "    T.StructField(\"rating_number\", T.IntegerType(), True),\n",
    "    T.StructField(\"price\", T.DoubleType(), True),\n",
    "    T.StructField(\"store\", T.StringType(), True),\n",
    "    T.StructField(\"parent_asin\", T.StringType(), True),\n",
    "    T.StructField(\"categories\", T.ArrayType(T.StringType()), True),\n",
    "    T.StructField(\"details\", T.StringType(), True),\n",
    "    T.StructField(\"images\", T.ArrayType(T.StringType()), True),\n",
    "])"
   ]
  },
  {
   "cell_type": "markdown",
   "metadata": {},
   "source": [
    "#### Se consideran 4 categorìas: Software, Electrónicos, Celulares & Accesorios y Videojuegos."
   ]
  },
  {
   "cell_type": "code",
   "execution_count": 9,
   "metadata": {},
   "outputs": [],
   "source": [
    "def load_category_data( path ) -> DataFrame:\n",
    "    file = (\n",
    "        spark.read\n",
    "            .format('json')\n",
    "            .option(\"quote\",'/\"')\n",
    "            .schema(item_schema)\n",
    "            .load(path)\n",
    "        )\n",
    "\n",
    "    return file"
   ]
  },
  {
   "cell_type": "code",
   "execution_count": 10,
   "metadata": {},
   "outputs": [],
   "source": [
    "def merge_dfs( *args ):\n",
    "    base = args[0]\n",
    "    for i in range(1, len(args)):\n",
    "        base = base.unionByName( args[i] )\n",
    "\n",
    "    return base"
   ]
  },
  {
   "cell_type": "code",
   "execution_count": 11,
   "metadata": {},
   "outputs": [],
   "source": [
    "if REGENERATE_INTERMEDIATE:\n",
    "    meta_software = load_category_data( f\"{BASE_JSON_PATH}/meta_categories/meta_Software.jsonl\" )\n",
    "    meta_electronics = load_category_data( f\"{BASE_JSON_PATH}/meta_categories/meta_Electronics.jsonl\" )\n",
    "    meta_Cell_Phones_and_Accessories = load_category_data( f\"{BASE_JSON_PATH}/meta_categories/meta_Cell_Phones_and_Accessories.jsonl\" )\n",
    "    meta_Video_Games = load_category_data( f\"{BASE_JSON_PATH}/meta_categories/meta_Video_Games.jsonl\" )\n",
    "\n",
    "    unified_meta_items = merge_dfs(\n",
    "        meta_software, meta_electronics,\n",
    "        meta_Cell_Phones_and_Accessories, meta_Video_Games\n",
    "    )\n",
    "\n",
    "    (\n",
    "        unified_meta_items.write\n",
    "            .format('delta')\n",
    "            .mode('overwrite')\n",
    "            .save(\n",
    "                spark_utils.path('meta_items')\n",
    "            )\n",
    "    )\n",
    "\n",
    "unified_meta_items = spark.read.format('delta').load(spark_utils.path('meta_items'))"
   ]
  },
  {
   "cell_type": "markdown",
   "metadata": {},
   "source": [
    "##### Cantidad de productos totales distintos"
   ]
  },
  {
   "cell_type": "markdown",
   "metadata": {},
   "source": [
    "Se encuentran un total de 7'854.088 productos distintos dentro de las categorías preseleccionadas"
   ]
  },
  {
   "cell_type": "code",
   "execution_count": 12,
   "metadata": {},
   "outputs": [
    {
     "data": {
      "text/plain": [
       "3125022"
      ]
     },
     "execution_count": 12,
     "metadata": {},
     "output_type": "execute_result"
    }
   ],
   "source": [
    "unified_meta_items.count()"
   ]
  },
  {
   "cell_type": "markdown",
   "metadata": {},
   "source": [
    "Se revisa la cantidad de productos padres distintos, es decir, productos reales descartando variantes como color y presentaciòn"
   ]
  },
  {
   "cell_type": "markdown",
   "metadata": {},
   "source": [
    "Descartando varianetes de productos, se encuentran 89.251 productos diferentes entre las categorías seleccionadas"
   ]
  },
  {
   "cell_type": "code",
   "execution_count": 13,
   "metadata": {},
   "outputs": [
    {
     "data": {
      "text/plain": [
       "3125022"
      ]
     },
     "execution_count": 13,
     "metadata": {},
     "output_type": "execute_result"
    }
   ],
   "source": [
    "unified_meta_items[['parent_asin']].distinct().count()"
   ]
  },
  {
   "cell_type": "markdown",
   "metadata": {},
   "source": [
    "## Importar información de referencias de usuarios del producto\n",
    "Se carga información de opiniones de usuarios sobre diferentes productos. Los productos se califican en un rango de 1 a 5, incluyendo un título y texto, así mismo, se incluye información de imágenes, código de la variante del producto, código padre del producto (descartando variantes como color, presentación, etc), identificador de usuario, hora de la revisión, y calificación de la referencia (helpful)."
   ]
  },
  {
   "cell_type": "code",
   "execution_count": 14,
   "metadata": {},
   "outputs": [],
   "source": [
    "review_schema = T.StructType([\n",
    "    T.StructField(\"rating\", T.FloatType(), True),\n",
    "    T.StructField(\"title\", T.StringType(), True),\n",
    "    T.StructField(\"text\", T.StringType(), True),\n",
    "    T.StructField(\"timestamp\", T.StringType(), True),\n",
    "    T.StructField(\"helpful_vote\", T.IntegerType(), True),\n",
    "    T.StructField(\"parent_asin\", T.StringType(), True),\n",
    "    T.StructField(\"images\", T.ArrayType(T.StringType()), True),\n",
    "])"
   ]
  },
  {
   "cell_type": "code",
   "execution_count": 15,
   "metadata": {},
   "outputs": [],
   "source": [
    "def load_review_data( path ) -> DataFrame:\n",
    "    file = (\n",
    "        spark.read\n",
    "            .format('json')\n",
    "            .option(\"quote\",'/\"')\n",
    "            .schema(review_schema)\n",
    "            .load(path)\n",
    "        )\n",
    "\n",
    "    return file"
   ]
  },
  {
   "cell_type": "code",
   "execution_count": 16,
   "metadata": {},
   "outputs": [],
   "source": [
    "if REGENERATE_INTERMEDIATE:\n",
    "\n",
    "    software = load_review_data( f\"{BASE_JSON_PATH}/review_categories/Software.jsonl\" )\n",
    "    electronics = load_review_data( f\"{BASE_JSON_PATH}/review_categories/Electronics.jsonl\" )\n",
    "    cell_Phones_and_Accessories = load_review_data( f\"{BASE_JSON_PATH}/review_categories/Cell_Phones_and_Accessories.jsonl\" )\n",
    "    video_Games = load_review_data( f\"{BASE_JSON_PATH}/review_categories/Video_Games.jsonl\" )\n",
    "\n",
    "    unified_reviews = (\n",
    "        software.unionByName(\n",
    "            electronics.unionByName(\n",
    "                cell_Phones_and_Accessories.unionByName(\n",
    "                    video_Games\n",
    "                )\n",
    "            )\n",
    "        )\n",
    "    )\n",
    "\n",
    "    (\n",
    "        unified_reviews.write\n",
    "            .format('delta')\n",
    "            .mode('overwrite')\n",
    "            .save(spark_utils.path('reviews'))\n",
    "    )\n",
    "\n",
    "unified_reviews = spark.read.format('delta').load(spark_utils.path('reviews'))"
   ]
  },
  {
   "cell_type": "markdown",
   "metadata": {},
   "source": [
    "Se encuentran un total de 222'614.055 reseñas de productos diferentes para las categorías preselccionadsa"
   ]
  },
  {
   "cell_type": "code",
   "execution_count": 17,
   "metadata": {},
   "outputs": [
    {
     "data": {
      "text/plain": [
       "74204685"
      ]
     },
     "execution_count": 17,
     "metadata": {},
     "output_type": "execute_result"
    }
   ],
   "source": [
    "unified_reviews.count()"
   ]
  },
  {
   "cell_type": "markdown",
   "metadata": {},
   "source": [
    "## Limpieza de textos\n",
    "Algunos elementos de referencias de productos poseen carácteres derivados de HTML y carácteres especiales. Al tratarse de una representación semántica, se requiere de la transformación de dichos textos"
   ]
  },
  {
   "cell_type": "code",
   "execution_count": 18,
   "metadata": {},
   "outputs": [],
   "source": [
    "def clean_text(text):\n",
    "    if text is None:\n",
    "        return None\n",
    "    text = html.unescape(text)\n",
    "    text = re.sub(r'<[^>]+>', ' ', text)\n",
    "    text = re.sub(r'\\s+', ' ', text)\n",
    "    return text.strip()"
   ]
  },
  {
   "cell_type": "code",
   "execution_count": 19,
   "metadata": {},
   "outputs": [],
   "source": [
    "clean_text_udf = F.udf(clean_text, T.StringType())"
   ]
  },
  {
   "cell_type": "code",
   "execution_count": 20,
   "metadata": {},
   "outputs": [],
   "source": [
    "if REGENERATE_INTERMEDIATE:\n",
    "\n",
    "    unified_reviews_clean = (\n",
    "        unified_reviews.withColumn(\n",
    "            'text', clean_text_udf( F.col('text') )\n",
    "        )\n",
    "    )\n",
    "\n",
    "    (\n",
    "        unified_reviews_clean.write\n",
    "            .format('delta')\n",
    "            .mode('overwrite')\n",
    "            .save(spark_utils.path('reviews_clean'))\n",
    "    )\n",
    "\n",
    "unified_reviews_clean = spark.read.parquet(spark_utils.path('reviews_clean'))"
   ]
  },
  {
   "cell_type": "code",
   "execution_count": 21,
   "metadata": {},
   "outputs": [
    {
     "data": {
      "text/plain": [
       "74204685"
      ]
     },
     "execution_count": 21,
     "metadata": {},
     "output_type": "execute_result"
    }
   ],
   "source": [
    "unified_reviews.count()"
   ]
  }
 ],
 "metadata": {
  "kernelspec": {
   "display_name": "Python 3",
   "language": "python",
   "name": "python3"
  },
  "language_info": {
   "codemirror_mode": {
    "name": "ipython",
    "version": 3
   },
   "file_extension": ".py",
   "mimetype": "text/x-python",
   "name": "python",
   "nbconvert_exporter": "python",
   "pygments_lexer": "ipython3",
   "version": "3.11.0"
  }
 },
 "nbformat": 4,
 "nbformat_minor": 2
}
