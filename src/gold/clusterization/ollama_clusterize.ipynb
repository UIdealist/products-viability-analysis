{
 "cells": [
  {
   "cell_type": "markdown",
   "id": "54afa27a",
   "metadata": {},
   "source": [
    "# Clusterización de información de productos en función de características"
   ]
  },
  {
   "cell_type": "markdown",
   "id": "dcd8766c",
   "metadata": {},
   "source": [
    "## Importación de librerias necesarias"
   ]
  },
  {
   "cell_type": "code",
   "execution_count": 1,
   "id": "f0bd7b57",
   "metadata": {},
   "outputs": [],
   "source": [
    "%load_ext IPython.extensions.autoreload\n",
    "%autoreload 2"
   ]
  },
  {
   "cell_type": "code",
   "execution_count": 2,
   "id": "a140a702",
   "metadata": {},
   "outputs": [],
   "source": [
    "import sys\n",
    "from pathlib import Path\n",
    "\n",
    "def find_src_folder(current_path: Path, folder_name: str = 'src') -> Path:\n",
    "    search_directories = [current_path] + list(current_path.parents)\n",
    "    for parent in search_directories:\n",
    "        if parent.name == folder_name:\n",
    "            return parent.parent\n",
    "    return current_path\n",
    "\n",
    "src_path = find_src_folder(Path.cwd(), 'src')\n",
    "sys.path.append(str(src_path))"
   ]
  },
  {
   "cell_type": "code",
   "execution_count": 3,
   "id": "861cab7f",
   "metadata": {},
   "outputs": [
    {
     "name": "stderr",
     "output_type": "stream",
     "text": [
      "2025-06-15 22:07:55.179110: I external/local_xla/xla/tsl/cuda/cudart_stub.cc:32] Could not find cuda drivers on your machine, GPU will not be used.\n",
      "2025-06-15 22:07:55.342647: I external/local_xla/xla/tsl/cuda/cudart_stub.cc:32] Could not find cuda drivers on your machine, GPU will not be used.\n",
      "2025-06-15 22:07:55.487910: E external/local_xla/xla/stream_executor/cuda/cuda_fft.cc:477] Unable to register cuFFT factory: Attempting to register factory for plugin cuFFT when one has already been registered\n",
      "WARNING: All log messages before absl::InitializeLog() is called are written to STDERR\n",
      "E0000 00:00:1750043275.595708  100033 cuda_dnn.cc:8310] Unable to register cuDNN factory: Attempting to register factory for plugin cuDNN when one has already been registered\n",
      "E0000 00:00:1750043275.630538  100033 cuda_blas.cc:1418] Unable to register cuBLAS factory: Attempting to register factory for plugin cuBLAS when one has already been registered\n",
      "2025-06-15 22:07:55.939438: I tensorflow/core/platform/cpu_feature_guard.cc:210] This TensorFlow binary is optimized to use available CPU instructions in performance-critical operations.\n",
      "To enable the following instructions: AVX2 FMA, in other operations, rebuild TensorFlow with the appropriate compiler flags.\n"
     ]
    }
   ],
   "source": [
    "from sklearn.decomposition import PCA\n",
    "from sklearn.cluster import DBSCAN\n",
    "from sklearn.cluster import AgglomerativeClustering\n",
    "\n",
    "import matplotlib.pyplot as plt\n",
    "\n",
    "import tensorflow as tf\n",
    "import numpy as np\n",
    "\n",
    "import pandas as pd\n",
    "\n",
    "from matplotlib.ticker import FuncFormatter\n",
    "\n",
    "import tensorflow_hub as hub\n",
    "\n",
    "from sklearn.neighbors import NearestNeighbors\n",
    "\n",
    "from langchain_ollama.embeddings import OllamaEmbeddings\n",
    "\n",
    "from sklearn.cluster import DBSCAN\n",
    "\n",
    "from src.utils import SparkUtils"
   ]
  },
  {
   "cell_type": "code",
   "execution_count": 4,
   "id": "f161bccc",
   "metadata": {},
   "outputs": [
    {
     "name": "stderr",
     "output_type": "stream",
     "text": [
      "your 131072x1 screen size is bogus. expect trouble\n",
      "Warning: Ignoring non-Spark config property: javax.jdo.option.ConnectionURL\n",
      "25/06/15 22:09:04 WARN Utils: Your hostname, ASUSPRIMEA520MAII resolves to a loopback address: 127.0.1.1; using 10.255.255.254 instead (on interface lo)\n",
      "25/06/15 22:09:04 WARN Utils: Set SPARK_LOCAL_IP if you need to bind to another address\n"
     ]
    },
    {
     "name": "stdout",
     "output_type": "stream",
     "text": [
      ":: loading settings :: url = jar:file:/mnt/c/Users/User/Documents/Maestr%c3%ada/Amazon%20Reviews%20Code/.venv/lib/python3.10/site-packages/pyspark/jars/ivy-2.5.1.jar!/org/apache/ivy/core/settings/ivysettings.xml\n"
     ]
    },
    {
     "name": "stderr",
     "output_type": "stream",
     "text": [
      "Ivy Default Cache set to: /home/edgar/.ivy2/cache\n",
      "The jars for the packages stored in: /home/edgar/.ivy2/jars\n",
      "io.delta#delta-spark_2.12 added as a dependency\n",
      ":: resolving dependencies :: org.apache.spark#spark-submit-parent-082e604b-dc38-4709-b6f6-3e76eec32304;1.0\n",
      "\tconfs: [default]\n",
      "\tfound io.delta#delta-spark_2.12;3.3.1 in central\n",
      "\tfound io.delta#delta-storage;3.3.1 in central\n",
      "\tfound org.antlr#antlr4-runtime;4.9.3 in central\n",
      ":: resolution report :: resolve 231ms :: artifacts dl 7ms\n",
      "\t:: modules in use:\n",
      "\tio.delta#delta-spark_2.12;3.3.1 from central in [default]\n",
      "\tio.delta#delta-storage;3.3.1 from central in [default]\n",
      "\torg.antlr#antlr4-runtime;4.9.3 from central in [default]\n",
      "\t---------------------------------------------------------------------\n",
      "\t|                  |            modules            ||   artifacts   |\n",
      "\t|       conf       | number| search|dwnlded|evicted|| number|dwnlded|\n",
      "\t---------------------------------------------------------------------\n",
      "\t|      default     |   3   |   0   |   0   |   0   ||   3   |   0   |\n",
      "\t---------------------------------------------------------------------\n",
      ":: retrieving :: org.apache.spark#spark-submit-parent-082e604b-dc38-4709-b6f6-3e76eec32304\n",
      "\tconfs: [default]\n",
      "\t0 artifacts copied, 3 already retrieved (0kB/6ms)\n",
      "25/06/15 22:09:05 WARN NativeCodeLoader: Unable to load native-hadoop library for your platform... using builtin-java classes where applicable\n",
      "Setting default log level to \"WARN\".\n",
      "To adjust logging level use sc.setLogLevel(newLevel). For SparkR, use setLogLevel(newLevel).\n"
     ]
    }
   ],
   "source": [
    "spark_utils = SparkUtils()"
   ]
  },
  {
   "cell_type": "markdown",
   "id": "ec5ebbf1",
   "metadata": {},
   "source": [
    "## Cargar modelo embedding (Llama3)"
   ]
  },
  {
   "cell_type": "code",
   "execution_count": 5,
   "id": "b6650ba8",
   "metadata": {},
   "outputs": [],
   "source": [
    "model = OllamaEmbeddings( model = 'llama3' )"
   ]
  },
  {
   "cell_type": "markdown",
   "id": "04ea1430",
   "metadata": {},
   "source": [
    "## Generar agrupación basada en título de primera cuantificación de item "
   ]
  },
  {
   "cell_type": "markdown",
   "id": "d30bb42e",
   "metadata": {},
   "source": [
    "#### Cargar información de títulos"
   ]
  },
  {
   "cell_type": "code",
   "execution_count": 6,
   "id": "0b70676c",
   "metadata": {},
   "outputs": [
    {
     "name": "stderr",
     "output_type": "stream",
     "text": [
      "                                                                                \r"
     ]
    }
   ],
   "source": [
    "meta_items_pandas_sample = spark_utils.get_meta_items_sample( 100 )"
   ]
  },
  {
   "cell_type": "code",
   "execution_count": 7,
   "id": "bc10ca6c",
   "metadata": {},
   "outputs": [],
   "source": [
    "sentences = meta_items_pandas_sample['title'].to_list()"
   ]
  },
  {
   "cell_type": "code",
   "execution_count": 8,
   "id": "54101ca5",
   "metadata": {},
   "outputs": [],
   "source": [
    "embeddings = model.embed_documents( sentences )"
   ]
  },
  {
   "cell_type": "code",
   "execution_count": 9,
   "id": "66afc7b8",
   "metadata": {},
   "outputs": [
    {
     "data": {
      "text/plain": [
       "(100, 4096)"
      ]
     },
     "execution_count": 9,
     "metadata": {},
     "output_type": "execute_result"
    }
   ],
   "source": [
    "embeddings_np = np.array( embeddings )\n",
    "embeddings_np.shape"
   ]
  },
  {
   "cell_type": "markdown",
   "id": "38ef40f9",
   "metadata": {},
   "source": [
    "#### Agglomerative Clustering"
   ]
  },
  {
   "cell_type": "code",
   "execution_count": 10,
   "id": "b6de0d24",
   "metadata": {},
   "outputs": [],
   "source": [
    "N_AGGLOMERATIVE_CLUSTERS = 5"
   ]
  },
  {
   "cell_type": "code",
   "execution_count": 11,
   "id": "27eea9d9",
   "metadata": {},
   "outputs": [],
   "source": [
    "agg_model = AgglomerativeClustering(n_clusters=N_AGGLOMERATIVE_CLUSTERS, linkage='ward')\n",
    "labels = agg_model.fit_predict(embeddings_np)\n",
    "\n",
    "meta_items_pandas_sample['agg_cluster'] = labels"
   ]
  },
  {
   "cell_type": "markdown",
   "id": "42f53ac9",
   "metadata": {},
   "source": [
    "**Examinar agrupaciones resultado**"
   ]
  },
  {
   "cell_type": "markdown",
   "id": "b51693da",
   "metadata": {},
   "source": [
    "Examinar ejemplos de cada una de las agrupaciones generadas"
   ]
  },
  {
   "cell_type": "code",
   "execution_count": 12,
   "id": "a8206e0c",
   "metadata": {},
   "outputs": [
    {
     "name": "stdout",
     "output_type": "stream",
     "text": [
      ">>>> Cluster 1\n"
     ]
    },
    {
     "data": {
      "application/vnd.microsoft.datawrangler.viewer.v0+json": {
       "columns": [
        {
         "name": "index",
         "rawType": "int64",
         "type": "integer"
        },
        {
         "name": "title",
         "rawType": "object",
         "type": "string"
        },
        {
         "name": "agg_cluster",
         "rawType": "int64",
         "type": "integer"
        }
       ],
       "ref": "7331345a-534e-418d-9a41-9baa53e42bf0",
       "rows": [
        [
         "1",
         "Ankylosaurus Fights Back - Smithsonian's Prehistoric Pals",
         "0"
        ],
        [
         "4",
         "Traffic Police: Off-Road Cub",
         "0"
        ],
        [
         "5",
         "Shadow Fighting Superhero War",
         "0"
        ],
        [
         "6",
         "My Aquarium - Hidden Object Challenge # 122",
         "0"
        ],
        [
         "7",
         "Giant Surprise Petcage! Unlock Superhero Puppy",
         "0"
        ],
        [
         "8",
         "Ac Market tips",
         "0"
        ],
        [
         "12",
         "RoverCraft Race Your Space Car",
         "0"
        ],
        [
         "13",
         "HALLOWEEN MATCH 3 IN A ROW",
         "0"
        ],
        [
         "21",
         "New Coupons, Daily Deals and Freebies - Updated Daily",
         "0"
        ],
        [
         "24",
         "Soccer by Fawesome.tv",
         "0"
        ]
       ],
       "shape": {
        "columns": 2,
        "rows": 10
       }
      },
      "text/html": [
       "<div>\n",
       "<style scoped>\n",
       "    .dataframe tbody tr th:only-of-type {\n",
       "        vertical-align: middle;\n",
       "    }\n",
       "\n",
       "    .dataframe tbody tr th {\n",
       "        vertical-align: top;\n",
       "    }\n",
       "\n",
       "    .dataframe thead th {\n",
       "        text-align: right;\n",
       "    }\n",
       "</style>\n",
       "<table border=\"1\" class=\"dataframe\">\n",
       "  <thead>\n",
       "    <tr style=\"text-align: right;\">\n",
       "      <th></th>\n",
       "      <th>title</th>\n",
       "      <th>agg_cluster</th>\n",
       "    </tr>\n",
       "  </thead>\n",
       "  <tbody>\n",
       "    <tr>\n",
       "      <th>1</th>\n",
       "      <td>Ankylosaurus Fights Back - Smithsonian's Prehi...</td>\n",
       "      <td>0</td>\n",
       "    </tr>\n",
       "    <tr>\n",
       "      <th>4</th>\n",
       "      <td>Traffic Police: Off-Road Cub</td>\n",
       "      <td>0</td>\n",
       "    </tr>\n",
       "    <tr>\n",
       "      <th>5</th>\n",
       "      <td>Shadow Fighting Superhero War</td>\n",
       "      <td>0</td>\n",
       "    </tr>\n",
       "    <tr>\n",
       "      <th>6</th>\n",
       "      <td>My Aquarium - Hidden Object Challenge # 122</td>\n",
       "      <td>0</td>\n",
       "    </tr>\n",
       "    <tr>\n",
       "      <th>7</th>\n",
       "      <td>Giant Surprise Petcage! Unlock Superhero Puppy</td>\n",
       "      <td>0</td>\n",
       "    </tr>\n",
       "    <tr>\n",
       "      <th>8</th>\n",
       "      <td>Ac Market tips</td>\n",
       "      <td>0</td>\n",
       "    </tr>\n",
       "    <tr>\n",
       "      <th>12</th>\n",
       "      <td>RoverCraft Race Your Space Car</td>\n",
       "      <td>0</td>\n",
       "    </tr>\n",
       "    <tr>\n",
       "      <th>13</th>\n",
       "      <td>HALLOWEEN MATCH 3 IN A ROW</td>\n",
       "      <td>0</td>\n",
       "    </tr>\n",
       "    <tr>\n",
       "      <th>21</th>\n",
       "      <td>New Coupons, Daily Deals and Freebies - Update...</td>\n",
       "      <td>0</td>\n",
       "    </tr>\n",
       "    <tr>\n",
       "      <th>24</th>\n",
       "      <td>Soccer by Fawesome.tv</td>\n",
       "      <td>0</td>\n",
       "    </tr>\n",
       "  </tbody>\n",
       "</table>\n",
       "</div>"
      ],
      "text/plain": [
       "                                                title  agg_cluster\n",
       "1   Ankylosaurus Fights Back - Smithsonian's Prehi...            0\n",
       "4                        Traffic Police: Off-Road Cub            0\n",
       "5                       Shadow Fighting Superhero War            0\n",
       "6         My Aquarium - Hidden Object Challenge # 122            0\n",
       "7      Giant Surprise Petcage! Unlock Superhero Puppy            0\n",
       "8                                      Ac Market tips            0\n",
       "12                     RoverCraft Race Your Space Car            0\n",
       "13                         HALLOWEEN MATCH 3 IN A ROW            0\n",
       "21  New Coupons, Daily Deals and Freebies - Update...            0\n",
       "24                              Soccer by Fawesome.tv            0"
      ]
     },
     "metadata": {},
     "output_type": "display_data"
    },
    {
     "name": "stdout",
     "output_type": "stream",
     "text": [
      ">>>>\n",
      "\n",
      ">>>> Cluster 2\n"
     ]
    },
    {
     "data": {
      "application/vnd.microsoft.datawrangler.viewer.v0+json": {
       "columns": [
        {
         "name": "index",
         "rawType": "int64",
         "type": "integer"
        },
        {
         "name": "title",
         "rawType": "object",
         "type": "string"
        },
        {
         "name": "agg_cluster",
         "rawType": "int64",
         "type": "integer"
        }
       ],
       "ref": "067553b3-e165-4ed9-9d6d-176128b8d762",
       "rows": [
        [
         "0",
         "Accupressure Guide",
         "1"
        ],
        [
         "2",
         "Mahjong 2015",
         "1"
        ],
        [
         "9",
         "Gem Shopping Network",
         "1"
        ],
        [
         "14",
         "For Rent: Haunted House",
         "1"
        ],
        [
         "15",
         "Fat Dragons",
         "1"
        ],
        [
         "17",
         "Line Rider",
         "1"
        ],
        [
         "18",
         "World Explorer",
         "1"
        ],
        [
         "22",
         "Hide and Seek",
         "1"
        ],
        [
         "23",
         "London Transport Status",
         "1"
        ],
        [
         "27",
         "Schwab Advisor Center® Mobile",
         "1"
        ]
       ],
       "shape": {
        "columns": 2,
        "rows": 10
       }
      },
      "text/html": [
       "<div>\n",
       "<style scoped>\n",
       "    .dataframe tbody tr th:only-of-type {\n",
       "        vertical-align: middle;\n",
       "    }\n",
       "\n",
       "    .dataframe tbody tr th {\n",
       "        vertical-align: top;\n",
       "    }\n",
       "\n",
       "    .dataframe thead th {\n",
       "        text-align: right;\n",
       "    }\n",
       "</style>\n",
       "<table border=\"1\" class=\"dataframe\">\n",
       "  <thead>\n",
       "    <tr style=\"text-align: right;\">\n",
       "      <th></th>\n",
       "      <th>title</th>\n",
       "      <th>agg_cluster</th>\n",
       "    </tr>\n",
       "  </thead>\n",
       "  <tbody>\n",
       "    <tr>\n",
       "      <th>0</th>\n",
       "      <td>Accupressure Guide</td>\n",
       "      <td>1</td>\n",
       "    </tr>\n",
       "    <tr>\n",
       "      <th>2</th>\n",
       "      <td>Mahjong 2015</td>\n",
       "      <td>1</td>\n",
       "    </tr>\n",
       "    <tr>\n",
       "      <th>9</th>\n",
       "      <td>Gem Shopping Network</td>\n",
       "      <td>1</td>\n",
       "    </tr>\n",
       "    <tr>\n",
       "      <th>14</th>\n",
       "      <td>For Rent: Haunted House</td>\n",
       "      <td>1</td>\n",
       "    </tr>\n",
       "    <tr>\n",
       "      <th>15</th>\n",
       "      <td>Fat Dragons</td>\n",
       "      <td>1</td>\n",
       "    </tr>\n",
       "    <tr>\n",
       "      <th>17</th>\n",
       "      <td>Line Rider</td>\n",
       "      <td>1</td>\n",
       "    </tr>\n",
       "    <tr>\n",
       "      <th>18</th>\n",
       "      <td>World Explorer</td>\n",
       "      <td>1</td>\n",
       "    </tr>\n",
       "    <tr>\n",
       "      <th>22</th>\n",
       "      <td>Hide and Seek</td>\n",
       "      <td>1</td>\n",
       "    </tr>\n",
       "    <tr>\n",
       "      <th>23</th>\n",
       "      <td>London Transport Status</td>\n",
       "      <td>1</td>\n",
       "    </tr>\n",
       "    <tr>\n",
       "      <th>27</th>\n",
       "      <td>Schwab Advisor Center® Mobile</td>\n",
       "      <td>1</td>\n",
       "    </tr>\n",
       "  </tbody>\n",
       "</table>\n",
       "</div>"
      ],
      "text/plain": [
       "                            title  agg_cluster\n",
       "0              Accupressure Guide            1\n",
       "2                    Mahjong 2015            1\n",
       "9            Gem Shopping Network            1\n",
       "14        For Rent: Haunted House            1\n",
       "15                    Fat Dragons            1\n",
       "17                     Line Rider            1\n",
       "18                 World Explorer            1\n",
       "22                  Hide and Seek            1\n",
       "23        London Transport Status            1\n",
       "27  Schwab Advisor Center® Mobile            1"
      ]
     },
     "metadata": {},
     "output_type": "display_data"
    },
    {
     "name": "stdout",
     "output_type": "stream",
     "text": [
      ">>>>\n",
      "\n",
      ">>>> Cluster 3\n"
     ]
    },
    {
     "data": {
      "application/vnd.microsoft.datawrangler.viewer.v0+json": {
       "columns": [
        {
         "name": "index",
         "rawType": "int64",
         "type": "integer"
        },
        {
         "name": "title",
         "rawType": "object",
         "type": "string"
        },
        {
         "name": "agg_cluster",
         "rawType": "int64",
         "type": "integer"
        }
       ],
       "ref": "b004f9b7-ff20-4a6c-b3c7-210d403dd6af",
       "rows": [
        [
         "10",
         "Piano Wizard Premier With 49E Keystation",
         "2"
        ],
        [
         "19",
         "Corel PaintShop Pro X4 [Old Version]",
         "2"
        ],
        [
         "20",
         "Que Publishing 0789738252 Power Excel 2007 with Mr Excel (Video LiveLessons)",
         "2"
        ],
        [
         "45",
         "Microsoft Virtual PC for Mac 6.1 [Old Version]",
         "2"
        ],
        [
         "47",
         "AutoCAD Freestyle [Old Version]",
         "2"
        ],
        [
         "48",
         "Anime Studio Pro 9.5",
         "2"
        ],
        [
         "54",
         "Kaspersky Internet Security Multi-Device 2015 5 Devices, 1 Year",
         "2"
        ],
        [
         "60",
         "MyScript Studio Notes Edition [Download]",
         "2"
        ],
        [
         "69",
         "Family Historian 5 Deluxe Genealogy Software",
         "2"
        ],
        [
         "73",
         "Tell Me More v10 Spanish - 2 Levels",
         "2"
        ]
       ],
       "shape": {
        "columns": 2,
        "rows": 10
       }
      },
      "text/html": [
       "<div>\n",
       "<style scoped>\n",
       "    .dataframe tbody tr th:only-of-type {\n",
       "        vertical-align: middle;\n",
       "    }\n",
       "\n",
       "    .dataframe tbody tr th {\n",
       "        vertical-align: top;\n",
       "    }\n",
       "\n",
       "    .dataframe thead th {\n",
       "        text-align: right;\n",
       "    }\n",
       "</style>\n",
       "<table border=\"1\" class=\"dataframe\">\n",
       "  <thead>\n",
       "    <tr style=\"text-align: right;\">\n",
       "      <th></th>\n",
       "      <th>title</th>\n",
       "      <th>agg_cluster</th>\n",
       "    </tr>\n",
       "  </thead>\n",
       "  <tbody>\n",
       "    <tr>\n",
       "      <th>10</th>\n",
       "      <td>Piano Wizard Premier With 49E Keystation</td>\n",
       "      <td>2</td>\n",
       "    </tr>\n",
       "    <tr>\n",
       "      <th>19</th>\n",
       "      <td>Corel PaintShop Pro X4 [Old Version]</td>\n",
       "      <td>2</td>\n",
       "    </tr>\n",
       "    <tr>\n",
       "      <th>20</th>\n",
       "      <td>Que Publishing 0789738252 Power Excel 2007 wit...</td>\n",
       "      <td>2</td>\n",
       "    </tr>\n",
       "    <tr>\n",
       "      <th>45</th>\n",
       "      <td>Microsoft Virtual PC for Mac 6.1 [Old Version]</td>\n",
       "      <td>2</td>\n",
       "    </tr>\n",
       "    <tr>\n",
       "      <th>47</th>\n",
       "      <td>AutoCAD Freestyle [Old Version]</td>\n",
       "      <td>2</td>\n",
       "    </tr>\n",
       "    <tr>\n",
       "      <th>48</th>\n",
       "      <td>Anime Studio Pro 9.5</td>\n",
       "      <td>2</td>\n",
       "    </tr>\n",
       "    <tr>\n",
       "      <th>54</th>\n",
       "      <td>Kaspersky Internet Security Multi-Device 2015 ...</td>\n",
       "      <td>2</td>\n",
       "    </tr>\n",
       "    <tr>\n",
       "      <th>60</th>\n",
       "      <td>MyScript Studio Notes Edition [Download]</td>\n",
       "      <td>2</td>\n",
       "    </tr>\n",
       "    <tr>\n",
       "      <th>69</th>\n",
       "      <td>Family Historian 5 Deluxe Genealogy Software</td>\n",
       "      <td>2</td>\n",
       "    </tr>\n",
       "    <tr>\n",
       "      <th>73</th>\n",
       "      <td>Tell Me More v10 Spanish - 2 Levels</td>\n",
       "      <td>2</td>\n",
       "    </tr>\n",
       "  </tbody>\n",
       "</table>\n",
       "</div>"
      ],
      "text/plain": [
       "                                                title  agg_cluster\n",
       "10           Piano Wizard Premier With 49E Keystation            2\n",
       "19               Corel PaintShop Pro X4 [Old Version]            2\n",
       "20  Que Publishing 0789738252 Power Excel 2007 wit...            2\n",
       "45     Microsoft Virtual PC for Mac 6.1 [Old Version]            2\n",
       "47                    AutoCAD Freestyle [Old Version]            2\n",
       "48                               Anime Studio Pro 9.5            2\n",
       "54  Kaspersky Internet Security Multi-Device 2015 ...            2\n",
       "60           MyScript Studio Notes Edition [Download]            2\n",
       "69       Family Historian 5 Deluxe Genealogy Software            2\n",
       "73                Tell Me More v10 Spanish - 2 Levels            2"
      ]
     },
     "metadata": {},
     "output_type": "display_data"
    },
    {
     "name": "stdout",
     "output_type": "stream",
     "text": [
      ">>>>\n",
      "\n",
      ">>>> Cluster 4\n"
     ]
    },
    {
     "data": {
      "application/vnd.microsoft.datawrangler.viewer.v0+json": {
       "columns": [
        {
         "name": "index",
         "rawType": "int64",
         "type": "integer"
        },
        {
         "name": "title",
         "rawType": "object",
         "type": "string"
        },
        {
         "name": "agg_cluster",
         "rawType": "int64",
         "type": "integer"
        }
       ],
       "ref": "21e3c65f-61d5-4699-9b32-2b7864f2d999",
       "rows": [
        [
         "3",
         "Jewels Brick Breakout",
         "3"
        ],
        [
         "11",
         "Boxing Game 3D - Real Fighting",
         "3"
        ],
        [
         "16",
         "TrainMania Lite",
         "3"
        ],
        [
         "25",
         "Last Survivor - Zombie Attack - Free Survival Game",
         "3"
        ],
        [
         "39",
         "MMA Circuit Timer Pro",
         "3"
        ],
        [
         "52",
         "Oil Tycoon - Idle Clicker Game",
         "3"
        ],
        [
         "57",
         "Police Car Driver 2016",
         "3"
        ],
        [
         "61",
         "Full HD Borescope app PRO",
         "3"
        ],
        [
         "66",
         "Secret Message Pro",
         "3"
        ],
        [
         "67",
         "2048 Drop n Merge Numbers: Match 3 Columns Puzzle",
         "3"
        ]
       ],
       "shape": {
        "columns": 2,
        "rows": 10
       }
      },
      "text/html": [
       "<div>\n",
       "<style scoped>\n",
       "    .dataframe tbody tr th:only-of-type {\n",
       "        vertical-align: middle;\n",
       "    }\n",
       "\n",
       "    .dataframe tbody tr th {\n",
       "        vertical-align: top;\n",
       "    }\n",
       "\n",
       "    .dataframe thead th {\n",
       "        text-align: right;\n",
       "    }\n",
       "</style>\n",
       "<table border=\"1\" class=\"dataframe\">\n",
       "  <thead>\n",
       "    <tr style=\"text-align: right;\">\n",
       "      <th></th>\n",
       "      <th>title</th>\n",
       "      <th>agg_cluster</th>\n",
       "    </tr>\n",
       "  </thead>\n",
       "  <tbody>\n",
       "    <tr>\n",
       "      <th>3</th>\n",
       "      <td>Jewels Brick Breakout</td>\n",
       "      <td>3</td>\n",
       "    </tr>\n",
       "    <tr>\n",
       "      <th>11</th>\n",
       "      <td>Boxing Game 3D - Real Fighting</td>\n",
       "      <td>3</td>\n",
       "    </tr>\n",
       "    <tr>\n",
       "      <th>16</th>\n",
       "      <td>TrainMania Lite</td>\n",
       "      <td>3</td>\n",
       "    </tr>\n",
       "    <tr>\n",
       "      <th>25</th>\n",
       "      <td>Last Survivor - Zombie Attack - Free Survival ...</td>\n",
       "      <td>3</td>\n",
       "    </tr>\n",
       "    <tr>\n",
       "      <th>39</th>\n",
       "      <td>MMA Circuit Timer Pro</td>\n",
       "      <td>3</td>\n",
       "    </tr>\n",
       "    <tr>\n",
       "      <th>52</th>\n",
       "      <td>Oil Tycoon - Idle Clicker Game</td>\n",
       "      <td>3</td>\n",
       "    </tr>\n",
       "    <tr>\n",
       "      <th>57</th>\n",
       "      <td>Police Car Driver 2016</td>\n",
       "      <td>3</td>\n",
       "    </tr>\n",
       "    <tr>\n",
       "      <th>61</th>\n",
       "      <td>Full HD Borescope app PRO</td>\n",
       "      <td>3</td>\n",
       "    </tr>\n",
       "    <tr>\n",
       "      <th>66</th>\n",
       "      <td>Secret Message Pro</td>\n",
       "      <td>3</td>\n",
       "    </tr>\n",
       "    <tr>\n",
       "      <th>67</th>\n",
       "      <td>2048 Drop n Merge Numbers: Match 3 Columns Puzzle</td>\n",
       "      <td>3</td>\n",
       "    </tr>\n",
       "  </tbody>\n",
       "</table>\n",
       "</div>"
      ],
      "text/plain": [
       "                                                title  agg_cluster\n",
       "3                               Jewels Brick Breakout            3\n",
       "11                     Boxing Game 3D - Real Fighting            3\n",
       "16                                    TrainMania Lite            3\n",
       "25  Last Survivor - Zombie Attack - Free Survival ...            3\n",
       "39                              MMA Circuit Timer Pro            3\n",
       "52                     Oil Tycoon - Idle Clicker Game            3\n",
       "57                             Police Car Driver 2016            3\n",
       "61                          Full HD Borescope app PRO            3\n",
       "66                                 Secret Message Pro            3\n",
       "67  2048 Drop n Merge Numbers: Match 3 Columns Puzzle            3"
      ]
     },
     "metadata": {},
     "output_type": "display_data"
    },
    {
     "name": "stdout",
     "output_type": "stream",
     "text": [
      ">>>>\n",
      "\n",
      ">>>> Cluster 5\n"
     ]
    },
    {
     "data": {
      "application/vnd.microsoft.datawrangler.viewer.v0+json": {
       "columns": [
        {
         "name": "index",
         "rawType": "int64",
         "type": "integer"
        },
        {
         "name": "title",
         "rawType": "object",
         "type": "string"
        },
        {
         "name": "agg_cluster",
         "rawType": "int64",
         "type": "integer"
        }
       ],
       "ref": "4716fee5-560b-4598-8941-d4e56a62a3d8",
       "rows": [
        [
         "35",
         "Audio recorder mp3",
         "4"
        ],
        [
         "49",
         "html editor writer cpdmc",
         "4"
        ],
        [
         "79",
         "role playing chat",
         "4"
        ],
        [
         "96",
         "Lock Screen OS9 - Phone 6s",
         "4"
        ]
       ],
       "shape": {
        "columns": 2,
        "rows": 4
       }
      },
      "text/html": [
       "<div>\n",
       "<style scoped>\n",
       "    .dataframe tbody tr th:only-of-type {\n",
       "        vertical-align: middle;\n",
       "    }\n",
       "\n",
       "    .dataframe tbody tr th {\n",
       "        vertical-align: top;\n",
       "    }\n",
       "\n",
       "    .dataframe thead th {\n",
       "        text-align: right;\n",
       "    }\n",
       "</style>\n",
       "<table border=\"1\" class=\"dataframe\">\n",
       "  <thead>\n",
       "    <tr style=\"text-align: right;\">\n",
       "      <th></th>\n",
       "      <th>title</th>\n",
       "      <th>agg_cluster</th>\n",
       "    </tr>\n",
       "  </thead>\n",
       "  <tbody>\n",
       "    <tr>\n",
       "      <th>35</th>\n",
       "      <td>Audio recorder mp3</td>\n",
       "      <td>4</td>\n",
       "    </tr>\n",
       "    <tr>\n",
       "      <th>49</th>\n",
       "      <td>html editor writer cpdmc</td>\n",
       "      <td>4</td>\n",
       "    </tr>\n",
       "    <tr>\n",
       "      <th>79</th>\n",
       "      <td>role playing chat</td>\n",
       "      <td>4</td>\n",
       "    </tr>\n",
       "    <tr>\n",
       "      <th>96</th>\n",
       "      <td>Lock Screen OS9 - Phone 6s</td>\n",
       "      <td>4</td>\n",
       "    </tr>\n",
       "  </tbody>\n",
       "</table>\n",
       "</div>"
      ],
      "text/plain": [
       "                         title  agg_cluster\n",
       "35          Audio recorder mp3            4\n",
       "49    html editor writer cpdmc            4\n",
       "79           role playing chat            4\n",
       "96  Lock Screen OS9 - Phone 6s            4"
      ]
     },
     "metadata": {},
     "output_type": "display_data"
    },
    {
     "name": "stdout",
     "output_type": "stream",
     "text": [
      ">>>>\n",
      "\n"
     ]
    }
   ],
   "source": [
    "for i in range( N_AGGLOMERATIVE_CLUSTERS ):\n",
    "    print(f\">>>> Cluster {i + 1}\")\n",
    "    display( meta_items_pandas_sample[ meta_items_pandas_sample['agg_cluster'] == i ][['title', 'agg_cluster']].head(10) )\n",
    "    print(f\">>>>\\n\")"
   ]
  },
  {
   "cell_type": "markdown",
   "id": "2769ff5d",
   "metadata": {},
   "source": [
    "#### DBScan Clustering"
   ]
  },
  {
   "cell_type": "code",
   "execution_count": 24,
   "id": "2b717929",
   "metadata": {},
   "outputs": [
    {
     "data": {
      "image/png": "[encoded data removed]",
      "text/plain": [
       "<Figure size 800x400 with 1 Axes>"
      ]
     },
     "metadata": {},
     "output_type": "display_data"
    }
   ],
   "source": [
    "X = embeddings_np\n",
    "\n",
    "neighbors = NearestNeighbors(n_neighbors=5, metric='cosine')\n",
    "neighbors_fit = neighbors.fit(X)\n",
    "distances, indices = neighbors_fit.kneighbors(X)\n",
    "\n",
    "k_distances = np.sort(distances[:, 4])\n",
    "\n",
    "plt.figure(figsize=(8, 4))\n",
    "plt.plot(k_distances)\n",
    "plt.title(\"k-distance (k=10)\")\n",
    "plt.xlabel(\"Points sorted by distance to 10th nearest neighbor\")\n",
    "plt.ylabel(\"Cosine Distance\")\n",
    "plt.grid(True)\n",
    "plt.show()"
   ]
  },
  {
   "cell_type": "code",
   "execution_count": 25,
   "id": "5df6aff2",
   "metadata": {},
   "outputs": [],
   "source": [
    "dbscan_model = DBSCAN(\n",
    "    eps = 0.4,\n",
    "    metric = 'cosine',\n",
    "    min_samples = 5\n",
    ")"
   ]
  },
  {
   "cell_type": "code",
   "execution_count": 26,
   "id": "e45ca0ee",
   "metadata": {},
   "outputs": [],
   "source": [
    "meta_items_pandas_sample['dbscan_cluster'] = dbscan_model.fit_predict( embeddings_np )"
   ]
  },
  {
   "cell_type": "code",
   "execution_count": 27,
   "id": "2d1a1c01",
   "metadata": {},
   "outputs": [],
   "source": [
    "dbscan_labels = set(dbscan_model.labels_)"
   ]
  },
  {
   "cell_type": "code",
   "execution_count": 28,
   "id": "dcb3ea0e",
   "metadata": {},
   "outputs": [
    {
     "name": "stdout",
     "output_type": "stream",
     "text": [
      ">>>> Cluster 1\n"
     ]
    },
    {
     "data": {
      "application/vnd.microsoft.datawrangler.viewer.v0+json": {
       "columns": [
        {
         "name": "index",
         "rawType": "int64",
         "type": "integer"
        },
        {
         "name": "title",
         "rawType": "object",
         "type": "string"
        },
        {
         "name": "dbscan_cluster",
         "rawType": "int64",
         "type": "integer"
        }
       ],
       "ref": "2dfac1b0-0ff2-4fd4-a0d0-d5b9f7370107",
       "rows": [
        [
         "0",
         "Accupressure Guide",
         "0"
        ],
        [
         "1",
         "Ankylosaurus Fights Back - Smithsonian's Prehistoric Pals",
         "0"
        ],
        [
         "2",
         "Mahjong 2015",
         "0"
        ],
        [
         "3",
         "Jewels Brick Breakout",
         "0"
        ],
        [
         "5",
         "Shadow Fighting Superhero War",
         "0"
        ],
        [
         "6",
         "My Aquarium - Hidden Object Challenge # 122",
         "0"
        ],
        [
         "9",
         "Gem Shopping Network",
         "0"
        ],
        [
         "11",
         "Boxing Game 3D - Real Fighting",
         "0"
        ],
        [
         "12",
         "RoverCraft Race Your Space Car",
         "0"
        ],
        [
         "15",
         "Fat Dragons",
         "0"
        ]
       ],
       "shape": {
        "columns": 2,
        "rows": 10
       }
      },
      "text/html": [
       "<div>\n",
       "<style scoped>\n",
       "    .dataframe tbody tr th:only-of-type {\n",
       "        vertical-align: middle;\n",
       "    }\n",
       "\n",
       "    .dataframe tbody tr th {\n",
       "        vertical-align: top;\n",
       "    }\n",
       "\n",
       "    .dataframe thead th {\n",
       "        text-align: right;\n",
       "    }\n",
       "</style>\n",
       "<table border=\"1\" class=\"dataframe\">\n",
       "  <thead>\n",
       "    <tr style=\"text-align: right;\">\n",
       "      <th></th>\n",
       "      <th>title</th>\n",
       "      <th>dbscan_cluster</th>\n",
       "    </tr>\n",
       "  </thead>\n",
       "  <tbody>\n",
       "    <tr>\n",
       "      <th>0</th>\n",
       "      <td>Accupressure Guide</td>\n",
       "      <td>0</td>\n",
       "    </tr>\n",
       "    <tr>\n",
       "      <th>1</th>\n",
       "      <td>Ankylosaurus Fights Back - Smithsonian's Prehi...</td>\n",
       "      <td>0</td>\n",
       "    </tr>\n",
       "    <tr>\n",
       "      <th>2</th>\n",
       "      <td>Mahjong 2015</td>\n",
       "      <td>0</td>\n",
       "    </tr>\n",
       "    <tr>\n",
       "      <th>3</th>\n",
       "      <td>Jewels Brick Breakout</td>\n",
       "      <td>0</td>\n",
       "    </tr>\n",
       "    <tr>\n",
       "      <th>5</th>\n",
       "      <td>Shadow Fighting Superhero War</td>\n",
       "      <td>0</td>\n",
       "    </tr>\n",
       "    <tr>\n",
       "      <th>6</th>\n",
       "      <td>My Aquarium - Hidden Object Challenge # 122</td>\n",
       "      <td>0</td>\n",
       "    </tr>\n",
       "    <tr>\n",
       "      <th>9</th>\n",
       "      <td>Gem Shopping Network</td>\n",
       "      <td>0</td>\n",
       "    </tr>\n",
       "    <tr>\n",
       "      <th>11</th>\n",
       "      <td>Boxing Game 3D - Real Fighting</td>\n",
       "      <td>0</td>\n",
       "    </tr>\n",
       "    <tr>\n",
       "      <th>12</th>\n",
       "      <td>RoverCraft Race Your Space Car</td>\n",
       "      <td>0</td>\n",
       "    </tr>\n",
       "    <tr>\n",
       "      <th>15</th>\n",
       "      <td>Fat Dragons</td>\n",
       "      <td>0</td>\n",
       "    </tr>\n",
       "  </tbody>\n",
       "</table>\n",
       "</div>"
      ],
      "text/plain": [
       "                                                title  dbscan_cluster\n",
       "0                                  Accupressure Guide               0\n",
       "1   Ankylosaurus Fights Back - Smithsonian's Prehi...               0\n",
       "2                                        Mahjong 2015               0\n",
       "3                               Jewels Brick Breakout               0\n",
       "5                       Shadow Fighting Superhero War               0\n",
       "6         My Aquarium - Hidden Object Challenge # 122               0\n",
       "9                                Gem Shopping Network               0\n",
       "11                     Boxing Game 3D - Real Fighting               0\n",
       "12                     RoverCraft Race Your Space Car               0\n",
       "15                                        Fat Dragons               0"
      ]
     },
     "metadata": {},
     "output_type": "display_data"
    },
    {
     "name": "stdout",
     "output_type": "stream",
     "text": [
      ">>>>\n",
      "\n",
      ">>>> Cluster 0\n"
     ]
    },
    {
     "data": {
      "application/vnd.microsoft.datawrangler.viewer.v0+json": {
       "columns": [
        {
         "name": "index",
         "rawType": "int64",
         "type": "integer"
        },
        {
         "name": "title",
         "rawType": "object",
         "type": "string"
        },
        {
         "name": "dbscan_cluster",
         "rawType": "int64",
         "type": "integer"
        }
       ],
       "ref": "09fc47ce-f3b2-4a74-a923-9d420994410c",
       "rows": [
        [
         "4",
         "Traffic Police: Off-Road Cub",
         "-1"
        ],
        [
         "7",
         "Giant Surprise Petcage! Unlock Superhero Puppy",
         "-1"
        ],
        [
         "8",
         "Ac Market tips",
         "-1"
        ],
        [
         "10",
         "Piano Wizard Premier With 49E Keystation",
         "-1"
        ],
        [
         "13",
         "HALLOWEEN MATCH 3 IN A ROW",
         "-1"
        ],
        [
         "14",
         "For Rent: Haunted House",
         "-1"
        ],
        [
         "21",
         "New Coupons, Daily Deals and Freebies - Updated Daily",
         "-1"
        ],
        [
         "23",
         "London Transport Status",
         "-1"
        ],
        [
         "27",
         "Schwab Advisor Center® Mobile",
         "-1"
        ],
        [
         "28",
         "How to Start a Boarding School Plus Business Plan",
         "-1"
        ]
       ],
       "shape": {
        "columns": 2,
        "rows": 10
       }
      },
      "text/html": [
       "<div>\n",
       "<style scoped>\n",
       "    .dataframe tbody tr th:only-of-type {\n",
       "        vertical-align: middle;\n",
       "    }\n",
       "\n",
       "    .dataframe tbody tr th {\n",
       "        vertical-align: top;\n",
       "    }\n",
       "\n",
       "    .dataframe thead th {\n",
       "        text-align: right;\n",
       "    }\n",
       "</style>\n",
       "<table border=\"1\" class=\"dataframe\">\n",
       "  <thead>\n",
       "    <tr style=\"text-align: right;\">\n",
       "      <th></th>\n",
       "      <th>title</th>\n",
       "      <th>dbscan_cluster</th>\n",
       "    </tr>\n",
       "  </thead>\n",
       "  <tbody>\n",
       "    <tr>\n",
       "      <th>4</th>\n",
       "      <td>Traffic Police: Off-Road Cub</td>\n",
       "      <td>-1</td>\n",
       "    </tr>\n",
       "    <tr>\n",
       "      <th>7</th>\n",
       "      <td>Giant Surprise Petcage! Unlock Superhero Puppy</td>\n",
       "      <td>-1</td>\n",
       "    </tr>\n",
       "    <tr>\n",
       "      <th>8</th>\n",
       "      <td>Ac Market tips</td>\n",
       "      <td>-1</td>\n",
       "    </tr>\n",
       "    <tr>\n",
       "      <th>10</th>\n",
       "      <td>Piano Wizard Premier With 49E Keystation</td>\n",
       "      <td>-1</td>\n",
       "    </tr>\n",
       "    <tr>\n",
       "      <th>13</th>\n",
       "      <td>HALLOWEEN MATCH 3 IN A ROW</td>\n",
       "      <td>-1</td>\n",
       "    </tr>\n",
       "    <tr>\n",
       "      <th>14</th>\n",
       "      <td>For Rent: Haunted House</td>\n",
       "      <td>-1</td>\n",
       "    </tr>\n",
       "    <tr>\n",
       "      <th>21</th>\n",
       "      <td>New Coupons, Daily Deals and Freebies - Update...</td>\n",
       "      <td>-1</td>\n",
       "    </tr>\n",
       "    <tr>\n",
       "      <th>23</th>\n",
       "      <td>London Transport Status</td>\n",
       "      <td>-1</td>\n",
       "    </tr>\n",
       "    <tr>\n",
       "      <th>27</th>\n",
       "      <td>Schwab Advisor Center® Mobile</td>\n",
       "      <td>-1</td>\n",
       "    </tr>\n",
       "    <tr>\n",
       "      <th>28</th>\n",
       "      <td>How to Start a Boarding School Plus Business Plan</td>\n",
       "      <td>-1</td>\n",
       "    </tr>\n",
       "  </tbody>\n",
       "</table>\n",
       "</div>"
      ],
      "text/plain": [
       "                                                title  dbscan_cluster\n",
       "4                        Traffic Police: Off-Road Cub              -1\n",
       "7      Giant Surprise Petcage! Unlock Superhero Puppy              -1\n",
       "8                                      Ac Market tips              -1\n",
       "10           Piano Wizard Premier With 49E Keystation              -1\n",
       "13                         HALLOWEEN MATCH 3 IN A ROW              -1\n",
       "14                            For Rent: Haunted House              -1\n",
       "21  New Coupons, Daily Deals and Freebies - Update...              -1\n",
       "23                            London Transport Status              -1\n",
       "27                      Schwab Advisor Center® Mobile              -1\n",
       "28  How to Start a Boarding School Plus Business Plan              -1"
      ]
     },
     "metadata": {},
     "output_type": "display_data"
    },
    {
     "name": "stdout",
     "output_type": "stream",
     "text": [
      ">>>>\n",
      "\n"
     ]
    }
   ],
   "source": [
    "for i in dbscan_labels:\n",
    "    print(f\">>>> Cluster {i + 1}\")\n",
    "    display( meta_items_pandas_sample[ meta_items_pandas_sample['dbscan_cluster'] == i ][['title', 'dbscan_cluster']].head(10) )\n",
    "    print(f\">>>>\\n\")"
   ]
  }
 ],
 "metadata": {
  "kernelspec": {
   "display_name": ".venv",
   "language": "python",
   "name": "python3"
  },
  "language_info": {
   "codemirror_mode": {
    "name": "ipython",
    "version": 3
   },
   "file_extension": ".py",
   "mimetype": "text/x-python",
   "name": "python",
   "nbconvert_exporter": "python",
   "pygments_lexer": "ipython3",
   "version": "3.10.16"
  }
 },
 "nbformat": 4,
 "nbformat_minor": 5
}
