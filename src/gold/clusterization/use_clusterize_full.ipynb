{
 "cells": [
  {
   "cell_type": "markdown",
   "id": "54afa27a",
   "metadata": {},
   "source": [
    "# Clusterización de información de productos en función de características"
   ]
  },
  {
   "cell_type": "markdown",
   "id": "dcd8766c",
   "metadata": {},
   "source": [
    "## Importación de librerias necesarias"
   ]
  },
  {
   "cell_type": "code",
   "execution_count": 1,
   "id": "f0bd7b57",
   "metadata": {},
   "outputs": [],
   "source": [
    "%load_ext IPython.extensions.autoreload\n",
    "%autoreload 2"
   ]
  },
  {
   "cell_type": "code",
   "execution_count": 2,
   "id": "a140a702",
   "metadata": {},
   "outputs": [],
   "source": [
    "import sys\n",
    "from pathlib import Path\n",
    "\n",
    "def find_src_folder(current_path: Path, folder_name: str = 'src') -> Path:\n",
    "    search_directories = [current_path] + list(current_path.parents)\n",
    "    for parent in search_directories:\n",
    "        if parent.name == folder_name:\n",
    "            return parent.parent\n",
    "    return current_path\n",
    "\n",
    "src_path = find_src_folder(Path.cwd(), 'src')\n",
    "sys.path.append(str(src_path))"
   ]
  },
  {
   "cell_type": "code",
   "execution_count": 3,
   "id": "861cab7f",
   "metadata": {},
   "outputs": [
    {
     "name": "stderr",
     "output_type": "stream",
     "text": [
      "2025-06-15 21:34:52.656815: I external/local_xla/xla/tsl/cuda/cudart_stub.cc:32] Could not find cuda drivers on your machine, GPU will not be used.\n",
      "2025-06-15 21:34:52.799613: I external/local_xla/xla/tsl/cuda/cudart_stub.cc:32] Could not find cuda drivers on your machine, GPU will not be used.\n",
      "2025-06-15 21:34:52.943392: E external/local_xla/xla/stream_executor/cuda/cuda_fft.cc:477] Unable to register cuFFT factory: Attempting to register factory for plugin cuFFT when one has already been registered\n",
      "WARNING: All log messages before absl::InitializeLog() is called are written to STDERR\n",
      "E0000 00:00:1750041293.048640   87350 cuda_dnn.cc:8310] Unable to register cuDNN factory: Attempting to register factory for plugin cuDNN when one has already been registered\n",
      "E0000 00:00:1750041293.080744   87350 cuda_blas.cc:1418] Unable to register cuBLAS factory: Attempting to register factory for plugin cuBLAS when one has already been registered\n",
      "2025-06-15 21:34:53.359601: I tensorflow/core/platform/cpu_feature_guard.cc:210] This TensorFlow binary is optimized to use available CPU instructions in performance-critical operations.\n",
      "To enable the following instructions: AVX2 FMA, in other operations, rebuild TensorFlow with the appropriate compiler flags.\n"
     ]
    }
   ],
   "source": [
    "from sklearn.decomposition import PCA\n",
    "from sklearn.cluster import DBSCAN\n",
    "from sklearn.cluster import AgglomerativeClustering\n",
    "\n",
    "import matplotlib.pyplot as plt\n",
    "\n",
    "import tensorflow as tf\n",
    "import numpy as np\n",
    "\n",
    "import pandas as pd\n",
    "\n",
    "from matplotlib.ticker import FuncFormatter\n",
    "\n",
    "import tensorflow_hub as hub\n",
    "\n",
    "from sklearn.neighbors import NearestNeighbors\n",
    "\n",
    "from langchain_ollama.embeddings import OllamaEmbeddings\n",
    "\n",
    "from sklearn.cluster import DBSCAN\n",
    "\n",
    "from src.utils import SparkUtils"
   ]
  },
  {
   "cell_type": "code",
   "execution_count": 4,
   "id": "f161bccc",
   "metadata": {},
   "outputs": [
    {
     "name": "stderr",
     "output_type": "stream",
     "text": [
      "your 131072x1 screen size is bogus. expect trouble\n",
      "Warning: Ignoring non-Spark config property: javax.jdo.option.ConnectionURL\n",
      "25/06/15 21:35:58 WARN Utils: Your hostname, ASUSPRIMEA520MAII resolves to a loopback address: 127.0.1.1; using 10.255.255.254 instead (on interface lo)\n",
      "25/06/15 21:35:58 WARN Utils: Set SPARK_LOCAL_IP if you need to bind to another address\n"
     ]
    },
    {
     "name": "stdout",
     "output_type": "stream",
     "text": [
      ":: loading settings :: url = jar:file:/mnt/c/Users/User/Documents/Maestr%c3%ada/Amazon%20Reviews%20Code/.venv/lib/python3.10/site-packages/pyspark/jars/ivy-2.5.1.jar!/org/apache/ivy/core/settings/ivysettings.xml\n"
     ]
    },
    {
     "name": "stderr",
     "output_type": "stream",
     "text": [
      "Ivy Default Cache set to: /home/edgar/.ivy2/cache\n",
      "The jars for the packages stored in: /home/edgar/.ivy2/jars\n",
      "io.delta#delta-spark_2.12 added as a dependency\n",
      ":: resolving dependencies :: org.apache.spark#spark-submit-parent-49bd0a97-3664-4fa9-8f81-349b4dbded78;1.0\n",
      "\tconfs: [default]\n",
      "\tfound io.delta#delta-spark_2.12;3.3.1 in central\n",
      "\tfound io.delta#delta-storage;3.3.1 in central\n",
      "\tfound org.antlr#antlr4-runtime;4.9.3 in central\n",
      ":: resolution report :: resolve 217ms :: artifacts dl 6ms\n",
      "\t:: modules in use:\n",
      "\tio.delta#delta-spark_2.12;3.3.1 from central in [default]\n",
      "\tio.delta#delta-storage;3.3.1 from central in [default]\n",
      "\torg.antlr#antlr4-runtime;4.9.3 from central in [default]\n",
      "\t---------------------------------------------------------------------\n",
      "\t|                  |            modules            ||   artifacts   |\n",
      "\t|       conf       | number| search|dwnlded|evicted|| number|dwnlded|\n",
      "\t---------------------------------------------------------------------\n",
      "\t|      default     |   3   |   0   |   0   |   0   ||   3   |   0   |\n",
      "\t---------------------------------------------------------------------\n",
      ":: retrieving :: org.apache.spark#spark-submit-parent-49bd0a97-3664-4fa9-8f81-349b4dbded78\n",
      "\tconfs: [default]\n",
      "\t0 artifacts copied, 3 already retrieved (0kB/6ms)\n",
      "25/06/15 21:36:00 WARN NativeCodeLoader: Unable to load native-hadoop library for your platform... using builtin-java classes where applicable\n",
      "Setting default log level to \"WARN\".\n",
      "To adjust logging level use sc.setLogLevel(newLevel). For SparkR, use setLogLevel(newLevel).\n"
     ]
    }
   ],
   "source": [
    "spark_utils = SparkUtils()"
   ]
  },
  {
   "cell_type": "markdown",
   "id": "ec5ebbf1",
   "metadata": {},
   "source": [
    "## Cargar modelo embedding (Llama3)"
   ]
  },
  {
   "cell_type": "code",
   "execution_count": 5,
   "id": "b6650ba8",
   "metadata": {},
   "outputs": [
    {
     "name": "stderr",
     "output_type": "stream",
     "text": [
      "2025-06-15 21:36:12.958166: E external/local_xla/xla/stream_executor/cuda/cuda_driver.cc:152] failed call to cuInit: INTERNAL: CUDA error: Failed call to cuInit: UNKNOWN ERROR (303)\n"
     ]
    }
   ],
   "source": [
    "# https://www.tensorflow.org/hub/tutorials/semantic_similarity_with_tf_hub_universal_encoder?hl=es-419\n",
    "MODULE_URL = \"https://tfhub.dev/google/universal-sentence-encoder-large/5\"\n",
    "model = hub.load( MODULE_URL )"
   ]
  },
  {
   "cell_type": "markdown",
   "id": "04ea1430",
   "metadata": {},
   "source": [
    "## Generar agrupación basada en título de primera cuantificación de item "
   ]
  },
  {
   "cell_type": "markdown",
   "id": "d30bb42e",
   "metadata": {},
   "source": [
    "#### Cargar información de títulos"
   ]
  },
  {
   "cell_type": "code",
   "execution_count": 6,
   "id": "0b70676c",
   "metadata": {},
   "outputs": [
    {
     "name": "stderr",
     "output_type": "stream",
     "text": [
      "                                                                                \r"
     ]
    }
   ],
   "source": [
    "meta_items_pandas_sample = spark_utils.get_meta_items_sample( 1000 )"
   ]
  },
  {
   "cell_type": "code",
   "execution_count": 7,
   "id": "bc10ca6c",
   "metadata": {},
   "outputs": [],
   "source": [
    "sentences = meta_items_pandas_sample['title'].to_list()"
   ]
  },
  {
   "cell_type": "code",
   "execution_count": 8,
   "id": "54101ca5",
   "metadata": {},
   "outputs": [],
   "source": [
    "embeddings_np = model( sentences )"
   ]
  },
  {
   "cell_type": "code",
   "execution_count": 9,
   "id": "66afc7b8",
   "metadata": {},
   "outputs": [
    {
     "data": {
      "text/plain": [
       "TensorShape([1000, 512])"
      ]
     },
     "execution_count": 9,
     "metadata": {},
     "output_type": "execute_result"
    }
   ],
   "source": [
    "embeddings_np.shape"
   ]
  },
  {
   "cell_type": "markdown",
   "id": "38ef40f9",
   "metadata": {},
   "source": [
    "#### Agglomerative Clustering"
   ]
  },
  {
   "cell_type": "code",
   "execution_count": 10,
   "id": "b6de0d24",
   "metadata": {},
   "outputs": [],
   "source": [
    "N_AGGLOMERATIVE_CLUSTERS = 5"
   ]
  },
  {
   "cell_type": "code",
   "execution_count": 11,
   "id": "27eea9d9",
   "metadata": {},
   "outputs": [],
   "source": [
    "agg_model = AgglomerativeClustering(n_clusters=N_AGGLOMERATIVE_CLUSTERS, linkage='ward')\n",
    "labels = agg_model.fit_predict(embeddings_np)\n",
    "\n",
    "meta_items_pandas_sample['agg_cluster'] = labels"
   ]
  },
  {
   "cell_type": "markdown",
   "id": "42f53ac9",
   "metadata": {},
   "source": [
    "**Examinar agrupaciones resultado**"
   ]
  },
  {
   "cell_type": "markdown",
   "id": "b51693da",
   "metadata": {},
   "source": [
    "Examinar ejemplos de cada una de las agrupaciones generadas"
   ]
  },
  {
   "cell_type": "code",
   "execution_count": 12,
   "id": "a8206e0c",
   "metadata": {},
   "outputs": [
    {
     "name": "stdout",
     "output_type": "stream",
     "text": [
      ">>>> Cluster 1\n"
     ]
    },
    {
     "data": {
      "application/vnd.microsoft.datawrangler.viewer.v0+json": {
       "columns": [
        {
         "name": "index",
         "rawType": "int64",
         "type": "integer"
        },
        {
         "name": "title",
         "rawType": "object",
         "type": "string"
        },
        {
         "name": "agg_cluster",
         "rawType": "int64",
         "type": "integer"
        }
       ],
       "ref": "a8fbda93-8d9e-48ec-8bd5-06d6cb6fc996",
       "rows": [
        [
         "0",
         "Accupressure Guide",
         "0"
        ],
        [
         "1",
         "Ankylosaurus Fights Back - Smithsonian's Prehistoric Pals",
         "0"
        ],
        [
         "3",
         "Jewels Brick Breakout",
         "0"
        ],
        [
         "5",
         "Shadow Fighting Superhero War",
         "0"
        ],
        [
         "7",
         "Giant Surprise Petcage! Unlock Superhero Puppy",
         "0"
        ],
        [
         "8",
         "Ac Market tips",
         "0"
        ],
        [
         "9",
         "Gem Shopping Network",
         "0"
        ],
        [
         "10",
         "Piano Wizard Premier With 49E Keystation",
         "0"
        ],
        [
         "14",
         "For Rent: Haunted House",
         "0"
        ],
        [
         "15",
         "Fat Dragons",
         "0"
        ]
       ],
       "shape": {
        "columns": 2,
        "rows": 10
       }
      },
      "text/html": [
       "<div>\n",
       "<style scoped>\n",
       "    .dataframe tbody tr th:only-of-type {\n",
       "        vertical-align: middle;\n",
       "    }\n",
       "\n",
       "    .dataframe tbody tr th {\n",
       "        vertical-align: top;\n",
       "    }\n",
       "\n",
       "    .dataframe thead th {\n",
       "        text-align: right;\n",
       "    }\n",
       "</style>\n",
       "<table border=\"1\" class=\"dataframe\">\n",
       "  <thead>\n",
       "    <tr style=\"text-align: right;\">\n",
       "      <th></th>\n",
       "      <th>title</th>\n",
       "      <th>agg_cluster</th>\n",
       "    </tr>\n",
       "  </thead>\n",
       "  <tbody>\n",
       "    <tr>\n",
       "      <th>0</th>\n",
       "      <td>Accupressure Guide</td>\n",
       "      <td>0</td>\n",
       "    </tr>\n",
       "    <tr>\n",
       "      <th>1</th>\n",
       "      <td>Ankylosaurus Fights Back - Smithsonian's Prehi...</td>\n",
       "      <td>0</td>\n",
       "    </tr>\n",
       "    <tr>\n",
       "      <th>3</th>\n",
       "      <td>Jewels Brick Breakout</td>\n",
       "      <td>0</td>\n",
       "    </tr>\n",
       "    <tr>\n",
       "      <th>5</th>\n",
       "      <td>Shadow Fighting Superhero War</td>\n",
       "      <td>0</td>\n",
       "    </tr>\n",
       "    <tr>\n",
       "      <th>7</th>\n",
       "      <td>Giant Surprise Petcage! Unlock Superhero Puppy</td>\n",
       "      <td>0</td>\n",
       "    </tr>\n",
       "    <tr>\n",
       "      <th>8</th>\n",
       "      <td>Ac Market tips</td>\n",
       "      <td>0</td>\n",
       "    </tr>\n",
       "    <tr>\n",
       "      <th>9</th>\n",
       "      <td>Gem Shopping Network</td>\n",
       "      <td>0</td>\n",
       "    </tr>\n",
       "    <tr>\n",
       "      <th>10</th>\n",
       "      <td>Piano Wizard Premier With 49E Keystation</td>\n",
       "      <td>0</td>\n",
       "    </tr>\n",
       "    <tr>\n",
       "      <th>14</th>\n",
       "      <td>For Rent: Haunted House</td>\n",
       "      <td>0</td>\n",
       "    </tr>\n",
       "    <tr>\n",
       "      <th>15</th>\n",
       "      <td>Fat Dragons</td>\n",
       "      <td>0</td>\n",
       "    </tr>\n",
       "  </tbody>\n",
       "</table>\n",
       "</div>"
      ],
      "text/plain": [
       "                                                title  agg_cluster\n",
       "0                                  Accupressure Guide            0\n",
       "1   Ankylosaurus Fights Back - Smithsonian's Prehi...            0\n",
       "3                               Jewels Brick Breakout            0\n",
       "5                       Shadow Fighting Superhero War            0\n",
       "7      Giant Surprise Petcage! Unlock Superhero Puppy            0\n",
       "8                                      Ac Market tips            0\n",
       "9                                Gem Shopping Network            0\n",
       "10           Piano Wizard Premier With 49E Keystation            0\n",
       "14                            For Rent: Haunted House            0\n",
       "15                                        Fat Dragons            0"
      ]
     },
     "metadata": {},
     "output_type": "display_data"
    },
    {
     "name": "stdout",
     "output_type": "stream",
     "text": [
      ">>>>\n",
      "\n",
      ">>>> Cluster 2\n"
     ]
    },
    {
     "data": {
      "application/vnd.microsoft.datawrangler.viewer.v0+json": {
       "columns": [
        {
         "name": "index",
         "rawType": "int64",
         "type": "integer"
        },
        {
         "name": "title",
         "rawType": "object",
         "type": "string"
        },
        {
         "name": "agg_cluster",
         "rawType": "int64",
         "type": "integer"
        }
       ],
       "ref": "bc9322eb-4b6a-4616-8dba-f0ee66caf265",
       "rows": [
        [
         "19",
         "Corel PaintShop Pro X4 [Old Version]",
         "1"
        ],
        [
         "20",
         "Que Publishing 0789738252 Power Excel 2007 with Mr Excel (Video LiveLessons)",
         "1"
        ],
        [
         "42",
         "TurboTax Deluxe 2014 Fed + State + Fed Efile Tax Software - Win [Download] OLD VERSION",
         "1"
        ],
        [
         "45",
         "Microsoft Virtual PC for Mac 6.1 [Old Version]",
         "1"
        ],
        [
         "47",
         "AutoCAD Freestyle [Old Version]",
         "1"
        ],
        [
         "48",
         "Anime Studio Pro 9.5",
         "1"
        ],
        [
         "54",
         "Kaspersky Internet Security Multi-Device 2015 5 Devices, 1 Year",
         "1"
        ],
        [
         "60",
         "MyScript Studio Notes Edition [Download]",
         "1"
        ],
        [
         "82",
         "Stooge Deluge (4 pack) Vol. 1",
         "1"
        ],
        [
         "87",
         "TurboTax Deluxe Fed 2022",
         "1"
        ]
       ],
       "shape": {
        "columns": 2,
        "rows": 10
       }
      },
      "text/html": [
       "<div>\n",
       "<style scoped>\n",
       "    .dataframe tbody tr th:only-of-type {\n",
       "        vertical-align: middle;\n",
       "    }\n",
       "\n",
       "    .dataframe tbody tr th {\n",
       "        vertical-align: top;\n",
       "    }\n",
       "\n",
       "    .dataframe thead th {\n",
       "        text-align: right;\n",
       "    }\n",
       "</style>\n",
       "<table border=\"1\" class=\"dataframe\">\n",
       "  <thead>\n",
       "    <tr style=\"text-align: right;\">\n",
       "      <th></th>\n",
       "      <th>title</th>\n",
       "      <th>agg_cluster</th>\n",
       "    </tr>\n",
       "  </thead>\n",
       "  <tbody>\n",
       "    <tr>\n",
       "      <th>19</th>\n",
       "      <td>Corel PaintShop Pro X4 [Old Version]</td>\n",
       "      <td>1</td>\n",
       "    </tr>\n",
       "    <tr>\n",
       "      <th>20</th>\n",
       "      <td>Que Publishing 0789738252 Power Excel 2007 wit...</td>\n",
       "      <td>1</td>\n",
       "    </tr>\n",
       "    <tr>\n",
       "      <th>42</th>\n",
       "      <td>TurboTax Deluxe 2014 Fed + State + Fed Efile T...</td>\n",
       "      <td>1</td>\n",
       "    </tr>\n",
       "    <tr>\n",
       "      <th>45</th>\n",
       "      <td>Microsoft Virtual PC for Mac 6.1 [Old Version]</td>\n",
       "      <td>1</td>\n",
       "    </tr>\n",
       "    <tr>\n",
       "      <th>47</th>\n",
       "      <td>AutoCAD Freestyle [Old Version]</td>\n",
       "      <td>1</td>\n",
       "    </tr>\n",
       "    <tr>\n",
       "      <th>48</th>\n",
       "      <td>Anime Studio Pro 9.5</td>\n",
       "      <td>1</td>\n",
       "    </tr>\n",
       "    <tr>\n",
       "      <th>54</th>\n",
       "      <td>Kaspersky Internet Security Multi-Device 2015 ...</td>\n",
       "      <td>1</td>\n",
       "    </tr>\n",
       "    <tr>\n",
       "      <th>60</th>\n",
       "      <td>MyScript Studio Notes Edition [Download]</td>\n",
       "      <td>1</td>\n",
       "    </tr>\n",
       "    <tr>\n",
       "      <th>82</th>\n",
       "      <td>Stooge Deluge (4 pack) Vol. 1</td>\n",
       "      <td>1</td>\n",
       "    </tr>\n",
       "    <tr>\n",
       "      <th>87</th>\n",
       "      <td>TurboTax Deluxe Fed 2022</td>\n",
       "      <td>1</td>\n",
       "    </tr>\n",
       "  </tbody>\n",
       "</table>\n",
       "</div>"
      ],
      "text/plain": [
       "                                                title  agg_cluster\n",
       "19               Corel PaintShop Pro X4 [Old Version]            1\n",
       "20  Que Publishing 0789738252 Power Excel 2007 wit...            1\n",
       "42  TurboTax Deluxe 2014 Fed + State + Fed Efile T...            1\n",
       "45     Microsoft Virtual PC for Mac 6.1 [Old Version]            1\n",
       "47                    AutoCAD Freestyle [Old Version]            1\n",
       "48                               Anime Studio Pro 9.5            1\n",
       "54  Kaspersky Internet Security Multi-Device 2015 ...            1\n",
       "60           MyScript Studio Notes Edition [Download]            1\n",
       "82                      Stooge Deluge (4 pack) Vol. 1            1\n",
       "87                           TurboTax Deluxe Fed 2022            1"
      ]
     },
     "metadata": {},
     "output_type": "display_data"
    },
    {
     "name": "stdout",
     "output_type": "stream",
     "text": [
      ">>>>\n",
      "\n",
      ">>>> Cluster 3\n"
     ]
    },
    {
     "data": {
      "application/vnd.microsoft.datawrangler.viewer.v0+json": {
       "columns": [
        {
         "name": "index",
         "rawType": "int64",
         "type": "integer"
        },
        {
         "name": "title",
         "rawType": "object",
         "type": "string"
        },
        {
         "name": "agg_cluster",
         "rawType": "int64",
         "type": "integer"
        }
       ],
       "ref": "66e777ee-f097-457b-af52-faaa02e0f18b",
       "rows": [
        [
         "4",
         "Traffic Police: Off-Road Cub",
         "2"
        ],
        [
         "6",
         "My Aquarium - Hidden Object Challenge # 122",
         "2"
        ],
        [
         "11",
         "Boxing Game 3D - Real Fighting",
         "2"
        ],
        [
         "12",
         "RoverCraft Race Your Space Car",
         "2"
        ],
        [
         "24",
         "Soccer by Fawesome.tv",
         "2"
        ],
        [
         "25",
         "Last Survivor - Zombie Attack - Free Survival Game",
         "2"
        ],
        [
         "26",
         "PlayHOG # 216 Hidden Object Games Free New - The Candy Snatchers",
         "2"
        ],
        [
         "28",
         "How to Start a Boarding School Plus Business Plan",
         "2"
        ],
        [
         "40",
         "Old Truck Transporter",
         "2"
        ],
        [
         "41",
         "Spin Fight",
         "2"
        ]
       ],
       "shape": {
        "columns": 2,
        "rows": 10
       }
      },
      "text/html": [
       "<div>\n",
       "<style scoped>\n",
       "    .dataframe tbody tr th:only-of-type {\n",
       "        vertical-align: middle;\n",
       "    }\n",
       "\n",
       "    .dataframe tbody tr th {\n",
       "        vertical-align: top;\n",
       "    }\n",
       "\n",
       "    .dataframe thead th {\n",
       "        text-align: right;\n",
       "    }\n",
       "</style>\n",
       "<table border=\"1\" class=\"dataframe\">\n",
       "  <thead>\n",
       "    <tr style=\"text-align: right;\">\n",
       "      <th></th>\n",
       "      <th>title</th>\n",
       "      <th>agg_cluster</th>\n",
       "    </tr>\n",
       "  </thead>\n",
       "  <tbody>\n",
       "    <tr>\n",
       "      <th>4</th>\n",
       "      <td>Traffic Police: Off-Road Cub</td>\n",
       "      <td>2</td>\n",
       "    </tr>\n",
       "    <tr>\n",
       "      <th>6</th>\n",
       "      <td>My Aquarium - Hidden Object Challenge # 122</td>\n",
       "      <td>2</td>\n",
       "    </tr>\n",
       "    <tr>\n",
       "      <th>11</th>\n",
       "      <td>Boxing Game 3D - Real Fighting</td>\n",
       "      <td>2</td>\n",
       "    </tr>\n",
       "    <tr>\n",
       "      <th>12</th>\n",
       "      <td>RoverCraft Race Your Space Car</td>\n",
       "      <td>2</td>\n",
       "    </tr>\n",
       "    <tr>\n",
       "      <th>24</th>\n",
       "      <td>Soccer by Fawesome.tv</td>\n",
       "      <td>2</td>\n",
       "    </tr>\n",
       "    <tr>\n",
       "      <th>25</th>\n",
       "      <td>Last Survivor - Zombie Attack - Free Survival ...</td>\n",
       "      <td>2</td>\n",
       "    </tr>\n",
       "    <tr>\n",
       "      <th>26</th>\n",
       "      <td>PlayHOG # 216 Hidden Object Games Free New - T...</td>\n",
       "      <td>2</td>\n",
       "    </tr>\n",
       "    <tr>\n",
       "      <th>28</th>\n",
       "      <td>How to Start a Boarding School Plus Business Plan</td>\n",
       "      <td>2</td>\n",
       "    </tr>\n",
       "    <tr>\n",
       "      <th>40</th>\n",
       "      <td>Old Truck Transporter</td>\n",
       "      <td>2</td>\n",
       "    </tr>\n",
       "    <tr>\n",
       "      <th>41</th>\n",
       "      <td>Spin Fight</td>\n",
       "      <td>2</td>\n",
       "    </tr>\n",
       "  </tbody>\n",
       "</table>\n",
       "</div>"
      ],
      "text/plain": [
       "                                                title  agg_cluster\n",
       "4                        Traffic Police: Off-Road Cub            2\n",
       "6         My Aquarium - Hidden Object Challenge # 122            2\n",
       "11                     Boxing Game 3D - Real Fighting            2\n",
       "12                     RoverCraft Race Your Space Car            2\n",
       "24                              Soccer by Fawesome.tv            2\n",
       "25  Last Survivor - Zombie Attack - Free Survival ...            2\n",
       "26  PlayHOG # 216 Hidden Object Games Free New - T...            2\n",
       "28  How to Start a Boarding School Plus Business Plan            2\n",
       "40                              Old Truck Transporter            2\n",
       "41                                         Spin Fight            2"
      ]
     },
     "metadata": {},
     "output_type": "display_data"
    },
    {
     "name": "stdout",
     "output_type": "stream",
     "text": [
      ">>>>\n",
      "\n",
      ">>>> Cluster 4\n"
     ]
    },
    {
     "data": {
      "application/vnd.microsoft.datawrangler.viewer.v0+json": {
       "columns": [
        {
         "name": "index",
         "rawType": "int64",
         "type": "integer"
        },
        {
         "name": "title",
         "rawType": "object",
         "type": "string"
        },
        {
         "name": "agg_cluster",
         "rawType": "int64",
         "type": "integer"
        }
       ],
       "ref": "61df36dd-1609-48bd-8224-e4da28f8630b",
       "rows": [
        [
         "43",
         "Dinosaurus",
         "3"
        ],
        [
         "84",
         "96.1BOBFM",
         "3"
        ],
        [
         "91",
         "NextView",
         "3"
        ],
        [
         "100",
         "LoanPayment",
         "3"
        ],
        [
         "101",
         "Ending",
         "3"
        ],
        [
         "107",
         "NewsWatch",
         "3"
        ],
        [
         "109",
         "aCheckbook+",
         "3"
        ],
        [
         "118",
         "Sheepshead",
         "3"
        ],
        [
         "161",
         "WikiPedi",
         "3"
        ],
        [
         "165",
         "UniWar",
         "3"
        ]
       ],
       "shape": {
        "columns": 2,
        "rows": 10
       }
      },
      "text/html": [
       "<div>\n",
       "<style scoped>\n",
       "    .dataframe tbody tr th:only-of-type {\n",
       "        vertical-align: middle;\n",
       "    }\n",
       "\n",
       "    .dataframe tbody tr th {\n",
       "        vertical-align: top;\n",
       "    }\n",
       "\n",
       "    .dataframe thead th {\n",
       "        text-align: right;\n",
       "    }\n",
       "</style>\n",
       "<table border=\"1\" class=\"dataframe\">\n",
       "  <thead>\n",
       "    <tr style=\"text-align: right;\">\n",
       "      <th></th>\n",
       "      <th>title</th>\n",
       "      <th>agg_cluster</th>\n",
       "    </tr>\n",
       "  </thead>\n",
       "  <tbody>\n",
       "    <tr>\n",
       "      <th>43</th>\n",
       "      <td>Dinosaurus</td>\n",
       "      <td>3</td>\n",
       "    </tr>\n",
       "    <tr>\n",
       "      <th>84</th>\n",
       "      <td>96.1BOBFM</td>\n",
       "      <td>3</td>\n",
       "    </tr>\n",
       "    <tr>\n",
       "      <th>91</th>\n",
       "      <td>NextView</td>\n",
       "      <td>3</td>\n",
       "    </tr>\n",
       "    <tr>\n",
       "      <th>100</th>\n",
       "      <td>LoanPayment</td>\n",
       "      <td>3</td>\n",
       "    </tr>\n",
       "    <tr>\n",
       "      <th>101</th>\n",
       "      <td>Ending</td>\n",
       "      <td>3</td>\n",
       "    </tr>\n",
       "    <tr>\n",
       "      <th>107</th>\n",
       "      <td>NewsWatch</td>\n",
       "      <td>3</td>\n",
       "    </tr>\n",
       "    <tr>\n",
       "      <th>109</th>\n",
       "      <td>aCheckbook+</td>\n",
       "      <td>3</td>\n",
       "    </tr>\n",
       "    <tr>\n",
       "      <th>118</th>\n",
       "      <td>Sheepshead</td>\n",
       "      <td>3</td>\n",
       "    </tr>\n",
       "    <tr>\n",
       "      <th>161</th>\n",
       "      <td>WikiPedi</td>\n",
       "      <td>3</td>\n",
       "    </tr>\n",
       "    <tr>\n",
       "      <th>165</th>\n",
       "      <td>UniWar</td>\n",
       "      <td>3</td>\n",
       "    </tr>\n",
       "  </tbody>\n",
       "</table>\n",
       "</div>"
      ],
      "text/plain": [
       "           title  agg_cluster\n",
       "43    Dinosaurus            3\n",
       "84     96.1BOBFM            3\n",
       "91      NextView            3\n",
       "100  LoanPayment            3\n",
       "101       Ending            3\n",
       "107    NewsWatch            3\n",
       "109  aCheckbook+            3\n",
       "118   Sheepshead            3\n",
       "161     WikiPedi            3\n",
       "165       UniWar            3"
      ]
     },
     "metadata": {},
     "output_type": "display_data"
    },
    {
     "name": "stdout",
     "output_type": "stream",
     "text": [
      ">>>>\n",
      "\n",
      ">>>> Cluster 5\n"
     ]
    },
    {
     "data": {
      "application/vnd.microsoft.datawrangler.viewer.v0+json": {
       "columns": [
        {
         "name": "index",
         "rawType": "int64",
         "type": "integer"
        },
        {
         "name": "title",
         "rawType": "object",
         "type": "string"
        },
        {
         "name": "agg_cluster",
         "rawType": "int64",
         "type": "integer"
        }
       ],
       "ref": "9c6eed0f-a75f-444e-8b59-e956c3c67597",
       "rows": [
        [
         "2",
         "Mahjong 2015",
         "4"
        ],
        [
         "13",
         "HALLOWEEN MATCH 3 IN A ROW",
         "4"
        ],
        [
         "67",
         "2048 Drop n Merge Numbers: Match 3 Columns Puzzle",
         "4"
        ],
        [
         "120",
         "Mahjong Holiday Joy 2016",
         "4"
        ],
        [
         "122",
         "Wood Block Puzzle - Sudoku Woody Block Puzzles Game Free",
         "4"
        ],
        [
         "125",
         "Royal Hearts Slot",
         "4"
        ],
        [
         "134",
         "Beard Salon – Free Games for Kids.",
         "4"
        ],
        [
         "152",
         "Crossword - Portuguese",
         "4"
        ],
        [
         "191",
         "Slots",
         "4"
        ],
        [
         "214",
         "Pyramid Solitaire",
         "4"
        ]
       ],
       "shape": {
        "columns": 2,
        "rows": 10
       }
      },
      "text/html": [
       "<div>\n",
       "<style scoped>\n",
       "    .dataframe tbody tr th:only-of-type {\n",
       "        vertical-align: middle;\n",
       "    }\n",
       "\n",
       "    .dataframe tbody tr th {\n",
       "        vertical-align: top;\n",
       "    }\n",
       "\n",
       "    .dataframe thead th {\n",
       "        text-align: right;\n",
       "    }\n",
       "</style>\n",
       "<table border=\"1\" class=\"dataframe\">\n",
       "  <thead>\n",
       "    <tr style=\"text-align: right;\">\n",
       "      <th></th>\n",
       "      <th>title</th>\n",
       "      <th>agg_cluster</th>\n",
       "    </tr>\n",
       "  </thead>\n",
       "  <tbody>\n",
       "    <tr>\n",
       "      <th>2</th>\n",
       "      <td>Mahjong 2015</td>\n",
       "      <td>4</td>\n",
       "    </tr>\n",
       "    <tr>\n",
       "      <th>13</th>\n",
       "      <td>HALLOWEEN MATCH 3 IN A ROW</td>\n",
       "      <td>4</td>\n",
       "    </tr>\n",
       "    <tr>\n",
       "      <th>67</th>\n",
       "      <td>2048 Drop n Merge Numbers: Match 3 Columns Puzzle</td>\n",
       "      <td>4</td>\n",
       "    </tr>\n",
       "    <tr>\n",
       "      <th>120</th>\n",
       "      <td>Mahjong Holiday Joy 2016</td>\n",
       "      <td>4</td>\n",
       "    </tr>\n",
       "    <tr>\n",
       "      <th>122</th>\n",
       "      <td>Wood Block Puzzle - Sudoku Woody Block Puzzles...</td>\n",
       "      <td>4</td>\n",
       "    </tr>\n",
       "    <tr>\n",
       "      <th>125</th>\n",
       "      <td>Royal Hearts Slot</td>\n",
       "      <td>4</td>\n",
       "    </tr>\n",
       "    <tr>\n",
       "      <th>134</th>\n",
       "      <td>Beard Salon – Free Games for Kids.</td>\n",
       "      <td>4</td>\n",
       "    </tr>\n",
       "    <tr>\n",
       "      <th>152</th>\n",
       "      <td>Crossword - Portuguese</td>\n",
       "      <td>4</td>\n",
       "    </tr>\n",
       "    <tr>\n",
       "      <th>191</th>\n",
       "      <td>Slots</td>\n",
       "      <td>4</td>\n",
       "    </tr>\n",
       "    <tr>\n",
       "      <th>214</th>\n",
       "      <td>Pyramid Solitaire</td>\n",
       "      <td>4</td>\n",
       "    </tr>\n",
       "  </tbody>\n",
       "</table>\n",
       "</div>"
      ],
      "text/plain": [
       "                                                 title  agg_cluster\n",
       "2                                         Mahjong 2015            4\n",
       "13                          HALLOWEEN MATCH 3 IN A ROW            4\n",
       "67   2048 Drop n Merge Numbers: Match 3 Columns Puzzle            4\n",
       "120                           Mahjong Holiday Joy 2016            4\n",
       "122  Wood Block Puzzle - Sudoku Woody Block Puzzles...            4\n",
       "125                                  Royal Hearts Slot            4\n",
       "134                 Beard Salon – Free Games for Kids.            4\n",
       "152                             Crossword - Portuguese            4\n",
       "191                                              Slots            4\n",
       "214                                  Pyramid Solitaire            4"
      ]
     },
     "metadata": {},
     "output_type": "display_data"
    },
    {
     "name": "stdout",
     "output_type": "stream",
     "text": [
      ">>>>\n",
      "\n"
     ]
    }
   ],
   "source": [
    "for i in range( N_AGGLOMERATIVE_CLUSTERS ):\n",
    "    print(f\">>>> Cluster {i + 1}\")\n",
    "    display( meta_items_pandas_sample[ meta_items_pandas_sample['agg_cluster'] == i ][['title', 'agg_cluster']].head(10) )\n",
    "    print(f\">>>>\\n\")"
   ]
  },
  {
   "cell_type": "markdown",
   "id": "2769ff5d",
   "metadata": {},
   "source": [
    "#### DBScan Clustering"
   ]
  },
  {
   "cell_type": "code",
   "execution_count": 13,
   "id": "8b8b06d7",
   "metadata": {},
   "outputs": [
    {
     "data": {
      "image/png": "[encoded data removed]",
      "text/plain": [
       "<Figure size 800x400 with 1 Axes>"
      ]
     },
     "metadata": {},
     "output_type": "display_data"
    }
   ],
   "source": [
    "X = embeddings_np\n",
    "\n",
    "neighbors = NearestNeighbors(n_neighbors=10, metric='cosine')\n",
    "neighbors_fit = neighbors.fit(X)\n",
    "distances, indices = neighbors_fit.kneighbors(X)\n",
    "\n",
    "k_distances = np.sort(distances[:, 9])\n",
    "\n",
    "plt.figure(figsize=(8, 4))\n",
    "plt.plot(k_distances)\n",
    "plt.title(\"k-distance (k=10)\")\n",
    "plt.xlabel(\"Points sorted by distance to 10th nearest neighbor\")\n",
    "plt.ylabel(\"Cosine Distance\")\n",
    "plt.grid(True)\n",
    "plt.show()"
   ]
  },
  {
   "cell_type": "code",
   "execution_count": 14,
   "id": "5df6aff2",
   "metadata": {},
   "outputs": [],
   "source": [
    "dbscan_model = DBSCAN(\n",
    "    eps = 0.5,\n",
    "    metric = 'cosine',\n",
    "    min_samples = 10\n",
    ")"
   ]
  },
  {
   "cell_type": "code",
   "execution_count": 15,
   "id": "e45ca0ee",
   "metadata": {},
   "outputs": [],
   "source": [
    "meta_items_pandas_sample['dbscan_cluster'] = dbscan_model.fit_predict( embeddings_np )"
   ]
  },
  {
   "cell_type": "code",
   "execution_count": 16,
   "id": "2d1a1c01",
   "metadata": {},
   "outputs": [],
   "source": [
    "dbscan_labels = set(dbscan_model.labels_)"
   ]
  },
  {
   "cell_type": "code",
   "execution_count": 17,
   "id": "efdcd206",
   "metadata": {},
   "outputs": [
    {
     "data": {
      "text/plain": [
       "{np.int64(-1), np.int64(0), np.int64(1), np.int64(2), np.int64(3)}"
      ]
     },
     "execution_count": 17,
     "metadata": {},
     "output_type": "execute_result"
    }
   ],
   "source": [
    "dbscan_labels"
   ]
  },
  {
   "cell_type": "code",
   "execution_count": 18,
   "id": "dcb3ea0e",
   "metadata": {},
   "outputs": [
    {
     "name": "stdout",
     "output_type": "stream",
     "text": [
      ">>>> Cluster 1\n"
     ]
    },
    {
     "data": {
      "application/vnd.microsoft.datawrangler.viewer.v0+json": {
       "columns": [
        {
         "name": "index",
         "rawType": "int64",
         "type": "integer"
        },
        {
         "name": "title",
         "rawType": "object",
         "type": "string"
        },
        {
         "name": "dbscan_cluster",
         "rawType": "int64",
         "type": "integer"
        }
       ],
       "ref": "2d250f5c-b694-461a-a01a-5588acf1a581",
       "rows": [
        [
         "19",
         "Corel PaintShop Pro X4 [Old Version]",
         "0"
        ],
        [
         "42",
         "TurboTax Deluxe 2014 Fed + State + Fed Efile Tax Software - Win [Download] OLD VERSION",
         "0"
        ],
        [
         "47",
         "AutoCAD Freestyle [Old Version]",
         "0"
        ],
        [
         "48",
         "Anime Studio Pro 9.5",
         "0"
        ],
        [
         "87",
         "TurboTax Deluxe Fed 2022",
         "0"
        ],
        [
         "99",
         "CrazyTalk7 Standard - Mac [Download]",
         "0"
        ],
        [
         "144",
         "MAGIX Movie Edit Pro 2017 Plus",
         "0"
        ],
        [
         "148",
         "H&R Block 2015 Basic Tax Software + Refund Bonus Offer - PC/Mac Disc [Old Version]",
         "0"
        ],
        [
         "175",
         "Xara Web Designer 7 (Old Version) [Download]",
         "0"
        ],
        [
         "177",
         "TurboTax Basic 2007 [OLD VERSION]",
         "0"
        ]
       ],
       "shape": {
        "columns": 2,
        "rows": 10
       }
      },
      "text/html": [
       "<div>\n",
       "<style scoped>\n",
       "    .dataframe tbody tr th:only-of-type {\n",
       "        vertical-align: middle;\n",
       "    }\n",
       "\n",
       "    .dataframe tbody tr th {\n",
       "        vertical-align: top;\n",
       "    }\n",
       "\n",
       "    .dataframe thead th {\n",
       "        text-align: right;\n",
       "    }\n",
       "</style>\n",
       "<table border=\"1\" class=\"dataframe\">\n",
       "  <thead>\n",
       "    <tr style=\"text-align: right;\">\n",
       "      <th></th>\n",
       "      <th>title</th>\n",
       "      <th>dbscan_cluster</th>\n",
       "    </tr>\n",
       "  </thead>\n",
       "  <tbody>\n",
       "    <tr>\n",
       "      <th>19</th>\n",
       "      <td>Corel PaintShop Pro X4 [Old Version]</td>\n",
       "      <td>0</td>\n",
       "    </tr>\n",
       "    <tr>\n",
       "      <th>42</th>\n",
       "      <td>TurboTax Deluxe 2014 Fed + State + Fed Efile T...</td>\n",
       "      <td>0</td>\n",
       "    </tr>\n",
       "    <tr>\n",
       "      <th>47</th>\n",
       "      <td>AutoCAD Freestyle [Old Version]</td>\n",
       "      <td>0</td>\n",
       "    </tr>\n",
       "    <tr>\n",
       "      <th>48</th>\n",
       "      <td>Anime Studio Pro 9.5</td>\n",
       "      <td>0</td>\n",
       "    </tr>\n",
       "    <tr>\n",
       "      <th>87</th>\n",
       "      <td>TurboTax Deluxe Fed 2022</td>\n",
       "      <td>0</td>\n",
       "    </tr>\n",
       "    <tr>\n",
       "      <th>99</th>\n",
       "      <td>CrazyTalk7 Standard - Mac [Download]</td>\n",
       "      <td>0</td>\n",
       "    </tr>\n",
       "    <tr>\n",
       "      <th>144</th>\n",
       "      <td>MAGIX Movie Edit Pro 2017 Plus</td>\n",
       "      <td>0</td>\n",
       "    </tr>\n",
       "    <tr>\n",
       "      <th>148</th>\n",
       "      <td>H&amp;R Block 2015 Basic Tax Software + Refund Bon...</td>\n",
       "      <td>0</td>\n",
       "    </tr>\n",
       "    <tr>\n",
       "      <th>175</th>\n",
       "      <td>Xara Web Designer 7 (Old Version) [Download]</td>\n",
       "      <td>0</td>\n",
       "    </tr>\n",
       "    <tr>\n",
       "      <th>177</th>\n",
       "      <td>TurboTax Basic 2007 [OLD VERSION]</td>\n",
       "      <td>0</td>\n",
       "    </tr>\n",
       "  </tbody>\n",
       "</table>\n",
       "</div>"
      ],
      "text/plain": [
       "                                                 title  dbscan_cluster\n",
       "19                Corel PaintShop Pro X4 [Old Version]               0\n",
       "42   TurboTax Deluxe 2014 Fed + State + Fed Efile T...               0\n",
       "47                     AutoCAD Freestyle [Old Version]               0\n",
       "48                                Anime Studio Pro 9.5               0\n",
       "87                            TurboTax Deluxe Fed 2022               0\n",
       "99                CrazyTalk7 Standard - Mac [Download]               0\n",
       "144                     MAGIX Movie Edit Pro 2017 Plus               0\n",
       "148  H&R Block 2015 Basic Tax Software + Refund Bon...               0\n",
       "175       Xara Web Designer 7 (Old Version) [Download]               0\n",
       "177                  TurboTax Basic 2007 [OLD VERSION]               0"
      ]
     },
     "metadata": {},
     "output_type": "display_data"
    },
    {
     "name": "stdout",
     "output_type": "stream",
     "text": [
      ">>>>\n",
      "\n",
      ">>>> Cluster 2\n"
     ]
    },
    {
     "data": {
      "application/vnd.microsoft.datawrangler.viewer.v0+json": {
       "columns": [
        {
         "name": "index",
         "rawType": "int64",
         "type": "integer"
        },
        {
         "name": "title",
         "rawType": "object",
         "type": "string"
        },
        {
         "name": "dbscan_cluster",
         "rawType": "int64",
         "type": "integer"
        }
       ],
       "ref": "a519f663-3632-47a5-9c6e-2b0b06c8044e",
       "rows": [
        [
         "103",
         "Bubble Burst (Kindle Tablet Edition)",
         "1"
        ],
        [
         "156",
         "Hawaii Drive Guides (Kindle Tablet Edition)",
         "1"
        ],
        [
         "225",
         "Guitar (Kindle Tablet Edition)",
         "1"
        ],
        [
         "332",
         "RFCU Mobile Banking (Kindle Tablet Edition)",
         "1"
        ],
        [
         "341",
         "First Alphabet HD Lite (Kindle Tablet Edition)",
         "1"
        ],
        [
         "365",
         "Mazes - logic games",
         "1"
        ],
        [
         "427",
         "Puzzle & Dragons (Kindle Tablet Edition)",
         "1"
        ],
        [
         "461",
         "Mayan Treasure - Vegas 5 Reel Slot Machine (Kindle Tablet Edition)",
         "1"
        ],
        [
         "466",
         "The Daily News e-Edition (Kindle Tablet Edition)",
         "1"
        ],
        [
         "491",
         "Solar System Jigsaw Puzzle",
         "1"
        ]
       ],
       "shape": {
        "columns": 2,
        "rows": 10
       }
      },
      "text/html": [
       "<div>\n",
       "<style scoped>\n",
       "    .dataframe tbody tr th:only-of-type {\n",
       "        vertical-align: middle;\n",
       "    }\n",
       "\n",
       "    .dataframe tbody tr th {\n",
       "        vertical-align: top;\n",
       "    }\n",
       "\n",
       "    .dataframe thead th {\n",
       "        text-align: right;\n",
       "    }\n",
       "</style>\n",
       "<table border=\"1\" class=\"dataframe\">\n",
       "  <thead>\n",
       "    <tr style=\"text-align: right;\">\n",
       "      <th></th>\n",
       "      <th>title</th>\n",
       "      <th>dbscan_cluster</th>\n",
       "    </tr>\n",
       "  </thead>\n",
       "  <tbody>\n",
       "    <tr>\n",
       "      <th>103</th>\n",
       "      <td>Bubble Burst (Kindle Tablet Edition)</td>\n",
       "      <td>1</td>\n",
       "    </tr>\n",
       "    <tr>\n",
       "      <th>156</th>\n",
       "      <td>Hawaii Drive Guides (Kindle Tablet Edition)</td>\n",
       "      <td>1</td>\n",
       "    </tr>\n",
       "    <tr>\n",
       "      <th>225</th>\n",
       "      <td>Guitar (Kindle Tablet Edition)</td>\n",
       "      <td>1</td>\n",
       "    </tr>\n",
       "    <tr>\n",
       "      <th>332</th>\n",
       "      <td>RFCU Mobile Banking (Kindle Tablet Edition)</td>\n",
       "      <td>1</td>\n",
       "    </tr>\n",
       "    <tr>\n",
       "      <th>341</th>\n",
       "      <td>First Alphabet HD Lite (Kindle Tablet Edition)</td>\n",
       "      <td>1</td>\n",
       "    </tr>\n",
       "    <tr>\n",
       "      <th>365</th>\n",
       "      <td>Mazes - logic games</td>\n",
       "      <td>1</td>\n",
       "    </tr>\n",
       "    <tr>\n",
       "      <th>427</th>\n",
       "      <td>Puzzle &amp; Dragons (Kindle Tablet Edition)</td>\n",
       "      <td>1</td>\n",
       "    </tr>\n",
       "    <tr>\n",
       "      <th>461</th>\n",
       "      <td>Mayan Treasure - Vegas 5 Reel Slot Machine (Ki...</td>\n",
       "      <td>1</td>\n",
       "    </tr>\n",
       "    <tr>\n",
       "      <th>466</th>\n",
       "      <td>The Daily News e-Edition (Kindle Tablet Edition)</td>\n",
       "      <td>1</td>\n",
       "    </tr>\n",
       "    <tr>\n",
       "      <th>491</th>\n",
       "      <td>Solar System Jigsaw Puzzle</td>\n",
       "      <td>1</td>\n",
       "    </tr>\n",
       "  </tbody>\n",
       "</table>\n",
       "</div>"
      ],
      "text/plain": [
       "                                                 title  dbscan_cluster\n",
       "103               Bubble Burst (Kindle Tablet Edition)               1\n",
       "156        Hawaii Drive Guides (Kindle Tablet Edition)               1\n",
       "225                     Guitar (Kindle Tablet Edition)               1\n",
       "332        RFCU Mobile Banking (Kindle Tablet Edition)               1\n",
       "341     First Alphabet HD Lite (Kindle Tablet Edition)               1\n",
       "365                                Mazes - logic games               1\n",
       "427           Puzzle & Dragons (Kindle Tablet Edition)               1\n",
       "461  Mayan Treasure - Vegas 5 Reel Slot Machine (Ki...               1\n",
       "466   The Daily News e-Edition (Kindle Tablet Edition)               1\n",
       "491                         Solar System Jigsaw Puzzle               1"
      ]
     },
     "metadata": {},
     "output_type": "display_data"
    },
    {
     "name": "stdout",
     "output_type": "stream",
     "text": [
      ">>>>\n",
      "\n",
      ">>>> Cluster 3\n"
     ]
    },
    {
     "data": {
      "application/vnd.microsoft.datawrangler.viewer.v0+json": {
       "columns": [
        {
         "name": "index",
         "rawType": "int64",
         "type": "integer"
        },
        {
         "name": "title",
         "rawType": "object",
         "type": "string"
        },
        {
         "name": "dbscan_cluster",
         "rawType": "int64",
         "type": "integer"
        }
       ],
       "ref": "e6b71709-5f72-4766-b43d-fc426a30ee4c",
       "rows": [
        [
         "2",
         "Mahjong 2015",
         "2"
        ],
        [
         "120",
         "Mahjong Holiday Joy 2016",
         "2"
        ],
        [
         "214",
         "Pyramid Solitaire",
         "2"
        ],
        [
         "302",
         "Thanksgiving Solitaire - Freecell, Classic Solitaire, and more!",
         "2"
        ],
        [
         "345",
         "Mahjong Dragon - Mahjong Solitaire",
         "2"
        ],
        [
         "354",
         "Trickster Spades",
         "2"
        ],
        [
         "538",
         "Mahjong 2",
         "2"
        ],
        [
         "601",
         "FreeCell Solitaire Champion",
         "2"
        ],
        [
         "659",
         "Classic Solitaire 2021",
         "2"
        ],
        [
         "763",
         "Sudoku Epic",
         "2"
        ]
       ],
       "shape": {
        "columns": 2,
        "rows": 10
       }
      },
      "text/html": [
       "<div>\n",
       "<style scoped>\n",
       "    .dataframe tbody tr th:only-of-type {\n",
       "        vertical-align: middle;\n",
       "    }\n",
       "\n",
       "    .dataframe tbody tr th {\n",
       "        vertical-align: top;\n",
       "    }\n",
       "\n",
       "    .dataframe thead th {\n",
       "        text-align: right;\n",
       "    }\n",
       "</style>\n",
       "<table border=\"1\" class=\"dataframe\">\n",
       "  <thead>\n",
       "    <tr style=\"text-align: right;\">\n",
       "      <th></th>\n",
       "      <th>title</th>\n",
       "      <th>dbscan_cluster</th>\n",
       "    </tr>\n",
       "  </thead>\n",
       "  <tbody>\n",
       "    <tr>\n",
       "      <th>2</th>\n",
       "      <td>Mahjong 2015</td>\n",
       "      <td>2</td>\n",
       "    </tr>\n",
       "    <tr>\n",
       "      <th>120</th>\n",
       "      <td>Mahjong Holiday Joy 2016</td>\n",
       "      <td>2</td>\n",
       "    </tr>\n",
       "    <tr>\n",
       "      <th>214</th>\n",
       "      <td>Pyramid Solitaire</td>\n",
       "      <td>2</td>\n",
       "    </tr>\n",
       "    <tr>\n",
       "      <th>302</th>\n",
       "      <td>Thanksgiving Solitaire - Freecell, Classic Sol...</td>\n",
       "      <td>2</td>\n",
       "    </tr>\n",
       "    <tr>\n",
       "      <th>345</th>\n",
       "      <td>Mahjong Dragon - Mahjong Solitaire</td>\n",
       "      <td>2</td>\n",
       "    </tr>\n",
       "    <tr>\n",
       "      <th>354</th>\n",
       "      <td>Trickster Spades</td>\n",
       "      <td>2</td>\n",
       "    </tr>\n",
       "    <tr>\n",
       "      <th>538</th>\n",
       "      <td>Mahjong 2</td>\n",
       "      <td>2</td>\n",
       "    </tr>\n",
       "    <tr>\n",
       "      <th>601</th>\n",
       "      <td>FreeCell Solitaire Champion</td>\n",
       "      <td>2</td>\n",
       "    </tr>\n",
       "    <tr>\n",
       "      <th>659</th>\n",
       "      <td>Classic Solitaire 2021</td>\n",
       "      <td>2</td>\n",
       "    </tr>\n",
       "    <tr>\n",
       "      <th>763</th>\n",
       "      <td>Sudoku Epic</td>\n",
       "      <td>2</td>\n",
       "    </tr>\n",
       "  </tbody>\n",
       "</table>\n",
       "</div>"
      ],
      "text/plain": [
       "                                                 title  dbscan_cluster\n",
       "2                                         Mahjong 2015               2\n",
       "120                           Mahjong Holiday Joy 2016               2\n",
       "214                                  Pyramid Solitaire               2\n",
       "302  Thanksgiving Solitaire - Freecell, Classic Sol...               2\n",
       "345                 Mahjong Dragon - Mahjong Solitaire               2\n",
       "354                                   Trickster Spades               2\n",
       "538                                          Mahjong 2               2\n",
       "601                        FreeCell Solitaire Champion               2\n",
       "659                             Classic Solitaire 2021               2\n",
       "763                                        Sudoku Epic               2"
      ]
     },
     "metadata": {},
     "output_type": "display_data"
    },
    {
     "name": "stdout",
     "output_type": "stream",
     "text": [
      ">>>>\n",
      "\n",
      ">>>> Cluster 4\n"
     ]
    },
    {
     "data": {
      "application/vnd.microsoft.datawrangler.viewer.v0+json": {
       "columns": [
        {
         "name": "index",
         "rawType": "int64",
         "type": "integer"
        },
        {
         "name": "title",
         "rawType": "object",
         "type": "string"
        },
        {
         "name": "dbscan_cluster",
         "rawType": "int64",
         "type": "integer"
        }
       ],
       "ref": "9f1486be-d3e4-4959-baed-c0a72859870c",
       "rows": [
        [
         "140",
         "Car Stunt Races: Mega Ramps",
         "3"
        ],
        [
         "204",
         "Monster Truck Drive 2020 Legends Adventure",
         "3"
        ],
        [
         "265",
         "Stunt Extreme 3D: Moto Traffic Bike Racer",
         "3"
        ],
        [
         "301",
         "Retro Future Racing",
         "3"
        ],
        [
         "410",
         "Street Car Race 2021 : Crazy Freeway Car Racing Game",
         "3"
        ],
        [
         "421",
         "Traffic Rider 3D : The Street Racing Moto 2022",
         "3"
        ],
        [
         "459",
         "The Bestest Motorcycle Racer - Small Town Racing",
         "3"
        ],
        [
         "470",
         "Drag Drift Racer Online",
         "3"
        ],
        [
         "508",
         "Sport Cars Addon for MCPE",
         "3"
        ],
        [
         "543",
         "Drift: Car Drifting Race Free Game",
         "3"
        ]
       ],
       "shape": {
        "columns": 2,
        "rows": 10
       }
      },
      "text/html": [
       "<div>\n",
       "<style scoped>\n",
       "    .dataframe tbody tr th:only-of-type {\n",
       "        vertical-align: middle;\n",
       "    }\n",
       "\n",
       "    .dataframe tbody tr th {\n",
       "        vertical-align: top;\n",
       "    }\n",
       "\n",
       "    .dataframe thead th {\n",
       "        text-align: right;\n",
       "    }\n",
       "</style>\n",
       "<table border=\"1\" class=\"dataframe\">\n",
       "  <thead>\n",
       "    <tr style=\"text-align: right;\">\n",
       "      <th></th>\n",
       "      <th>title</th>\n",
       "      <th>dbscan_cluster</th>\n",
       "    </tr>\n",
       "  </thead>\n",
       "  <tbody>\n",
       "    <tr>\n",
       "      <th>140</th>\n",
       "      <td>Car Stunt Races: Mega Ramps</td>\n",
       "      <td>3</td>\n",
       "    </tr>\n",
       "    <tr>\n",
       "      <th>204</th>\n",
       "      <td>Monster Truck Drive 2020 Legends Adventure</td>\n",
       "      <td>3</td>\n",
       "    </tr>\n",
       "    <tr>\n",
       "      <th>265</th>\n",
       "      <td>Stunt Extreme 3D: Moto Traffic Bike Racer</td>\n",
       "      <td>3</td>\n",
       "    </tr>\n",
       "    <tr>\n",
       "      <th>301</th>\n",
       "      <td>Retro Future Racing</td>\n",
       "      <td>3</td>\n",
       "    </tr>\n",
       "    <tr>\n",
       "      <th>410</th>\n",
       "      <td>Street Car Race 2021 : Crazy Freeway Car Racin...</td>\n",
       "      <td>3</td>\n",
       "    </tr>\n",
       "    <tr>\n",
       "      <th>421</th>\n",
       "      <td>Traffic Rider 3D : The Street Racing Moto 2022</td>\n",
       "      <td>3</td>\n",
       "    </tr>\n",
       "    <tr>\n",
       "      <th>459</th>\n",
       "      <td>The Bestest Motorcycle Racer - Small Town Racing</td>\n",
       "      <td>3</td>\n",
       "    </tr>\n",
       "    <tr>\n",
       "      <th>470</th>\n",
       "      <td>Drag Drift Racer Online</td>\n",
       "      <td>3</td>\n",
       "    </tr>\n",
       "    <tr>\n",
       "      <th>508</th>\n",
       "      <td>Sport Cars Addon for MCPE</td>\n",
       "      <td>3</td>\n",
       "    </tr>\n",
       "    <tr>\n",
       "      <th>543</th>\n",
       "      <td>Drift: Car Drifting Race Free Game</td>\n",
       "      <td>3</td>\n",
       "    </tr>\n",
       "  </tbody>\n",
       "</table>\n",
       "</div>"
      ],
      "text/plain": [
       "                                                 title  dbscan_cluster\n",
       "140                        Car Stunt Races: Mega Ramps               3\n",
       "204         Monster Truck Drive 2020 Legends Adventure               3\n",
       "265          Stunt Extreme 3D: Moto Traffic Bike Racer               3\n",
       "301                                Retro Future Racing               3\n",
       "410  Street Car Race 2021 : Crazy Freeway Car Racin...               3\n",
       "421     Traffic Rider 3D : The Street Racing Moto 2022               3\n",
       "459   The Bestest Motorcycle Racer - Small Town Racing               3\n",
       "470                            Drag Drift Racer Online               3\n",
       "508                          Sport Cars Addon for MCPE               3\n",
       "543                 Drift: Car Drifting Race Free Game               3"
      ]
     },
     "metadata": {},
     "output_type": "display_data"
    },
    {
     "name": "stdout",
     "output_type": "stream",
     "text": [
      ">>>>\n",
      "\n",
      ">>>> Cluster 0\n"
     ]
    },
    {
     "data": {
      "application/vnd.microsoft.datawrangler.viewer.v0+json": {
       "columns": [
        {
         "name": "index",
         "rawType": "int64",
         "type": "integer"
        },
        {
         "name": "title",
         "rawType": "object",
         "type": "string"
        },
        {
         "name": "dbscan_cluster",
         "rawType": "int64",
         "type": "integer"
        }
       ],
       "ref": "baa18a99-1d29-45db-af23-b76b012ea351",
       "rows": [
        [
         "0",
         "Accupressure Guide",
         "-1"
        ],
        [
         "1",
         "Ankylosaurus Fights Back - Smithsonian's Prehistoric Pals",
         "-1"
        ],
        [
         "3",
         "Jewels Brick Breakout",
         "-1"
        ],
        [
         "4",
         "Traffic Police: Off-Road Cub",
         "-1"
        ],
        [
         "5",
         "Shadow Fighting Superhero War",
         "-1"
        ],
        [
         "6",
         "My Aquarium - Hidden Object Challenge # 122",
         "-1"
        ],
        [
         "7",
         "Giant Surprise Petcage! Unlock Superhero Puppy",
         "-1"
        ],
        [
         "8",
         "Ac Market tips",
         "-1"
        ],
        [
         "9",
         "Gem Shopping Network",
         "-1"
        ],
        [
         "10",
         "Piano Wizard Premier With 49E Keystation",
         "-1"
        ]
       ],
       "shape": {
        "columns": 2,
        "rows": 10
       }
      },
      "text/html": [
       "<div>\n",
       "<style scoped>\n",
       "    .dataframe tbody tr th:only-of-type {\n",
       "        vertical-align: middle;\n",
       "    }\n",
       "\n",
       "    .dataframe tbody tr th {\n",
       "        vertical-align: top;\n",
       "    }\n",
       "\n",
       "    .dataframe thead th {\n",
       "        text-align: right;\n",
       "    }\n",
       "</style>\n",
       "<table border=\"1\" class=\"dataframe\">\n",
       "  <thead>\n",
       "    <tr style=\"text-align: right;\">\n",
       "      <th></th>\n",
       "      <th>title</th>\n",
       "      <th>dbscan_cluster</th>\n",
       "    </tr>\n",
       "  </thead>\n",
       "  <tbody>\n",
       "    <tr>\n",
       "      <th>0</th>\n",
       "      <td>Accupressure Guide</td>\n",
       "      <td>-1</td>\n",
       "    </tr>\n",
       "    <tr>\n",
       "      <th>1</th>\n",
       "      <td>Ankylosaurus Fights Back - Smithsonian's Prehi...</td>\n",
       "      <td>-1</td>\n",
       "    </tr>\n",
       "    <tr>\n",
       "      <th>3</th>\n",
       "      <td>Jewels Brick Breakout</td>\n",
       "      <td>-1</td>\n",
       "    </tr>\n",
       "    <tr>\n",
       "      <th>4</th>\n",
       "      <td>Traffic Police: Off-Road Cub</td>\n",
       "      <td>-1</td>\n",
       "    </tr>\n",
       "    <tr>\n",
       "      <th>5</th>\n",
       "      <td>Shadow Fighting Superhero War</td>\n",
       "      <td>-1</td>\n",
       "    </tr>\n",
       "    <tr>\n",
       "      <th>6</th>\n",
       "      <td>My Aquarium - Hidden Object Challenge # 122</td>\n",
       "      <td>-1</td>\n",
       "    </tr>\n",
       "    <tr>\n",
       "      <th>7</th>\n",
       "      <td>Giant Surprise Petcage! Unlock Superhero Puppy</td>\n",
       "      <td>-1</td>\n",
       "    </tr>\n",
       "    <tr>\n",
       "      <th>8</th>\n",
       "      <td>Ac Market tips</td>\n",
       "      <td>-1</td>\n",
       "    </tr>\n",
       "    <tr>\n",
       "      <th>9</th>\n",
       "      <td>Gem Shopping Network</td>\n",
       "      <td>-1</td>\n",
       "    </tr>\n",
       "    <tr>\n",
       "      <th>10</th>\n",
       "      <td>Piano Wizard Premier With 49E Keystation</td>\n",
       "      <td>-1</td>\n",
       "    </tr>\n",
       "  </tbody>\n",
       "</table>\n",
       "</div>"
      ],
      "text/plain": [
       "                                                title  dbscan_cluster\n",
       "0                                  Accupressure Guide              -1\n",
       "1   Ankylosaurus Fights Back - Smithsonian's Prehi...              -1\n",
       "3                               Jewels Brick Breakout              -1\n",
       "4                        Traffic Police: Off-Road Cub              -1\n",
       "5                       Shadow Fighting Superhero War              -1\n",
       "6         My Aquarium - Hidden Object Challenge # 122              -1\n",
       "7      Giant Surprise Petcage! Unlock Superhero Puppy              -1\n",
       "8                                      Ac Market tips              -1\n",
       "9                                Gem Shopping Network              -1\n",
       "10           Piano Wizard Premier With 49E Keystation              -1"
      ]
     },
     "metadata": {},
     "output_type": "display_data"
    },
    {
     "name": "stdout",
     "output_type": "stream",
     "text": [
      ">>>>\n",
      "\n"
     ]
    }
   ],
   "source": [
    "for i in dbscan_labels:\n",
    "    print(f\">>>> Cluster {i + 1}\")\n",
    "    display( meta_items_pandas_sample[ meta_items_pandas_sample['dbscan_cluster'] == i ][['title', 'dbscan_cluster']].head(10) )\n",
    "    print(f\">>>>\\n\")"
   ]
  }
 ],
 "metadata": {
  "kernelspec": {
   "display_name": ".venv",
   "language": "python",
   "name": "python3"
  },
  "language_info": {
   "codemirror_mode": {
    "name": "ipython",
    "version": 3
   },
   "file_extension": ".py",
   "mimetype": "text/x-python",
   "name": "python",
   "nbconvert_exporter": "python",
   "pygments_lexer": "ipython3",
   "version": "3.10.16"
  }
 },
 "nbformat": 4,
 "nbformat_minor": 5
}
