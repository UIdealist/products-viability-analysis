{
 "cells": [
  {
   "cell_type": "markdown",
   "id": "54afa27a",
   "metadata": {},
   "source": [
    "# Clusterización de información de productos en función de características"
   ]
  },
  {
   "cell_type": "markdown",
   "id": "dcd8766c",
   "metadata": {},
   "source": [
    "## Importación de librerias necesarias"
   ]
  },
  {
   "cell_type": "code",
   "execution_count": 1,
   "id": "f0bd7b57",
   "metadata": {},
   "outputs": [],
   "source": [
    "%load_ext IPython.extensions.autoreload\n",
    "%autoreload 2"
   ]
  },
  {
   "cell_type": "code",
   "execution_count": 2,
   "id": "a140a702",
   "metadata": {},
   "outputs": [],
   "source": [
    "import sys\n",
    "from pathlib import Path\n",
    "\n",
    "def find_src_folder(current_path: Path, folder_name: str = 'src') -> Path:\n",
    "    search_directories = [current_path] + list(current_path.parents)\n",
    "    for parent in search_directories:\n",
    "        if parent.name == folder_name:\n",
    "            return parent.parent\n",
    "    return current_path\n",
    "\n",
    "src_path = find_src_folder(Path.cwd(), 'src')\n",
    "sys.path.append(str(src_path))"
   ]
  },
  {
   "cell_type": "code",
   "execution_count": 3,
   "id": "861cab7f",
   "metadata": {},
   "outputs": [
    {
     "name": "stderr",
     "output_type": "stream",
     "text": [
      "2025-06-15 22:31:00.169618: I external/local_xla/xla/tsl/cuda/cudart_stub.cc:32] Could not find cuda drivers on your machine, GPU will not be used.\n",
      "2025-06-15 22:31:00.511837: I external/local_xla/xla/tsl/cuda/cudart_stub.cc:32] Could not find cuda drivers on your machine, GPU will not be used.\n",
      "2025-06-15 22:31:00.835354: E external/local_xla/xla/stream_executor/cuda/cuda_fft.cc:477] Unable to register cuFFT factory: Attempting to register factory for plugin cuFFT when one has already been registered\n",
      "WARNING: All log messages before absl::InitializeLog() is called are written to STDERR\n",
      "E0000 00:00:1750044661.054416  109270 cuda_dnn.cc:8310] Unable to register cuDNN factory: Attempting to register factory for plugin cuDNN when one has already been registered\n",
      "E0000 00:00:1750044661.125479  109270 cuda_blas.cc:1418] Unable to register cuBLAS factory: Attempting to register factory for plugin cuBLAS when one has already been registered\n",
      "2025-06-15 22:31:01.749954: I tensorflow/core/platform/cpu_feature_guard.cc:210] This TensorFlow binary is optimized to use available CPU instructions in performance-critical operations.\n",
      "To enable the following instructions: AVX2 FMA, in other operations, rebuild TensorFlow with the appropriate compiler flags.\n"
     ]
    }
   ],
   "source": [
    "from sklearn.decomposition import PCA\n",
    "from sklearn.cluster import DBSCAN\n",
    "from sklearn.cluster import AgglomerativeClustering\n",
    "\n",
    "import matplotlib.pyplot as plt\n",
    "\n",
    "import tensorflow as tf\n",
    "import numpy as np\n",
    "\n",
    "import pandas as pd\n",
    "\n",
    "from matplotlib.ticker import FuncFormatter\n",
    "\n",
    "import tensorflow_hub as hub\n",
    "\n",
    "from sklearn.neighbors import NearestNeighbors\n",
    "\n",
    "from langchain_ollama.embeddings import OllamaEmbeddings\n",
    "\n",
    "from sklearn.cluster import DBSCAN\n",
    "\n",
    "from src.utils import SparkUtils"
   ]
  },
  {
   "cell_type": "code",
   "execution_count": 4,
   "id": "f161bccc",
   "metadata": {},
   "outputs": [
    {
     "name": "stderr",
     "output_type": "stream",
     "text": [
      "your 131072x1 screen size is bogus. expect trouble\n",
      "Warning: Ignoring non-Spark config property: javax.jdo.option.ConnectionURL\n",
      "25/06/15 22:32:09 WARN Utils: Your hostname, ASUSPRIMEA520MAII resolves to a loopback address: 127.0.1.1; using 10.255.255.254 instead (on interface lo)\n",
      "25/06/15 22:32:09 WARN Utils: Set SPARK_LOCAL_IP if you need to bind to another address\n"
     ]
    },
    {
     "name": "stdout",
     "output_type": "stream",
     "text": [
      ":: loading settings :: url = jar:file:/mnt/c/Users/User/Documents/Maestr%c3%ada/Amazon%20Reviews%20Code/.venv/lib/python3.10/site-packages/pyspark/jars/ivy-2.5.1.jar!/org/apache/ivy/core/settings/ivysettings.xml\n"
     ]
    },
    {
     "name": "stderr",
     "output_type": "stream",
     "text": [
      "Ivy Default Cache set to: /home/edgar/.ivy2/cache\n",
      "The jars for the packages stored in: /home/edgar/.ivy2/jars\n",
      "io.delta#delta-spark_2.12 added as a dependency\n",
      ":: resolving dependencies :: org.apache.spark#spark-submit-parent-b7cbc3b1-5d50-4fdd-a2ff-63339159acb9;1.0\n",
      "\tconfs: [default]\n",
      "\tfound io.delta#delta-spark_2.12;3.3.1 in central\n",
      "\tfound io.delta#delta-storage;3.3.1 in central\n",
      "\tfound org.antlr#antlr4-runtime;4.9.3 in central\n",
      ":: resolution report :: resolve 192ms :: artifacts dl 7ms\n",
      "\t:: modules in use:\n",
      "\tio.delta#delta-spark_2.12;3.3.1 from central in [default]\n",
      "\tio.delta#delta-storage;3.3.1 from central in [default]\n",
      "\torg.antlr#antlr4-runtime;4.9.3 from central in [default]\n",
      "\t---------------------------------------------------------------------\n",
      "\t|                  |            modules            ||   artifacts   |\n",
      "\t|       conf       | number| search|dwnlded|evicted|| number|dwnlded|\n",
      "\t---------------------------------------------------------------------\n",
      "\t|      default     |   3   |   0   |   0   |   0   ||   3   |   0   |\n",
      "\t---------------------------------------------------------------------\n",
      ":: retrieving :: org.apache.spark#spark-submit-parent-b7cbc3b1-5d50-4fdd-a2ff-63339159acb9\n",
      "\tconfs: [default]\n",
      "\t0 artifacts copied, 3 already retrieved (0kB/6ms)\n",
      "25/06/15 22:32:11 WARN NativeCodeLoader: Unable to load native-hadoop library for your platform... using builtin-java classes where applicable\n",
      "Setting default log level to \"WARN\".\n",
      "To adjust logging level use sc.setLogLevel(newLevel). For SparkR, use setLogLevel(newLevel).\n"
     ]
    }
   ],
   "source": [
    "spark_utils = SparkUtils()"
   ]
  },
  {
   "cell_type": "markdown",
   "id": "ec5ebbf1",
   "metadata": {},
   "source": [
    "## Cargar modelo embedding (Llama3)"
   ]
  },
  {
   "cell_type": "code",
   "execution_count": 5,
   "id": "b6650ba8",
   "metadata": {},
   "outputs": [
    {
     "name": "stderr",
     "output_type": "stream",
     "text": [
      "2025-06-15 22:32:22.250997: E external/local_xla/xla/stream_executor/cuda/cuda_driver.cc:152] failed call to cuInit: INTERNAL: CUDA error: Failed call to cuInit: UNKNOWN ERROR (303)\n"
     ]
    }
   ],
   "source": [
    "# https://www.tensorflow.org/hub/tutorials/semantic_similarity_with_tf_hub_universal_encoder?hl=es-419\n",
    "MODULE_URL = \"https://tfhub.dev/google/universal-sentence-encoder/4\"\n",
    "model = hub.load( MODULE_URL )"
   ]
  },
  {
   "cell_type": "markdown",
   "id": "04ea1430",
   "metadata": {},
   "source": [
    "## Generar agrupación basada en título de primera cuantificación de item "
   ]
  },
  {
   "cell_type": "markdown",
   "id": "d30bb42e",
   "metadata": {},
   "source": [
    "#### Cargar información de títulos"
   ]
  },
  {
   "cell_type": "code",
   "execution_count": 6,
   "id": "0b70676c",
   "metadata": {},
   "outputs": [
    {
     "name": "stderr",
     "output_type": "stream",
     "text": [
      "                                                                                \r"
     ]
    }
   ],
   "source": [
    "meta_items_pandas_sample = spark_utils.get_meta_items_sample( 10_000 )"
   ]
  },
  {
   "cell_type": "code",
   "execution_count": 7,
   "id": "bc10ca6c",
   "metadata": {},
   "outputs": [],
   "source": [
    "sentences = meta_items_pandas_sample['title'].to_list()"
   ]
  },
  {
   "cell_type": "code",
   "execution_count": 8,
   "id": "54101ca5",
   "metadata": {},
   "outputs": [],
   "source": [
    "embeddings_np = model( sentences )"
   ]
  },
  {
   "cell_type": "code",
   "execution_count": 9,
   "id": "66afc7b8",
   "metadata": {},
   "outputs": [
    {
     "data": {
      "text/plain": [
       "TensorShape([10000, 512])"
      ]
     },
     "execution_count": 9,
     "metadata": {},
     "output_type": "execute_result"
    }
   ],
   "source": [
    "embeddings_np.shape"
   ]
  },
  {
   "cell_type": "markdown",
   "id": "38ef40f9",
   "metadata": {},
   "source": [
    "#### Agglomerative Clustering"
   ]
  },
  {
   "cell_type": "code",
   "execution_count": 10,
   "id": "b6de0d24",
   "metadata": {},
   "outputs": [],
   "source": [
    "N_AGGLOMERATIVE_CLUSTERS = 5"
   ]
  },
  {
   "cell_type": "code",
   "execution_count": 11,
   "id": "27eea9d9",
   "metadata": {},
   "outputs": [],
   "source": [
    "agg_model = AgglomerativeClustering(n_clusters=N_AGGLOMERATIVE_CLUSTERS, linkage='ward')\n",
    "labels = agg_model.fit_predict(embeddings_np)\n",
    "\n",
    "meta_items_pandas_sample['agg_cluster'] = labels"
   ]
  },
  {
   "cell_type": "markdown",
   "id": "42f53ac9",
   "metadata": {},
   "source": [
    "**Examinar agrupaciones resultado**"
   ]
  },
  {
   "cell_type": "markdown",
   "id": "b51693da",
   "metadata": {},
   "source": [
    "Examinar ejemplos de cada una de las agrupaciones generadas"
   ]
  },
  {
   "cell_type": "code",
   "execution_count": 12,
   "id": "a8206e0c",
   "metadata": {},
   "outputs": [
    {
     "name": "stdout",
     "output_type": "stream",
     "text": [
      ">>>> Cluster 1\n"
     ]
    },
    {
     "data": {
      "application/vnd.microsoft.datawrangler.viewer.v0+json": {
       "columns": [
        {
         "name": "index",
         "rawType": "int64",
         "type": "integer"
        },
        {
         "name": "title",
         "rawType": "object",
         "type": "string"
        },
        {
         "name": "agg_cluster",
         "rawType": "int64",
         "type": "integer"
        }
       ],
       "ref": "f0f0b290-5ba9-4716-b3cd-2a2f855a47d7",
       "rows": [
        [
         "0",
         "Accupressure Guide",
         "0"
        ],
        [
         "8",
         "Ac Market tips",
         "0"
        ],
        [
         "10",
         "Piano Wizard Premier With 49E Keystation",
         "0"
        ],
        [
         "15",
         "Fat Dragons",
         "0"
        ],
        [
         "16",
         "TrainMania Lite",
         "0"
        ],
        [
         "17",
         "Line Rider",
         "0"
        ],
        [
         "18",
         "World Explorer",
         "0"
        ],
        [
         "21",
         "New Coupons, Daily Deals and Freebies - Updated Daily",
         "0"
        ],
        [
         "23",
         "London Transport Status",
         "0"
        ],
        [
         "24",
         "Soccer by Fawesome.tv",
         "0"
        ]
       ],
       "shape": {
        "columns": 2,
        "rows": 10
       }
      },
      "text/html": [
       "<div>\n",
       "<style scoped>\n",
       "    .dataframe tbody tr th:only-of-type {\n",
       "        vertical-align: middle;\n",
       "    }\n",
       "\n",
       "    .dataframe tbody tr th {\n",
       "        vertical-align: top;\n",
       "    }\n",
       "\n",
       "    .dataframe thead th {\n",
       "        text-align: right;\n",
       "    }\n",
       "</style>\n",
       "<table border=\"1\" class=\"dataframe\">\n",
       "  <thead>\n",
       "    <tr style=\"text-align: right;\">\n",
       "      <th></th>\n",
       "      <th>title</th>\n",
       "      <th>agg_cluster</th>\n",
       "    </tr>\n",
       "  </thead>\n",
       "  <tbody>\n",
       "    <tr>\n",
       "      <th>0</th>\n",
       "      <td>Accupressure Guide</td>\n",
       "      <td>0</td>\n",
       "    </tr>\n",
       "    <tr>\n",
       "      <th>8</th>\n",
       "      <td>Ac Market tips</td>\n",
       "      <td>0</td>\n",
       "    </tr>\n",
       "    <tr>\n",
       "      <th>10</th>\n",
       "      <td>Piano Wizard Premier With 49E Keystation</td>\n",
       "      <td>0</td>\n",
       "    </tr>\n",
       "    <tr>\n",
       "      <th>15</th>\n",
       "      <td>Fat Dragons</td>\n",
       "      <td>0</td>\n",
       "    </tr>\n",
       "    <tr>\n",
       "      <th>16</th>\n",
       "      <td>TrainMania Lite</td>\n",
       "      <td>0</td>\n",
       "    </tr>\n",
       "    <tr>\n",
       "      <th>17</th>\n",
       "      <td>Line Rider</td>\n",
       "      <td>0</td>\n",
       "    </tr>\n",
       "    <tr>\n",
       "      <th>18</th>\n",
       "      <td>World Explorer</td>\n",
       "      <td>0</td>\n",
       "    </tr>\n",
       "    <tr>\n",
       "      <th>21</th>\n",
       "      <td>New Coupons, Daily Deals and Freebies - Update...</td>\n",
       "      <td>0</td>\n",
       "    </tr>\n",
       "    <tr>\n",
       "      <th>23</th>\n",
       "      <td>London Transport Status</td>\n",
       "      <td>0</td>\n",
       "    </tr>\n",
       "    <tr>\n",
       "      <th>24</th>\n",
       "      <td>Soccer by Fawesome.tv</td>\n",
       "      <td>0</td>\n",
       "    </tr>\n",
       "  </tbody>\n",
       "</table>\n",
       "</div>"
      ],
      "text/plain": [
       "                                                title  agg_cluster\n",
       "0                                  Accupressure Guide            0\n",
       "8                                      Ac Market tips            0\n",
       "10           Piano Wizard Premier With 49E Keystation            0\n",
       "15                                        Fat Dragons            0\n",
       "16                                    TrainMania Lite            0\n",
       "17                                         Line Rider            0\n",
       "18                                     World Explorer            0\n",
       "21  New Coupons, Daily Deals and Freebies - Update...            0\n",
       "23                            London Transport Status            0\n",
       "24                              Soccer by Fawesome.tv            0"
      ]
     },
     "metadata": {},
     "output_type": "display_data"
    },
    {
     "name": "stdout",
     "output_type": "stream",
     "text": [
      ">>>>\n",
      "\n",
      ">>>> Cluster 2\n"
     ]
    },
    {
     "data": {
      "application/vnd.microsoft.datawrangler.viewer.v0+json": {
       "columns": [
        {
         "name": "index",
         "rawType": "int64",
         "type": "integer"
        },
        {
         "name": "title",
         "rawType": "object",
         "type": "string"
        },
        {
         "name": "agg_cluster",
         "rawType": "int64",
         "type": "integer"
        }
       ],
       "ref": "a443947c-de99-4395-9692-fd56a6a95f4c",
       "rows": [
        [
         "2",
         "Mahjong 2015",
         "1"
        ],
        [
         "6",
         "My Aquarium - Hidden Object Challenge # 122",
         "1"
        ],
        [
         "26",
         "PlayHOG # 216 Hidden Object Games Free New - The Candy Snatchers",
         "1"
        ],
        [
         "67",
         "2048 Drop n Merge Numbers: Match 3 Columns Puzzle",
         "1"
        ],
        [
         "92",
         "Crime Story - Hidden Witness in Dark Shadows",
         "1"
        ],
        [
         "120",
         "Mahjong Holiday Joy 2016",
         "1"
        ],
        [
         "122",
         "Wood Block Puzzle - Sudoku Woody Block Puzzles Game Free",
         "1"
        ],
        [
         "134",
         "Beard Salon – Free Games for Kids.",
         "1"
        ],
        [
         "137",
         "Hidden Scenes - Mystery Mansion",
         "1"
        ],
        [
         "145",
         "Castle: The 3D Hidden Objects Adventure Game FREE",
         "1"
        ]
       ],
       "shape": {
        "columns": 2,
        "rows": 10
       }
      },
      "text/html": [
       "<div>\n",
       "<style scoped>\n",
       "    .dataframe tbody tr th:only-of-type {\n",
       "        vertical-align: middle;\n",
       "    }\n",
       "\n",
       "    .dataframe tbody tr th {\n",
       "        vertical-align: top;\n",
       "    }\n",
       "\n",
       "    .dataframe thead th {\n",
       "        text-align: right;\n",
       "    }\n",
       "</style>\n",
       "<table border=\"1\" class=\"dataframe\">\n",
       "  <thead>\n",
       "    <tr style=\"text-align: right;\">\n",
       "      <th></th>\n",
       "      <th>title</th>\n",
       "      <th>agg_cluster</th>\n",
       "    </tr>\n",
       "  </thead>\n",
       "  <tbody>\n",
       "    <tr>\n",
       "      <th>2</th>\n",
       "      <td>Mahjong 2015</td>\n",
       "      <td>1</td>\n",
       "    </tr>\n",
       "    <tr>\n",
       "      <th>6</th>\n",
       "      <td>My Aquarium - Hidden Object Challenge # 122</td>\n",
       "      <td>1</td>\n",
       "    </tr>\n",
       "    <tr>\n",
       "      <th>26</th>\n",
       "      <td>PlayHOG # 216 Hidden Object Games Free New - T...</td>\n",
       "      <td>1</td>\n",
       "    </tr>\n",
       "    <tr>\n",
       "      <th>67</th>\n",
       "      <td>2048 Drop n Merge Numbers: Match 3 Columns Puzzle</td>\n",
       "      <td>1</td>\n",
       "    </tr>\n",
       "    <tr>\n",
       "      <th>92</th>\n",
       "      <td>Crime Story - Hidden Witness in Dark Shadows</td>\n",
       "      <td>1</td>\n",
       "    </tr>\n",
       "    <tr>\n",
       "      <th>120</th>\n",
       "      <td>Mahjong Holiday Joy 2016</td>\n",
       "      <td>1</td>\n",
       "    </tr>\n",
       "    <tr>\n",
       "      <th>122</th>\n",
       "      <td>Wood Block Puzzle - Sudoku Woody Block Puzzles...</td>\n",
       "      <td>1</td>\n",
       "    </tr>\n",
       "    <tr>\n",
       "      <th>134</th>\n",
       "      <td>Beard Salon – Free Games for Kids.</td>\n",
       "      <td>1</td>\n",
       "    </tr>\n",
       "    <tr>\n",
       "      <th>137</th>\n",
       "      <td>Hidden Scenes - Mystery Mansion</td>\n",
       "      <td>1</td>\n",
       "    </tr>\n",
       "    <tr>\n",
       "      <th>145</th>\n",
       "      <td>Castle: The 3D Hidden Objects Adventure Game FREE</td>\n",
       "      <td>1</td>\n",
       "    </tr>\n",
       "  </tbody>\n",
       "</table>\n",
       "</div>"
      ],
      "text/plain": [
       "                                                 title  agg_cluster\n",
       "2                                         Mahjong 2015            1\n",
       "6          My Aquarium - Hidden Object Challenge # 122            1\n",
       "26   PlayHOG # 216 Hidden Object Games Free New - T...            1\n",
       "67   2048 Drop n Merge Numbers: Match 3 Columns Puzzle            1\n",
       "92        Crime Story - Hidden Witness in Dark Shadows            1\n",
       "120                           Mahjong Holiday Joy 2016            1\n",
       "122  Wood Block Puzzle - Sudoku Woody Block Puzzles...            1\n",
       "134                 Beard Salon – Free Games for Kids.            1\n",
       "137                    Hidden Scenes - Mystery Mansion            1\n",
       "145  Castle: The 3D Hidden Objects Adventure Game FREE            1"
      ]
     },
     "metadata": {},
     "output_type": "display_data"
    },
    {
     "name": "stdout",
     "output_type": "stream",
     "text": [
      ">>>>\n",
      "\n",
      ">>>> Cluster 3\n"
     ]
    },
    {
     "data": {
      "application/vnd.microsoft.datawrangler.viewer.v0+json": {
       "columns": [
        {
         "name": "index",
         "rawType": "int64",
         "type": "integer"
        },
        {
         "name": "title",
         "rawType": "object",
         "type": "string"
        },
        {
         "name": "agg_cluster",
         "rawType": "int64",
         "type": "integer"
        }
       ],
       "ref": "16b791c9-02ed-4f2c-9eea-a82df159e6be",
       "rows": [
        [
         "19",
         "Corel PaintShop Pro X4 [Old Version]",
         "2"
        ],
        [
         "20",
         "Que Publishing 0789738252 Power Excel 2007 with Mr Excel (Video LiveLessons)",
         "2"
        ],
        [
         "42",
         "TurboTax Deluxe 2014 Fed + State + Fed Efile Tax Software - Win [Download] OLD VERSION",
         "2"
        ],
        [
         "45",
         "Microsoft Virtual PC for Mac 6.1 [Old Version]",
         "2"
        ],
        [
         "47",
         "AutoCAD Freestyle [Old Version]",
         "2"
        ],
        [
         "48",
         "Anime Studio Pro 9.5",
         "2"
        ],
        [
         "54",
         "Kaspersky Internet Security Multi-Device 2015 5 Devices, 1 Year",
         "2"
        ],
        [
         "60",
         "MyScript Studio Notes Edition [Download]",
         "2"
        ],
        [
         "87",
         "TurboTax Deluxe Fed 2022",
         "2"
        ],
        [
         "88",
         "OVER 34,887 DESIGNS HUGE MEGA Vector Clipart Vinyl Cutter Slgn Design Artwork-EPS Vector Art Software plotter Clip Art Images",
         "2"
        ]
       ],
       "shape": {
        "columns": 2,
        "rows": 10
       }
      },
      "text/html": [
       "<div>\n",
       "<style scoped>\n",
       "    .dataframe tbody tr th:only-of-type {\n",
       "        vertical-align: middle;\n",
       "    }\n",
       "\n",
       "    .dataframe tbody tr th {\n",
       "        vertical-align: top;\n",
       "    }\n",
       "\n",
       "    .dataframe thead th {\n",
       "        text-align: right;\n",
       "    }\n",
       "</style>\n",
       "<table border=\"1\" class=\"dataframe\">\n",
       "  <thead>\n",
       "    <tr style=\"text-align: right;\">\n",
       "      <th></th>\n",
       "      <th>title</th>\n",
       "      <th>agg_cluster</th>\n",
       "    </tr>\n",
       "  </thead>\n",
       "  <tbody>\n",
       "    <tr>\n",
       "      <th>19</th>\n",
       "      <td>Corel PaintShop Pro X4 [Old Version]</td>\n",
       "      <td>2</td>\n",
       "    </tr>\n",
       "    <tr>\n",
       "      <th>20</th>\n",
       "      <td>Que Publishing 0789738252 Power Excel 2007 wit...</td>\n",
       "      <td>2</td>\n",
       "    </tr>\n",
       "    <tr>\n",
       "      <th>42</th>\n",
       "      <td>TurboTax Deluxe 2014 Fed + State + Fed Efile T...</td>\n",
       "      <td>2</td>\n",
       "    </tr>\n",
       "    <tr>\n",
       "      <th>45</th>\n",
       "      <td>Microsoft Virtual PC for Mac 6.1 [Old Version]</td>\n",
       "      <td>2</td>\n",
       "    </tr>\n",
       "    <tr>\n",
       "      <th>47</th>\n",
       "      <td>AutoCAD Freestyle [Old Version]</td>\n",
       "      <td>2</td>\n",
       "    </tr>\n",
       "    <tr>\n",
       "      <th>48</th>\n",
       "      <td>Anime Studio Pro 9.5</td>\n",
       "      <td>2</td>\n",
       "    </tr>\n",
       "    <tr>\n",
       "      <th>54</th>\n",
       "      <td>Kaspersky Internet Security Multi-Device 2015 ...</td>\n",
       "      <td>2</td>\n",
       "    </tr>\n",
       "    <tr>\n",
       "      <th>60</th>\n",
       "      <td>MyScript Studio Notes Edition [Download]</td>\n",
       "      <td>2</td>\n",
       "    </tr>\n",
       "    <tr>\n",
       "      <th>87</th>\n",
       "      <td>TurboTax Deluxe Fed 2022</td>\n",
       "      <td>2</td>\n",
       "    </tr>\n",
       "    <tr>\n",
       "      <th>88</th>\n",
       "      <td>OVER 34,887 DESIGNS HUGE MEGA Vector Clipart V...</td>\n",
       "      <td>2</td>\n",
       "    </tr>\n",
       "  </tbody>\n",
       "</table>\n",
       "</div>"
      ],
      "text/plain": [
       "                                                title  agg_cluster\n",
       "19               Corel PaintShop Pro X4 [Old Version]            2\n",
       "20  Que Publishing 0789738252 Power Excel 2007 wit...            2\n",
       "42  TurboTax Deluxe 2014 Fed + State + Fed Efile T...            2\n",
       "45     Microsoft Virtual PC for Mac 6.1 [Old Version]            2\n",
       "47                    AutoCAD Freestyle [Old Version]            2\n",
       "48                               Anime Studio Pro 9.5            2\n",
       "54  Kaspersky Internet Security Multi-Device 2015 ...            2\n",
       "60           MyScript Studio Notes Edition [Download]            2\n",
       "87                           TurboTax Deluxe Fed 2022            2\n",
       "88  OVER 34,887 DESIGNS HUGE MEGA Vector Clipart V...            2"
      ]
     },
     "metadata": {},
     "output_type": "display_data"
    },
    {
     "name": "stdout",
     "output_type": "stream",
     "text": [
      ">>>>\n",
      "\n",
      ">>>> Cluster 4\n"
     ]
    },
    {
     "data": {
      "application/vnd.microsoft.datawrangler.viewer.v0+json": {
       "columns": [
        {
         "name": "index",
         "rawType": "int64",
         "type": "integer"
        },
        {
         "name": "title",
         "rawType": "object",
         "type": "string"
        },
        {
         "name": "agg_cluster",
         "rawType": "int64",
         "type": "integer"
        }
       ],
       "ref": "cf6cbb6c-d4af-469a-9793-e25c5e5df22d",
       "rows": [
        [
         "43",
         "Dinosaurus",
         "3"
        ],
        [
         "84",
         "96.1BOBFM",
         "3"
        ],
        [
         "91",
         "NextView",
         "3"
        ],
        [
         "100",
         "LoanPayment",
         "3"
        ],
        [
         "107",
         "NewsWatch",
         "3"
        ],
        [
         "109",
         "aCheckbook+",
         "3"
        ],
        [
         "161",
         "WikiPedi",
         "3"
        ],
        [
         "165",
         "UniWar",
         "3"
        ],
        [
         "271",
         "BoxCast",
         "3"
        ],
        [
         "299",
         "RomaniaTvFREE",
         "3"
        ]
       ],
       "shape": {
        "columns": 2,
        "rows": 10
       }
      },
      "text/html": [
       "<div>\n",
       "<style scoped>\n",
       "    .dataframe tbody tr th:only-of-type {\n",
       "        vertical-align: middle;\n",
       "    }\n",
       "\n",
       "    .dataframe tbody tr th {\n",
       "        vertical-align: top;\n",
       "    }\n",
       "\n",
       "    .dataframe thead th {\n",
       "        text-align: right;\n",
       "    }\n",
       "</style>\n",
       "<table border=\"1\" class=\"dataframe\">\n",
       "  <thead>\n",
       "    <tr style=\"text-align: right;\">\n",
       "      <th></th>\n",
       "      <th>title</th>\n",
       "      <th>agg_cluster</th>\n",
       "    </tr>\n",
       "  </thead>\n",
       "  <tbody>\n",
       "    <tr>\n",
       "      <th>43</th>\n",
       "      <td>Dinosaurus</td>\n",
       "      <td>3</td>\n",
       "    </tr>\n",
       "    <tr>\n",
       "      <th>84</th>\n",
       "      <td>96.1BOBFM</td>\n",
       "      <td>3</td>\n",
       "    </tr>\n",
       "    <tr>\n",
       "      <th>91</th>\n",
       "      <td>NextView</td>\n",
       "      <td>3</td>\n",
       "    </tr>\n",
       "    <tr>\n",
       "      <th>100</th>\n",
       "      <td>LoanPayment</td>\n",
       "      <td>3</td>\n",
       "    </tr>\n",
       "    <tr>\n",
       "      <th>107</th>\n",
       "      <td>NewsWatch</td>\n",
       "      <td>3</td>\n",
       "    </tr>\n",
       "    <tr>\n",
       "      <th>109</th>\n",
       "      <td>aCheckbook+</td>\n",
       "      <td>3</td>\n",
       "    </tr>\n",
       "    <tr>\n",
       "      <th>161</th>\n",
       "      <td>WikiPedi</td>\n",
       "      <td>3</td>\n",
       "    </tr>\n",
       "    <tr>\n",
       "      <th>165</th>\n",
       "      <td>UniWar</td>\n",
       "      <td>3</td>\n",
       "    </tr>\n",
       "    <tr>\n",
       "      <th>271</th>\n",
       "      <td>BoxCast</td>\n",
       "      <td>3</td>\n",
       "    </tr>\n",
       "    <tr>\n",
       "      <th>299</th>\n",
       "      <td>RomaniaTvFREE</td>\n",
       "      <td>3</td>\n",
       "    </tr>\n",
       "  </tbody>\n",
       "</table>\n",
       "</div>"
      ],
      "text/plain": [
       "             title  agg_cluster\n",
       "43      Dinosaurus            3\n",
       "84       96.1BOBFM            3\n",
       "91        NextView            3\n",
       "100    LoanPayment            3\n",
       "107      NewsWatch            3\n",
       "109    aCheckbook+            3\n",
       "161       WikiPedi            3\n",
       "165         UniWar            3\n",
       "271        BoxCast            3\n",
       "299  RomaniaTvFREE            3"
      ]
     },
     "metadata": {},
     "output_type": "display_data"
    },
    {
     "name": "stdout",
     "output_type": "stream",
     "text": [
      ">>>>\n",
      "\n",
      ">>>> Cluster 5\n"
     ]
    },
    {
     "data": {
      "application/vnd.microsoft.datawrangler.viewer.v0+json": {
       "columns": [
        {
         "name": "index",
         "rawType": "int64",
         "type": "integer"
        },
        {
         "name": "title",
         "rawType": "object",
         "type": "string"
        },
        {
         "name": "agg_cluster",
         "rawType": "int64",
         "type": "integer"
        }
       ],
       "ref": "0c1cb3e1-ce0b-47d0-bf89-57f34749afa8",
       "rows": [
        [
         "1",
         "Ankylosaurus Fights Back - Smithsonian's Prehistoric Pals",
         "4"
        ],
        [
         "3",
         "Jewels Brick Breakout",
         "4"
        ],
        [
         "4",
         "Traffic Police: Off-Road Cub",
         "4"
        ],
        [
         "5",
         "Shadow Fighting Superhero War",
         "4"
        ],
        [
         "7",
         "Giant Surprise Petcage! Unlock Superhero Puppy",
         "4"
        ],
        [
         "9",
         "Gem Shopping Network",
         "4"
        ],
        [
         "11",
         "Boxing Game 3D - Real Fighting",
         "4"
        ],
        [
         "12",
         "RoverCraft Race Your Space Car",
         "4"
        ],
        [
         "13",
         "HALLOWEEN MATCH 3 IN A ROW",
         "4"
        ],
        [
         "14",
         "For Rent: Haunted House",
         "4"
        ]
       ],
       "shape": {
        "columns": 2,
        "rows": 10
       }
      },
      "text/html": [
       "<div>\n",
       "<style scoped>\n",
       "    .dataframe tbody tr th:only-of-type {\n",
       "        vertical-align: middle;\n",
       "    }\n",
       "\n",
       "    .dataframe tbody tr th {\n",
       "        vertical-align: top;\n",
       "    }\n",
       "\n",
       "    .dataframe thead th {\n",
       "        text-align: right;\n",
       "    }\n",
       "</style>\n",
       "<table border=\"1\" class=\"dataframe\">\n",
       "  <thead>\n",
       "    <tr style=\"text-align: right;\">\n",
       "      <th></th>\n",
       "      <th>title</th>\n",
       "      <th>agg_cluster</th>\n",
       "    </tr>\n",
       "  </thead>\n",
       "  <tbody>\n",
       "    <tr>\n",
       "      <th>1</th>\n",
       "      <td>Ankylosaurus Fights Back - Smithsonian's Prehi...</td>\n",
       "      <td>4</td>\n",
       "    </tr>\n",
       "    <tr>\n",
       "      <th>3</th>\n",
       "      <td>Jewels Brick Breakout</td>\n",
       "      <td>4</td>\n",
       "    </tr>\n",
       "    <tr>\n",
       "      <th>4</th>\n",
       "      <td>Traffic Police: Off-Road Cub</td>\n",
       "      <td>4</td>\n",
       "    </tr>\n",
       "    <tr>\n",
       "      <th>5</th>\n",
       "      <td>Shadow Fighting Superhero War</td>\n",
       "      <td>4</td>\n",
       "    </tr>\n",
       "    <tr>\n",
       "      <th>7</th>\n",
       "      <td>Giant Surprise Petcage! Unlock Superhero Puppy</td>\n",
       "      <td>4</td>\n",
       "    </tr>\n",
       "    <tr>\n",
       "      <th>9</th>\n",
       "      <td>Gem Shopping Network</td>\n",
       "      <td>4</td>\n",
       "    </tr>\n",
       "    <tr>\n",
       "      <th>11</th>\n",
       "      <td>Boxing Game 3D - Real Fighting</td>\n",
       "      <td>4</td>\n",
       "    </tr>\n",
       "    <tr>\n",
       "      <th>12</th>\n",
       "      <td>RoverCraft Race Your Space Car</td>\n",
       "      <td>4</td>\n",
       "    </tr>\n",
       "    <tr>\n",
       "      <th>13</th>\n",
       "      <td>HALLOWEEN MATCH 3 IN A ROW</td>\n",
       "      <td>4</td>\n",
       "    </tr>\n",
       "    <tr>\n",
       "      <th>14</th>\n",
       "      <td>For Rent: Haunted House</td>\n",
       "      <td>4</td>\n",
       "    </tr>\n",
       "  </tbody>\n",
       "</table>\n",
       "</div>"
      ],
      "text/plain": [
       "                                                title  agg_cluster\n",
       "1   Ankylosaurus Fights Back - Smithsonian's Prehi...            4\n",
       "3                               Jewels Brick Breakout            4\n",
       "4                        Traffic Police: Off-Road Cub            4\n",
       "5                       Shadow Fighting Superhero War            4\n",
       "7      Giant Surprise Petcage! Unlock Superhero Puppy            4\n",
       "9                                Gem Shopping Network            4\n",
       "11                     Boxing Game 3D - Real Fighting            4\n",
       "12                     RoverCraft Race Your Space Car            4\n",
       "13                         HALLOWEEN MATCH 3 IN A ROW            4\n",
       "14                            For Rent: Haunted House            4"
      ]
     },
     "metadata": {},
     "output_type": "display_data"
    },
    {
     "name": "stdout",
     "output_type": "stream",
     "text": [
      ">>>>\n",
      "\n"
     ]
    }
   ],
   "source": [
    "for i in range( N_AGGLOMERATIVE_CLUSTERS ):\n",
    "    print(f\">>>> Cluster {i + 1}\")\n",
    "    display( meta_items_pandas_sample[ meta_items_pandas_sample['agg_cluster'] == i ][['title', 'agg_cluster']].head(10) )\n",
    "    print(f\">>>>\\n\")"
   ]
  },
  {
   "cell_type": "markdown",
   "id": "2769ff5d",
   "metadata": {},
   "source": [
    "#### DBScan Clustering"
   ]
  },
  {
   "cell_type": "code",
   "execution_count": 13,
   "id": "17ea25e5",
   "metadata": {},
   "outputs": [
    {
     "data": {
      "image/png": "[encoded data removed]",
      "text/plain": [
       "<Figure size 800x400 with 1 Axes>"
      ]
     },
     "metadata": {},
     "output_type": "display_data"
    }
   ],
   "source": [
    "X = embeddings_np\n",
    "\n",
    "neighbors = NearestNeighbors(n_neighbors=10, metric='cosine')\n",
    "neighbors_fit = neighbors.fit(X)\n",
    "distances, indices = neighbors_fit.kneighbors(X)\n",
    "\n",
    "k_distances = np.sort(distances[:, 9])\n",
    "\n",
    "plt.figure(figsize=(8, 4))\n",
    "plt.plot(k_distances)\n",
    "plt.title(\"k-distance (k=10)\")\n",
    "plt.xlabel(\"Points sorted by distance to 10th nearest neighbor\")\n",
    "plt.ylabel(\"Cosine Distance\")\n",
    "plt.grid(True)\n",
    "plt.show()"
   ]
  },
  {
   "cell_type": "code",
   "execution_count": 14,
   "id": "5df6aff2",
   "metadata": {},
   "outputs": [],
   "source": [
    "dbscan_model = DBSCAN(\n",
    "    eps = 0.5,\n",
    "    metric = 'cosine',\n",
    "    min_samples = 10\n",
    ")"
   ]
  },
  {
   "cell_type": "code",
   "execution_count": 15,
   "id": "e45ca0ee",
   "metadata": {},
   "outputs": [],
   "source": [
    "meta_items_pandas_sample['dbscan_cluster'] = dbscan_model.fit_predict( embeddings_np )"
   ]
  },
  {
   "cell_type": "code",
   "execution_count": 16,
   "id": "2d1a1c01",
   "metadata": {},
   "outputs": [],
   "source": [
    "dbscan_labels = set(dbscan_model.labels_)"
   ]
  },
  {
   "cell_type": "code",
   "execution_count": 17,
   "id": "dcb3ea0e",
   "metadata": {},
   "outputs": [
    {
     "name": "stdout",
     "output_type": "stream",
     "text": [
      ">>>> Cluster 1\n"
     ]
    },
    {
     "data": {
      "application/vnd.microsoft.datawrangler.viewer.v0+json": {
       "columns": [
        {
         "name": "index",
         "rawType": "int64",
         "type": "integer"
        },
        {
         "name": "title",
         "rawType": "object",
         "type": "string"
        },
        {
         "name": "dbscan_cluster",
         "rawType": "int64",
         "type": "integer"
        }
       ],
       "ref": "d24c6614-5f7a-4422-9da6-709381dd774d",
       "rows": [
        [
         "1",
         "Ankylosaurus Fights Back - Smithsonian's Prehistoric Pals",
         "0"
        ],
        [
         "2",
         "Mahjong 2015",
         "0"
        ],
        [
         "3",
         "Jewels Brick Breakout",
         "0"
        ],
        [
         "4",
         "Traffic Police: Off-Road Cub",
         "0"
        ],
        [
         "5",
         "Shadow Fighting Superhero War",
         "0"
        ],
        [
         "6",
         "My Aquarium - Hidden Object Challenge # 122",
         "0"
        ],
        [
         "7",
         "Giant Surprise Petcage! Unlock Superhero Puppy",
         "0"
        ],
        [
         "9",
         "Gem Shopping Network",
         "0"
        ],
        [
         "10",
         "Piano Wizard Premier With 49E Keystation",
         "0"
        ],
        [
         "11",
         "Boxing Game 3D - Real Fighting",
         "0"
        ]
       ],
       "shape": {
        "columns": 2,
        "rows": 10
       }
      },
      "text/html": [
       "<div>\n",
       "<style scoped>\n",
       "    .dataframe tbody tr th:only-of-type {\n",
       "        vertical-align: middle;\n",
       "    }\n",
       "\n",
       "    .dataframe tbody tr th {\n",
       "        vertical-align: top;\n",
       "    }\n",
       "\n",
       "    .dataframe thead th {\n",
       "        text-align: right;\n",
       "    }\n",
       "</style>\n",
       "<table border=\"1\" class=\"dataframe\">\n",
       "  <thead>\n",
       "    <tr style=\"text-align: right;\">\n",
       "      <th></th>\n",
       "      <th>title</th>\n",
       "      <th>dbscan_cluster</th>\n",
       "    </tr>\n",
       "  </thead>\n",
       "  <tbody>\n",
       "    <tr>\n",
       "      <th>1</th>\n",
       "      <td>Ankylosaurus Fights Back - Smithsonian's Prehi...</td>\n",
       "      <td>0</td>\n",
       "    </tr>\n",
       "    <tr>\n",
       "      <th>2</th>\n",
       "      <td>Mahjong 2015</td>\n",
       "      <td>0</td>\n",
       "    </tr>\n",
       "    <tr>\n",
       "      <th>3</th>\n",
       "      <td>Jewels Brick Breakout</td>\n",
       "      <td>0</td>\n",
       "    </tr>\n",
       "    <tr>\n",
       "      <th>4</th>\n",
       "      <td>Traffic Police: Off-Road Cub</td>\n",
       "      <td>0</td>\n",
       "    </tr>\n",
       "    <tr>\n",
       "      <th>5</th>\n",
       "      <td>Shadow Fighting Superhero War</td>\n",
       "      <td>0</td>\n",
       "    </tr>\n",
       "    <tr>\n",
       "      <th>6</th>\n",
       "      <td>My Aquarium - Hidden Object Challenge # 122</td>\n",
       "      <td>0</td>\n",
       "    </tr>\n",
       "    <tr>\n",
       "      <th>7</th>\n",
       "      <td>Giant Surprise Petcage! Unlock Superhero Puppy</td>\n",
       "      <td>0</td>\n",
       "    </tr>\n",
       "    <tr>\n",
       "      <th>9</th>\n",
       "      <td>Gem Shopping Network</td>\n",
       "      <td>0</td>\n",
       "    </tr>\n",
       "    <tr>\n",
       "      <th>10</th>\n",
       "      <td>Piano Wizard Premier With 49E Keystation</td>\n",
       "      <td>0</td>\n",
       "    </tr>\n",
       "    <tr>\n",
       "      <th>11</th>\n",
       "      <td>Boxing Game 3D - Real Fighting</td>\n",
       "      <td>0</td>\n",
       "    </tr>\n",
       "  </tbody>\n",
       "</table>\n",
       "</div>"
      ],
      "text/plain": [
       "                                                title  dbscan_cluster\n",
       "1   Ankylosaurus Fights Back - Smithsonian's Prehi...               0\n",
       "2                                        Mahjong 2015               0\n",
       "3                               Jewels Brick Breakout               0\n",
       "4                        Traffic Police: Off-Road Cub               0\n",
       "5                       Shadow Fighting Superhero War               0\n",
       "6         My Aquarium - Hidden Object Challenge # 122               0\n",
       "7      Giant Surprise Petcage! Unlock Superhero Puppy               0\n",
       "9                                Gem Shopping Network               0\n",
       "10           Piano Wizard Premier With 49E Keystation               0\n",
       "11                     Boxing Game 3D - Real Fighting               0"
      ]
     },
     "metadata": {},
     "output_type": "display_data"
    },
    {
     "name": "stdout",
     "output_type": "stream",
     "text": [
      ">>>>\n",
      "\n",
      ">>>> Cluster 2\n"
     ]
    },
    {
     "data": {
      "application/vnd.microsoft.datawrangler.viewer.v0+json": {
       "columns": [
        {
         "name": "index",
         "rawType": "int64",
         "type": "integer"
        },
        {
         "name": "title",
         "rawType": "object",
         "type": "string"
        },
        {
         "name": "dbscan_cluster",
         "rawType": "int64",
         "type": "integer"
        }
       ],
       "ref": "f4add154-eb24-4233-8806-b6defd65991e",
       "rows": [
        [
         "95",
         "FREE City Night Dream - decor your room with beautiful scenery on your HDR 8K 4K TV and Fire Devices as a wallpaper & Theme for Mediation & Peace",
         "1"
        ],
        [
         "1522",
         "FREE Rainy Wonders HD - Enjoy the relaxing rainfall on your HDR 4K TV, 8K TV and Fire Devices as a wallpaper, Decoration for Christmas Holidays, Theme for Mediation & Peace",
         "1"
        ],
        [
         "1594",
         "FREE Decent Gas Fireplace HD - Enjoy the Cooled Christmas Holidays in Winter on your HDR 4K TV, 8K TV and Fire Devices as a wallpaper & Theme for Mediation & Peace",
         "1"
        ],
        [
         "2631",
         "FREE Stone Fireplace Pack HD - Enjoy the Cooled Christmas Holidays in Winter on your HDR 4K TV, 8K TV and Fire Devices as a wallpaper, Decoration for Christmas Holidays, Theme for Mediation & Peace",
         "1"
        ],
        [
         "2920",
         "FREE Fireplace Bricks HD - enjoy the winter Christmas vacations on your HDR 8K 4K TV and fire devices as a wallpaper & theme for mediation & peace",
         "1"
        ],
        [
         "3960",
         "FREE Motion Waterfall HD - Decorate your room with Beautiful Scenery on your HDR 4K TV, 8K TV and Fire Devices as a wallpaper, Decoration for Christmas Holidays, Theme for Mediation & Peace",
         "1"
        ],
        [
         "4531",
         "FREE Waterside Fireworks HD , Decor your celebrations with beautiful lighting on your HDR 8K 4K TV and Fire Devices as a wallpaper & Theme for Mediation & Peace",
         "1"
        ],
        [
         "6258",
         "FREE Green Rainfall HD - Relaxing Rainy Ambience to overcome Stress - An App on your HDR 8K 4K TV and fire devices as a wallpaper & theme for mediation & peace",
         "1"
        ],
        [
         "6881",
         "FREE Calm Moon Lights HD - Decorate your room with beautiful romantic scenery on your HDR 4K TV, 8K TV and Fire Devices as a wallpaper, Decoration for Christmas Holidays, Theme for Mediation & Peace",
         "1"
        ],
        [
         "7341",
         "FREE Bricks Fireplace HD - Enjoy the Cooled Christmas Holidays in Winter on your HDR 4K TV, 8K TV and Fire Devices as a wallpaper, Decoration for Christmas Holidays, Theme for Mediation & Peace",
         "1"
        ]
       ],
       "shape": {
        "columns": 2,
        "rows": 10
       }
      },
      "text/html": [
       "<div>\n",
       "<style scoped>\n",
       "    .dataframe tbody tr th:only-of-type {\n",
       "        vertical-align: middle;\n",
       "    }\n",
       "\n",
       "    .dataframe tbody tr th {\n",
       "        vertical-align: top;\n",
       "    }\n",
       "\n",
       "    .dataframe thead th {\n",
       "        text-align: right;\n",
       "    }\n",
       "</style>\n",
       "<table border=\"1\" class=\"dataframe\">\n",
       "  <thead>\n",
       "    <tr style=\"text-align: right;\">\n",
       "      <th></th>\n",
       "      <th>title</th>\n",
       "      <th>dbscan_cluster</th>\n",
       "    </tr>\n",
       "  </thead>\n",
       "  <tbody>\n",
       "    <tr>\n",
       "      <th>95</th>\n",
       "      <td>FREE City Night Dream - decor your room with b...</td>\n",
       "      <td>1</td>\n",
       "    </tr>\n",
       "    <tr>\n",
       "      <th>1522</th>\n",
       "      <td>FREE Rainy Wonders HD - Enjoy the relaxing rai...</td>\n",
       "      <td>1</td>\n",
       "    </tr>\n",
       "    <tr>\n",
       "      <th>1594</th>\n",
       "      <td>FREE Decent Gas Fireplace HD - Enjoy the Coole...</td>\n",
       "      <td>1</td>\n",
       "    </tr>\n",
       "    <tr>\n",
       "      <th>2631</th>\n",
       "      <td>FREE Stone Fireplace Pack HD - Enjoy the Coole...</td>\n",
       "      <td>1</td>\n",
       "    </tr>\n",
       "    <tr>\n",
       "      <th>2920</th>\n",
       "      <td>FREE Fireplace Bricks HD - enjoy the winter Ch...</td>\n",
       "      <td>1</td>\n",
       "    </tr>\n",
       "    <tr>\n",
       "      <th>3960</th>\n",
       "      <td>FREE Motion Waterfall HD - Decorate your room ...</td>\n",
       "      <td>1</td>\n",
       "    </tr>\n",
       "    <tr>\n",
       "      <th>4531</th>\n",
       "      <td>FREE Waterside Fireworks HD , Decor your celeb...</td>\n",
       "      <td>1</td>\n",
       "    </tr>\n",
       "    <tr>\n",
       "      <th>6258</th>\n",
       "      <td>FREE Green Rainfall HD - Relaxing Rainy Ambien...</td>\n",
       "      <td>1</td>\n",
       "    </tr>\n",
       "    <tr>\n",
       "      <th>6881</th>\n",
       "      <td>FREE Calm Moon Lights HD - Decorate your room ...</td>\n",
       "      <td>1</td>\n",
       "    </tr>\n",
       "    <tr>\n",
       "      <th>7341</th>\n",
       "      <td>FREE Bricks Fireplace HD - Enjoy the Cooled Ch...</td>\n",
       "      <td>1</td>\n",
       "    </tr>\n",
       "  </tbody>\n",
       "</table>\n",
       "</div>"
      ],
      "text/plain": [
       "                                                  title  dbscan_cluster\n",
       "95    FREE City Night Dream - decor your room with b...               1\n",
       "1522  FREE Rainy Wonders HD - Enjoy the relaxing rai...               1\n",
       "1594  FREE Decent Gas Fireplace HD - Enjoy the Coole...               1\n",
       "2631  FREE Stone Fireplace Pack HD - Enjoy the Coole...               1\n",
       "2920  FREE Fireplace Bricks HD - enjoy the winter Ch...               1\n",
       "3960  FREE Motion Waterfall HD - Decorate your room ...               1\n",
       "4531  FREE Waterside Fireworks HD , Decor your celeb...               1\n",
       "6258  FREE Green Rainfall HD - Relaxing Rainy Ambien...               1\n",
       "6881  FREE Calm Moon Lights HD - Decorate your room ...               1\n",
       "7341  FREE Bricks Fireplace HD - Enjoy the Cooled Ch...               1"
      ]
     },
     "metadata": {},
     "output_type": "display_data"
    },
    {
     "name": "stdout",
     "output_type": "stream",
     "text": [
      ">>>>\n",
      "\n",
      ">>>> Cluster 3\n"
     ]
    },
    {
     "data": {
      "application/vnd.microsoft.datawrangler.viewer.v0+json": {
       "columns": [
        {
         "name": "index",
         "rawType": "int64",
         "type": "integer"
        },
        {
         "name": "title",
         "rawType": "object",
         "type": "string"
        },
        {
         "name": "dbscan_cluster",
         "rawType": "int64",
         "type": "integer"
        }
       ],
       "ref": "07a8ff56-71e3-40c1-ad10-34cc2d1f9b66",
       "rows": [
        [
         "224",
         "A4C - Answers 4 Catholics",
         "2"
        ],
        [
         "2050",
         "Catholic Prayers",
         "2"
        ],
        [
         "5369",
         "Pray: The Catholic Novena App",
         "2"
        ],
        [
         "6087",
         "Huna Manifestation Prayer",
         "2"
        ],
        [
         "6330",
         "Prayer Times & Qibla",
         "2"
        ],
        [
         "7074",
         "My Prayer List",
         "2"
        ],
        [
         "7366",
         "Catholic Pocket Prayers",
         "2"
        ],
        [
         "8086",
         "Audio Catholic Prayer",
         "2"
        ],
        [
         "8395",
         "Catholic Daily Readings",
         "2"
        ]
       ],
       "shape": {
        "columns": 2,
        "rows": 9
       }
      },
      "text/html": [
       "<div>\n",
       "<style scoped>\n",
       "    .dataframe tbody tr th:only-of-type {\n",
       "        vertical-align: middle;\n",
       "    }\n",
       "\n",
       "    .dataframe tbody tr th {\n",
       "        vertical-align: top;\n",
       "    }\n",
       "\n",
       "    .dataframe thead th {\n",
       "        text-align: right;\n",
       "    }\n",
       "</style>\n",
       "<table border=\"1\" class=\"dataframe\">\n",
       "  <thead>\n",
       "    <tr style=\"text-align: right;\">\n",
       "      <th></th>\n",
       "      <th>title</th>\n",
       "      <th>dbscan_cluster</th>\n",
       "    </tr>\n",
       "  </thead>\n",
       "  <tbody>\n",
       "    <tr>\n",
       "      <th>224</th>\n",
       "      <td>A4C - Answers 4 Catholics</td>\n",
       "      <td>2</td>\n",
       "    </tr>\n",
       "    <tr>\n",
       "      <th>2050</th>\n",
       "      <td>Catholic Prayers</td>\n",
       "      <td>2</td>\n",
       "    </tr>\n",
       "    <tr>\n",
       "      <th>5369</th>\n",
       "      <td>Pray: The Catholic Novena App</td>\n",
       "      <td>2</td>\n",
       "    </tr>\n",
       "    <tr>\n",
       "      <th>6087</th>\n",
       "      <td>Huna Manifestation Prayer</td>\n",
       "      <td>2</td>\n",
       "    </tr>\n",
       "    <tr>\n",
       "      <th>6330</th>\n",
       "      <td>Prayer Times &amp; Qibla</td>\n",
       "      <td>2</td>\n",
       "    </tr>\n",
       "    <tr>\n",
       "      <th>7074</th>\n",
       "      <td>My Prayer List</td>\n",
       "      <td>2</td>\n",
       "    </tr>\n",
       "    <tr>\n",
       "      <th>7366</th>\n",
       "      <td>Catholic Pocket Prayers</td>\n",
       "      <td>2</td>\n",
       "    </tr>\n",
       "    <tr>\n",
       "      <th>8086</th>\n",
       "      <td>Audio Catholic Prayer</td>\n",
       "      <td>2</td>\n",
       "    </tr>\n",
       "    <tr>\n",
       "      <th>8395</th>\n",
       "      <td>Catholic Daily Readings</td>\n",
       "      <td>2</td>\n",
       "    </tr>\n",
       "  </tbody>\n",
       "</table>\n",
       "</div>"
      ],
      "text/plain": [
       "                              title  dbscan_cluster\n",
       "224       A4C - Answers 4 Catholics               2\n",
       "2050               Catholic Prayers               2\n",
       "5369  Pray: The Catholic Novena App               2\n",
       "6087      Huna Manifestation Prayer               2\n",
       "6330           Prayer Times & Qibla               2\n",
       "7074                 My Prayer List               2\n",
       "7366        Catholic Pocket Prayers               2\n",
       "8086          Audio Catholic Prayer               2\n",
       "8395        Catholic Daily Readings               2"
      ]
     },
     "metadata": {},
     "output_type": "display_data"
    },
    {
     "name": "stdout",
     "output_type": "stream",
     "text": [
      ">>>>\n",
      "\n",
      ">>>> Cluster 4\n"
     ]
    },
    {
     "data": {
      "application/vnd.microsoft.datawrangler.viewer.v0+json": {
       "columns": [
        {
         "name": "index",
         "rawType": "int64",
         "type": "integer"
        },
        {
         "name": "title",
         "rawType": "object",
         "type": "string"
        },
        {
         "name": "dbscan_cluster",
         "rawType": "int64",
         "type": "integer"
        }
       ],
       "ref": "3d5be96a-a0a5-4735-97f2-340ce9770af7",
       "rows": [
        [
         "731",
         "Stop Nail Biting Hypnosis",
         "3"
        ],
        [
         "764",
         "Stop Panic & Anxiety Self-Help",
         "3"
        ],
        [
         "1042",
         "Chill Pill Hypnosis Session",
         "3"
        ],
        [
         "2779",
         "Past Life Regression Hypnosis",
         "3"
        ],
        [
         "3556",
         "Test Taking Anxiety Hypnosis",
         "3"
        ],
        [
         "6228",
         "Weight Loss Hypnosis",
         "3"
        ],
        [
         "8153",
         "Healing Hypnosis",
         "3"
        ],
        [
         "9967",
         "Build Self-Esteem Hypnosis FREE - Mindfulness Meditation to Help You Be Confident",
         "3"
        ]
       ],
       "shape": {
        "columns": 2,
        "rows": 8
       }
      },
      "text/html": [
       "<div>\n",
       "<style scoped>\n",
       "    .dataframe tbody tr th:only-of-type {\n",
       "        vertical-align: middle;\n",
       "    }\n",
       "\n",
       "    .dataframe tbody tr th {\n",
       "        vertical-align: top;\n",
       "    }\n",
       "\n",
       "    .dataframe thead th {\n",
       "        text-align: right;\n",
       "    }\n",
       "</style>\n",
       "<table border=\"1\" class=\"dataframe\">\n",
       "  <thead>\n",
       "    <tr style=\"text-align: right;\">\n",
       "      <th></th>\n",
       "      <th>title</th>\n",
       "      <th>dbscan_cluster</th>\n",
       "    </tr>\n",
       "  </thead>\n",
       "  <tbody>\n",
       "    <tr>\n",
       "      <th>731</th>\n",
       "      <td>Stop Nail Biting Hypnosis</td>\n",
       "      <td>3</td>\n",
       "    </tr>\n",
       "    <tr>\n",
       "      <th>764</th>\n",
       "      <td>Stop Panic &amp; Anxiety Self-Help</td>\n",
       "      <td>3</td>\n",
       "    </tr>\n",
       "    <tr>\n",
       "      <th>1042</th>\n",
       "      <td>Chill Pill Hypnosis Session</td>\n",
       "      <td>3</td>\n",
       "    </tr>\n",
       "    <tr>\n",
       "      <th>2779</th>\n",
       "      <td>Past Life Regression Hypnosis</td>\n",
       "      <td>3</td>\n",
       "    </tr>\n",
       "    <tr>\n",
       "      <th>3556</th>\n",
       "      <td>Test Taking Anxiety Hypnosis</td>\n",
       "      <td>3</td>\n",
       "    </tr>\n",
       "    <tr>\n",
       "      <th>6228</th>\n",
       "      <td>Weight Loss Hypnosis</td>\n",
       "      <td>3</td>\n",
       "    </tr>\n",
       "    <tr>\n",
       "      <th>8153</th>\n",
       "      <td>Healing Hypnosis</td>\n",
       "      <td>3</td>\n",
       "    </tr>\n",
       "    <tr>\n",
       "      <th>9967</th>\n",
       "      <td>Build Self-Esteem Hypnosis FREE - Mindfulness ...</td>\n",
       "      <td>3</td>\n",
       "    </tr>\n",
       "  </tbody>\n",
       "</table>\n",
       "</div>"
      ],
      "text/plain": [
       "                                                  title  dbscan_cluster\n",
       "731                           Stop Nail Biting Hypnosis               3\n",
       "764                      Stop Panic & Anxiety Self-Help               3\n",
       "1042                        Chill Pill Hypnosis Session               3\n",
       "2779                      Past Life Regression Hypnosis               3\n",
       "3556                       Test Taking Anxiety Hypnosis               3\n",
       "6228                               Weight Loss Hypnosis               3\n",
       "8153                                   Healing Hypnosis               3\n",
       "9967  Build Self-Esteem Hypnosis FREE - Mindfulness ...               3"
      ]
     },
     "metadata": {},
     "output_type": "display_data"
    },
    {
     "name": "stdout",
     "output_type": "stream",
     "text": [
      ">>>>\n",
      "\n",
      ">>>> Cluster 5\n"
     ]
    },
    {
     "data": {
      "application/vnd.microsoft.datawrangler.viewer.v0+json": {
       "columns": [
        {
         "name": "index",
         "rawType": "int64",
         "type": "integer"
        },
        {
         "name": "title",
         "rawType": "object",
         "type": "string"
        },
        {
         "name": "dbscan_cluster",
         "rawType": "int64",
         "type": "integer"
        }
       ],
       "ref": "3a729e8d-bde0-4f48-b555-492a9ed33df8",
       "rows": [
        [
         "198",
         "monBridge-BLE to WIFI Bridge",
         "4"
        ],
        [
         "2169",
         "ShareiFi - WiFi File Transfer",
         "4"
        ],
        [
         "3324",
         "WIFI File Sharing",
         "4"
        ],
        [
         "4295",
         "Android Wifi Data Transfer",
         "4"
        ],
        [
         "4483",
         "Hack WiFi Network",
         "4"
        ],
        [
         "5416",
         "Wi-Fi Monitor",
         "4"
        ],
        [
         "6301",
         "hack WIFI password pro simulator",
         "4"
        ],
        [
         "8397",
         "PeerDeviceNet(Full Edition) - Sharing over WiFi, WiFi Direct and Hotspot",
         "4"
        ],
        [
         "9223",
         "wifi hacker wps tools pro",
         "4"
        ],
        [
         "9866",
         "Wifi Device Sharing",
         "4"
        ]
       ],
       "shape": {
        "columns": 2,
        "rows": 10
       }
      },
      "text/html": [
       "<div>\n",
       "<style scoped>\n",
       "    .dataframe tbody tr th:only-of-type {\n",
       "        vertical-align: middle;\n",
       "    }\n",
       "\n",
       "    .dataframe tbody tr th {\n",
       "        vertical-align: top;\n",
       "    }\n",
       "\n",
       "    .dataframe thead th {\n",
       "        text-align: right;\n",
       "    }\n",
       "</style>\n",
       "<table border=\"1\" class=\"dataframe\">\n",
       "  <thead>\n",
       "    <tr style=\"text-align: right;\">\n",
       "      <th></th>\n",
       "      <th>title</th>\n",
       "      <th>dbscan_cluster</th>\n",
       "    </tr>\n",
       "  </thead>\n",
       "  <tbody>\n",
       "    <tr>\n",
       "      <th>198</th>\n",
       "      <td>monBridge-BLE to WIFI Bridge</td>\n",
       "      <td>4</td>\n",
       "    </tr>\n",
       "    <tr>\n",
       "      <th>2169</th>\n",
       "      <td>ShareiFi - WiFi File Transfer</td>\n",
       "      <td>4</td>\n",
       "    </tr>\n",
       "    <tr>\n",
       "      <th>3324</th>\n",
       "      <td>WIFI File Sharing</td>\n",
       "      <td>4</td>\n",
       "    </tr>\n",
       "    <tr>\n",
       "      <th>4295</th>\n",
       "      <td>Android Wifi Data Transfer</td>\n",
       "      <td>4</td>\n",
       "    </tr>\n",
       "    <tr>\n",
       "      <th>4483</th>\n",
       "      <td>Hack WiFi Network</td>\n",
       "      <td>4</td>\n",
       "    </tr>\n",
       "    <tr>\n",
       "      <th>5416</th>\n",
       "      <td>Wi-Fi Monitor</td>\n",
       "      <td>4</td>\n",
       "    </tr>\n",
       "    <tr>\n",
       "      <th>6301</th>\n",
       "      <td>hack WIFI password pro simulator</td>\n",
       "      <td>4</td>\n",
       "    </tr>\n",
       "    <tr>\n",
       "      <th>8397</th>\n",
       "      <td>PeerDeviceNet(Full Edition) - Sharing over WiF...</td>\n",
       "      <td>4</td>\n",
       "    </tr>\n",
       "    <tr>\n",
       "      <th>9223</th>\n",
       "      <td>wifi hacker wps tools pro</td>\n",
       "      <td>4</td>\n",
       "    </tr>\n",
       "    <tr>\n",
       "      <th>9866</th>\n",
       "      <td>Wifi Device Sharing</td>\n",
       "      <td>4</td>\n",
       "    </tr>\n",
       "  </tbody>\n",
       "</table>\n",
       "</div>"
      ],
      "text/plain": [
       "                                                  title  dbscan_cluster\n",
       "198                        monBridge-BLE to WIFI Bridge               4\n",
       "2169                      ShareiFi - WiFi File Transfer               4\n",
       "3324                                  WIFI File Sharing               4\n",
       "4295                         Android Wifi Data Transfer               4\n",
       "4483                                  Hack WiFi Network               4\n",
       "5416                                      Wi-Fi Monitor               4\n",
       "6301                   hack WIFI password pro simulator               4\n",
       "8397  PeerDeviceNet(Full Edition) - Sharing over WiF...               4\n",
       "9223                          wifi hacker wps tools pro               4\n",
       "9866                                Wifi Device Sharing               4"
      ]
     },
     "metadata": {},
     "output_type": "display_data"
    },
    {
     "name": "stdout",
     "output_type": "stream",
     "text": [
      ">>>>\n",
      "\n",
      ">>>> Cluster 6\n"
     ]
    },
    {
     "data": {
      "application/vnd.microsoft.datawrangler.viewer.v0+json": {
       "columns": [
        {
         "name": "index",
         "rawType": "int64",
         "type": "integer"
        },
        {
         "name": "title",
         "rawType": "object",
         "type": "string"
        },
        {
         "name": "dbscan_cluster",
         "rawType": "int64",
         "type": "integer"
        }
       ],
       "ref": "4b84b6a9-d048-4961-b7bb-8a3320f3ab8d",
       "rows": [
        [
         "378",
         "Glide - Video Texting",
         "5"
        ],
        [
         "529",
         "Spam SMS Blocker",
         "5"
        ],
        [
         "934",
         "Talk.to: Fast, Fun Texting",
         "5"
        ],
        [
         "1564",
         "On Second Thought- SMS",
         "5"
        ],
        [
         "4749",
         "SMS Sounds",
         "5"
        ],
        [
         "5877",
         "Text Friends App",
         "5"
        ],
        [
         "8037",
         "POWOW: Text Messaging",
         "5"
        ],
        [
         "9962",
         "SMS Sounds",
         "5"
        ]
       ],
       "shape": {
        "columns": 2,
        "rows": 8
       }
      },
      "text/html": [
       "<div>\n",
       "<style scoped>\n",
       "    .dataframe tbody tr th:only-of-type {\n",
       "        vertical-align: middle;\n",
       "    }\n",
       "\n",
       "    .dataframe tbody tr th {\n",
       "        vertical-align: top;\n",
       "    }\n",
       "\n",
       "    .dataframe thead th {\n",
       "        text-align: right;\n",
       "    }\n",
       "</style>\n",
       "<table border=\"1\" class=\"dataframe\">\n",
       "  <thead>\n",
       "    <tr style=\"text-align: right;\">\n",
       "      <th></th>\n",
       "      <th>title</th>\n",
       "      <th>dbscan_cluster</th>\n",
       "    </tr>\n",
       "  </thead>\n",
       "  <tbody>\n",
       "    <tr>\n",
       "      <th>378</th>\n",
       "      <td>Glide - Video Texting</td>\n",
       "      <td>5</td>\n",
       "    </tr>\n",
       "    <tr>\n",
       "      <th>529</th>\n",
       "      <td>Spam SMS Blocker</td>\n",
       "      <td>5</td>\n",
       "    </tr>\n",
       "    <tr>\n",
       "      <th>934</th>\n",
       "      <td>Talk.to: Fast, Fun Texting</td>\n",
       "      <td>5</td>\n",
       "    </tr>\n",
       "    <tr>\n",
       "      <th>1564</th>\n",
       "      <td>On Second Thought- SMS</td>\n",
       "      <td>5</td>\n",
       "    </tr>\n",
       "    <tr>\n",
       "      <th>4749</th>\n",
       "      <td>SMS Sounds</td>\n",
       "      <td>5</td>\n",
       "    </tr>\n",
       "    <tr>\n",
       "      <th>5877</th>\n",
       "      <td>Text Friends App</td>\n",
       "      <td>5</td>\n",
       "    </tr>\n",
       "    <tr>\n",
       "      <th>8037</th>\n",
       "      <td>POWOW: Text Messaging</td>\n",
       "      <td>5</td>\n",
       "    </tr>\n",
       "    <tr>\n",
       "      <th>9962</th>\n",
       "      <td>SMS Sounds</td>\n",
       "      <td>5</td>\n",
       "    </tr>\n",
       "  </tbody>\n",
       "</table>\n",
       "</div>"
      ],
      "text/plain": [
       "                           title  dbscan_cluster\n",
       "378        Glide - Video Texting               5\n",
       "529             Spam SMS Blocker               5\n",
       "934   Talk.to: Fast, Fun Texting               5\n",
       "1564      On Second Thought- SMS               5\n",
       "4749                  SMS Sounds               5\n",
       "5877            Text Friends App               5\n",
       "8037       POWOW: Text Messaging               5\n",
       "9962                  SMS Sounds               5"
      ]
     },
     "metadata": {},
     "output_type": "display_data"
    },
    {
     "name": "stdout",
     "output_type": "stream",
     "text": [
      ">>>>\n",
      "\n",
      ">>>> Cluster 0\n"
     ]
    },
    {
     "data": {
      "application/vnd.microsoft.datawrangler.viewer.v0+json": {
       "columns": [
        {
         "name": "index",
         "rawType": "int64",
         "type": "integer"
        },
        {
         "name": "title",
         "rawType": "object",
         "type": "string"
        },
        {
         "name": "dbscan_cluster",
         "rawType": "int64",
         "type": "integer"
        }
       ],
       "ref": "0c6032ee-47c9-4e8d-971d-14ed10e6eb47",
       "rows": [
        [
         "0",
         "Accupressure Guide",
         "-1"
        ],
        [
         "8",
         "Ac Market tips",
         "-1"
        ],
        [
         "21",
         "New Coupons, Daily Deals and Freebies - Updated Daily",
         "-1"
        ],
        [
         "23",
         "London Transport Status",
         "-1"
        ],
        [
         "27",
         "Schwab Advisor Center® Mobile",
         "-1"
        ],
        [
         "28",
         "How to Start a Boarding School Plus Business Plan",
         "-1"
        ],
        [
         "31",
         "Slugterra: Dark Waters",
         "-1"
        ],
        [
         "32",
         "Make Picture Slideshow",
         "-1"
        ],
        [
         "34",
         "iTransitBuddy DART",
         "-1"
        ],
        [
         "36",
         "Tether It",
         "-1"
        ]
       ],
       "shape": {
        "columns": 2,
        "rows": 10
       }
      },
      "text/html": [
       "<div>\n",
       "<style scoped>\n",
       "    .dataframe tbody tr th:only-of-type {\n",
       "        vertical-align: middle;\n",
       "    }\n",
       "\n",
       "    .dataframe tbody tr th {\n",
       "        vertical-align: top;\n",
       "    }\n",
       "\n",
       "    .dataframe thead th {\n",
       "        text-align: right;\n",
       "    }\n",
       "</style>\n",
       "<table border=\"1\" class=\"dataframe\">\n",
       "  <thead>\n",
       "    <tr style=\"text-align: right;\">\n",
       "      <th></th>\n",
       "      <th>title</th>\n",
       "      <th>dbscan_cluster</th>\n",
       "    </tr>\n",
       "  </thead>\n",
       "  <tbody>\n",
       "    <tr>\n",
       "      <th>0</th>\n",
       "      <td>Accupressure Guide</td>\n",
       "      <td>-1</td>\n",
       "    </tr>\n",
       "    <tr>\n",
       "      <th>8</th>\n",
       "      <td>Ac Market tips</td>\n",
       "      <td>-1</td>\n",
       "    </tr>\n",
       "    <tr>\n",
       "      <th>21</th>\n",
       "      <td>New Coupons, Daily Deals and Freebies - Update...</td>\n",
       "      <td>-1</td>\n",
       "    </tr>\n",
       "    <tr>\n",
       "      <th>23</th>\n",
       "      <td>London Transport Status</td>\n",
       "      <td>-1</td>\n",
       "    </tr>\n",
       "    <tr>\n",
       "      <th>27</th>\n",
       "      <td>Schwab Advisor Center® Mobile</td>\n",
       "      <td>-1</td>\n",
       "    </tr>\n",
       "    <tr>\n",
       "      <th>28</th>\n",
       "      <td>How to Start a Boarding School Plus Business Plan</td>\n",
       "      <td>-1</td>\n",
       "    </tr>\n",
       "    <tr>\n",
       "      <th>31</th>\n",
       "      <td>Slugterra: Dark Waters</td>\n",
       "      <td>-1</td>\n",
       "    </tr>\n",
       "    <tr>\n",
       "      <th>32</th>\n",
       "      <td>Make Picture Slideshow</td>\n",
       "      <td>-1</td>\n",
       "    </tr>\n",
       "    <tr>\n",
       "      <th>34</th>\n",
       "      <td>iTransitBuddy DART</td>\n",
       "      <td>-1</td>\n",
       "    </tr>\n",
       "    <tr>\n",
       "      <th>36</th>\n",
       "      <td>Tether It</td>\n",
       "      <td>-1</td>\n",
       "    </tr>\n",
       "  </tbody>\n",
       "</table>\n",
       "</div>"
      ],
      "text/plain": [
       "                                                title  dbscan_cluster\n",
       "0                                  Accupressure Guide              -1\n",
       "8                                      Ac Market tips              -1\n",
       "21  New Coupons, Daily Deals and Freebies - Update...              -1\n",
       "23                            London Transport Status              -1\n",
       "27                      Schwab Advisor Center® Mobile              -1\n",
       "28  How to Start a Boarding School Plus Business Plan              -1\n",
       "31                             Slugterra: Dark Waters              -1\n",
       "32                             Make Picture Slideshow              -1\n",
       "34                                 iTransitBuddy DART              -1\n",
       "36                                          Tether It              -1"
      ]
     },
     "metadata": {},
     "output_type": "display_data"
    },
    {
     "name": "stdout",
     "output_type": "stream",
     "text": [
      ">>>>\n",
      "\n"
     ]
    }
   ],
   "source": [
    "for i in dbscan_labels:\n",
    "    print(f\">>>> Cluster {i + 1}\")\n",
    "    display( meta_items_pandas_sample[ meta_items_pandas_sample['dbscan_cluster'] == i ][['title', 'dbscan_cluster']].head(10) )\n",
    "    print(f\">>>>\\n\")"
   ]
  },
  {
   "cell_type": "markdown",
   "id": "b20d39a1",
   "metadata": {},
   "source": [
    "## Clusterización incluyendo descripciones"
   ]
  },
  {
   "cell_type": "code",
   "execution_count": 25,
   "id": "59621914",
   "metadata": {},
   "outputs": [],
   "source": [
    "meta_items_pandas_sample_titles = meta_items_pandas_sample[['parent_asin', 'title']]"
   ]
  },
  {
   "cell_type": "code",
   "execution_count": 26,
   "id": "bc42b9b2",
   "metadata": {},
   "outputs": [],
   "source": [
    "meta_items_pandas_sample_description_exp = meta_items_pandas_sample[['parent_asin', 'description']].explode('description')\n",
    "meta_items_pandas_sample_description_exp['description'] = meta_items_pandas_sample_description_exp['description'].str.split(\".\")\n",
    "meta_items_pandas_sample_description_exp = meta_items_pandas_sample_description_exp.explode('description')"
   ]
  },
  {
   "cell_type": "code",
   "execution_count": 44,
   "id": "a0582cc4",
   "metadata": {},
   "outputs": [],
   "source": [
    "meta_items_pandas_sample_texts = pd.concat([\n",
    "    meta_items_pandas_sample_titles.rename( columns = {\n",
    "        'parent_asin': 'id', 'title': 'sentence'\n",
    "    }),\n",
    "    meta_items_pandas_sample_description_exp.rename( columns = {\n",
    "        'parent_asin': 'id', 'description': 'sentence'\n",
    "    })\n",
    "])"
   ]
  },
  {
   "cell_type": "code",
   "execution_count": 46,
   "id": "75a21624",
   "metadata": {},
   "outputs": [],
   "source": [
    "meta_items_pandas_sample_texts = meta_items_pandas_sample_texts[\n",
    "    meta_items_pandas_sample_texts['sentence'].str.len() > 0\n",
    "]"
   ]
  },
  {
   "cell_type": "code",
   "execution_count": 49,
   "id": "0a530654",
   "metadata": {},
   "outputs": [],
   "source": [
    "grouped_embeddings = model( meta_items_pandas_sample_texts['sentence'] )"
   ]
  },
  {
   "cell_type": "code",
   "execution_count": 53,
   "id": "e2533f8b",
   "metadata": {},
   "outputs": [],
   "source": [
    "meta_items_pandas_sample_texts['embeddings'] = list(grouped_embeddings.numpy())"
   ]
  },
  {
   "cell_type": "code",
   "execution_count": 55,
   "id": "222a050d",
   "metadata": {},
   "outputs": [],
   "source": [
    "meta_items_pandas_sample_texts_avg = (\n",
    "    meta_items_pandas_sample_texts.groupby(\"id\")[\"embeddings\"]\n",
    "    .apply(lambda vectors: np.mean(np.stack(vectors), axis=0))\n",
    "    .reset_index()\n",
    ")"
   ]
  },
  {
   "cell_type": "code",
   "execution_count": 59,
   "id": "8b8f8674",
   "metadata": {},
   "outputs": [],
   "source": [
    "avg_embeddings = np.vstack(meta_items_pandas_sample_texts_avg['embeddings'].values)"
   ]
  },
  {
   "cell_type": "code",
   "execution_count": 61,
   "id": "f4815f1b",
   "metadata": {},
   "outputs": [],
   "source": [
    "agg_model_avg = AgglomerativeClustering(n_clusters=N_AGGLOMERATIVE_CLUSTERS, linkage='ward')\n",
    "labels = agg_model_avg.fit_predict(avg_embeddings)\n",
    "\n",
    "meta_items_pandas_sample_texts_avg['agg_avg_cluster'] = labels"
   ]
  },
  {
   "cell_type": "code",
   "execution_count": 64,
   "id": "c01722c8",
   "metadata": {},
   "outputs": [],
   "source": [
    "meta_items_pandas_sample_texts_avg_with_item_data = (\n",
    "    meta_items_pandas_sample_texts_avg.merge(\n",
    "        meta_items_pandas_sample, left_on = 'id', right_on = 'parent_asin'\n",
    "    )\n",
    ")"
   ]
  },
  {
   "cell_type": "code",
   "execution_count": 65,
   "id": "cd3bf124",
   "metadata": {},
   "outputs": [
    {
     "name": "stdout",
     "output_type": "stream",
     "text": [
      ">>>> Cluster 1\n"
     ]
    },
    {
     "data": {
      "application/vnd.microsoft.datawrangler.viewer.v0+json": {
       "columns": [
        {
         "name": "index",
         "rawType": "int64",
         "type": "integer"
        },
        {
         "name": "title",
         "rawType": "object",
         "type": "string"
        },
        {
         "name": "description",
         "rawType": "object",
         "type": "unknown"
        },
        {
         "name": "agg_avg_cluster",
         "rawType": "int64",
         "type": "integer"
        }
       ],
       "ref": "f81afe4f-2dd5-43c3-a24c-9bd35c03dfb9",
       "rows": [
        [
         "3",
         "Type To Learn 3",
         "['Students embark on zany time travel missions to learn keyboarding skills! Built on a proven curriculum of sequential, skills-building instruction, Type to Learn 3 presents students every key, including new Internet keys, in 25 lesson/practice/assessment sequences.']",
         "0"
        ],
        [
         "6",
         "Webassign College Physics",
         "[]",
         "0"
        ],
        [
         "7",
         "SOS 12th Grade Math - USB",
         "[]",
         "0"
        ],
        [
         "8",
         "Nolo's California Quick Corp: Incorporate Your Business Without a Lawyer",
         "[\"LeaseWriter Plus guides you through the creation of a legitimate lease or rental agreement. Simply take the step-by-by step interview -- in the end, you'll have a solid document that reflects your needs and the laws of your state\"]",
         "0"
        ],
        [
         "9",
         "Independent Paralegal's Handbook: How to Provide Legal Services Without Becoming a Lawyer",
         "['For over 25 years, more and more people have prepared their own legal papers with the help of independent paralegals, instead of handing their cases over to lawyers.', \"The Independent Paralegals' Handbook is a practical guide for anyone considering a career as a self-employed legal assistant, helping people take the law into their own hands. It contains interviews with leaders in the field, and discusses:\", '*legal areas open to independent paralegals *where to get the necessary training *the steps necessary to open a legal form-typing business *what to name your business *how much to charge *how to market your services *strategies designed to avoid unauthorized-practice-of-law charges *independent paralegals who work for community and social-change organizations *computers, the Internet and the independent paralegal', 'The definitive guide on the subject for more than 15 years, this updated and revised 6th edition provides crucial advice for the new or veteran independent paralegal.']",
         "0"
        ],
        [
         "10",
         "Editor in Chief: B1, Grades 6-8",
         "['Features 3 levels of challenges with instructions, hints, and self-grading, with a goal of avoiding grammar disasters and punctuation faux pas']",
         "0"
        ],
        [
         "12",
         "Matlab 6 Release 12 with Simulink 4 Student Version",
         "[\"Solve complex technical computing problems in engineering, science, and math. Engineers, scientists, and mathematicians at the world's leading universities, technology companies, and government labs use MATLAB and Simulink to solve their most challenging technical computing problems. Now you can use these same products to complete your course work in electrical, mechanical, and chemical engineering; mathematics; physics; chemistry; finance; economics; and the life sciences.\"]",
         "0"
        ],
        [
         "16",
         "Learn Lithuanian *Visual language learning* for PC, MAC, Ipod, MP3 player",
         "[\"This Lithuanian program is designed for your PC, MAC, IPOD Video, IPOD, MP3 player and is perfect for beginners/travelers. This cd utilizes our Visual-Flash-Cards-System. You will see an image related to a word, sentence, or phrase. This gives you a visual cue, which is ideal for those learning a new foreign language. Begin learning basic words, numbers, etc. Then, identifying objects around you. You'll progress into the first phrases that a beginner/traveler would want to use.You will learn how to meet and greet people, ask for the bathroom, taxi, and even flirt. Contains data cd; 22 video + 22 audio files, and the ebook documents.\"]",
         "0"
        ],
        [
         "18",
         "Lab Mnl CD-Sci of Earth System",
         "[]",
         "0"
        ],
        [
         "20",
         "Made E-Z Deluxe Business Forms",
         "[]",
         "0"
        ]
       ],
       "shape": {
        "columns": 3,
        "rows": 10
       }
      },
      "text/html": [
       "<div>\n",
       "<style scoped>\n",
       "    .dataframe tbody tr th:only-of-type {\n",
       "        vertical-align: middle;\n",
       "    }\n",
       "\n",
       "    .dataframe tbody tr th {\n",
       "        vertical-align: top;\n",
       "    }\n",
       "\n",
       "    .dataframe thead th {\n",
       "        text-align: right;\n",
       "    }\n",
       "</style>\n",
       "<table border=\"1\" class=\"dataframe\">\n",
       "  <thead>\n",
       "    <tr style=\"text-align: right;\">\n",
       "      <th></th>\n",
       "      <th>title</th>\n",
       "      <th>description</th>\n",
       "      <th>agg_avg_cluster</th>\n",
       "    </tr>\n",
       "  </thead>\n",
       "  <tbody>\n",
       "    <tr>\n",
       "      <th>3</th>\n",
       "      <td>Type To Learn 3</td>\n",
       "      <td>[Students embark on zany time travel missions ...</td>\n",
       "      <td>0</td>\n",
       "    </tr>\n",
       "    <tr>\n",
       "      <th>6</th>\n",
       "      <td>Webassign College Physics</td>\n",
       "      <td>[]</td>\n",
       "      <td>0</td>\n",
       "    </tr>\n",
       "    <tr>\n",
       "      <th>7</th>\n",
       "      <td>SOS 12th Grade Math - USB</td>\n",
       "      <td>[]</td>\n",
       "      <td>0</td>\n",
       "    </tr>\n",
       "    <tr>\n",
       "      <th>8</th>\n",
       "      <td>Nolo's California Quick Corp: Incorporate Your...</td>\n",
       "      <td>[LeaseWriter Plus guides you through the creat...</td>\n",
       "      <td>0</td>\n",
       "    </tr>\n",
       "    <tr>\n",
       "      <th>9</th>\n",
       "      <td>Independent Paralegal's Handbook: How to Provi...</td>\n",
       "      <td>[For over 25 years, more and more people have ...</td>\n",
       "      <td>0</td>\n",
       "    </tr>\n",
       "    <tr>\n",
       "      <th>10</th>\n",
       "      <td>Editor in Chief: B1, Grades 6-8</td>\n",
       "      <td>[Features 3 levels of challenges with instruct...</td>\n",
       "      <td>0</td>\n",
       "    </tr>\n",
       "    <tr>\n",
       "      <th>12</th>\n",
       "      <td>Matlab 6 Release 12 with Simulink 4 Student Ve...</td>\n",
       "      <td>[Solve complex technical computing problems in...</td>\n",
       "      <td>0</td>\n",
       "    </tr>\n",
       "    <tr>\n",
       "      <th>16</th>\n",
       "      <td>Learn Lithuanian *Visual language learning* fo...</td>\n",
       "      <td>[This Lithuanian program is designed for your ...</td>\n",
       "      <td>0</td>\n",
       "    </tr>\n",
       "    <tr>\n",
       "      <th>18</th>\n",
       "      <td>Lab Mnl CD-Sci of Earth System</td>\n",
       "      <td>[]</td>\n",
       "      <td>0</td>\n",
       "    </tr>\n",
       "    <tr>\n",
       "      <th>20</th>\n",
       "      <td>Made E-Z Deluxe Business Forms</td>\n",
       "      <td>[]</td>\n",
       "      <td>0</td>\n",
       "    </tr>\n",
       "  </tbody>\n",
       "</table>\n",
       "</div>"
      ],
      "text/plain": [
       "                                                title  \\\n",
       "3                                     Type To Learn 3   \n",
       "6                           Webassign College Physics   \n",
       "7                           SOS 12th Grade Math - USB   \n",
       "8   Nolo's California Quick Corp: Incorporate Your...   \n",
       "9   Independent Paralegal's Handbook: How to Provi...   \n",
       "10                    Editor in Chief: B1, Grades 6-8   \n",
       "12  Matlab 6 Release 12 with Simulink 4 Student Ve...   \n",
       "16  Learn Lithuanian *Visual language learning* fo...   \n",
       "18                     Lab Mnl CD-Sci of Earth System   \n",
       "20                     Made E-Z Deluxe Business Forms   \n",
       "\n",
       "                                          description  agg_avg_cluster  \n",
       "3   [Students embark on zany time travel missions ...                0  \n",
       "6                                                  []                0  \n",
       "7                                                  []                0  \n",
       "8   [LeaseWriter Plus guides you through the creat...                0  \n",
       "9   [For over 25 years, more and more people have ...                0  \n",
       "10  [Features 3 levels of challenges with instruct...                0  \n",
       "12  [Solve complex technical computing problems in...                0  \n",
       "16  [This Lithuanian program is designed for your ...                0  \n",
       "18                                                 []                0  \n",
       "20                                                 []                0  "
      ]
     },
     "metadata": {},
     "output_type": "display_data"
    },
    {
     "name": "stdout",
     "output_type": "stream",
     "text": [
      ">>>>\n",
      "\n",
      ">>>> Cluster 2\n"
     ]
    },
    {
     "data": {
      "application/vnd.microsoft.datawrangler.viewer.v0+json": {
       "columns": [
        {
         "name": "index",
         "rawType": "int64",
         "type": "integer"
        },
        {
         "name": "title",
         "rawType": "object",
         "type": "string"
        },
        {
         "name": "description",
         "rawType": "object",
         "type": "unknown"
        },
        {
         "name": "agg_avg_cluster",
         "rawType": "int64",
         "type": "integer"
        }
       ],
       "ref": "3831f5c2-45b6-4a87-9aa3-386eccfac8fa",
       "rows": [
        [
         "51",
         "Jack 5.0 -- World Champion Computer Bridge -- Complete Bridge Program For Players Of Any Level",
         "[]",
         "1"
        ],
        [
         "84",
         "Oregon Trail II - Anniversary",
         "['Original unopened collectors edition of Oregon Trail, very rare!']",
         "1"
        ],
        [
         "268",
         "PANTONE COLOR CUE - 1 UNIT",
         "[]",
         "1"
        ],
        [
         "354",
         "Number Munchers",
         "[\"Munch on Math! Help your Muncher avoid the mischievous Troggles as you maneuver through the gameboard, munching on multiples, factors, prime numbers, equalities and inequalities. If you earn enough points and avoid those troublesome Troggles, you'll be sure to enter the Muncher Hall of Fame!\"]",
         "1"
        ],
        [
         "364",
         "Lego Island 2: The Brickster's Revenge (XP Compatible Version)",
         "['[Ages 6 & Up] Save LEGO Island from the Brickster! The Brickster is back and out to cause more mischief in this wild, racing, chasing, island-hopping sequel. In your quest to piece together The Infomaniac’s Constructopedia, you’ll drive, sky-dive, scuba-dive, fly a plane and even ride a dinosaur as you chase the Brickster through these amazing LEGO worlds. Meet all kinds of fun characters as you journey to the final showdown. You’ll need all your skills to solve the puzzles and achieve your ultimate goal, to save LEGO Island from being ruined. Explore LEGO Island as you deliver pizzas and hang out at the skateboard park. Amazing challenges and exciting puzzles test your skill and intelligence. Have fun traveling around all the Islands. Ride your skateboard, scuba-dive, fly a plane, ride a pterodactyl and more! Escape the rolling rock as you uncover the secrets of the Mummies’ Tomb. Dive deep to retrieve the bricks and repair the bridge to Castle Island. Prepare for your epic space adventure by mastering your sky-diving skills. Help find the missing pages from the Infomaniac’s Constructopedia. Defeat the Dark Knight in a thrill-packed jousting tournament. Complete challenges to earn valuable rewards. Walk around the Island to see what you can discover. Enjoy thrilling adventures as you chase the Brickster!']",
         "1"
        ],
        [
         "496",
         "Chess King with Houdini 2 Pro (DVD)",
         "[]",
         "1"
        ],
        [
         "596",
         "Lottery",
         "[]",
         "1"
        ],
        [
         "612",
         "DK Little Polar Bear Take Me Home",
         "['Based on the Children\\'s book artist Hans De BeerProduct InformationLittle Polar Bear Take Me Home is an intelligent and funny adventure game basedon the books of award-winning children\\'s book artist Hans De Beer.For younger children they can play the software in \"story mode\" as ananimated book that tells the wonderful story of Little Polar Bear in the land ofthe tigers.\\xa0 In \"adventure mode\" children will be able toparticipate interactively in Little Polar Bear\\'s great adventure. This time thechild becomes an actor and must successfully complete challenges for LittlePolar Bear to succeed. Little Polar Bear Take Me Home if full of gamesrequiring logic observation memory action and speed.Skills Learned Problem Solving Thinking Logically Following Instructions Develop Mouse and Cursor Skills Use their imagination and creativity Product Features 6 action games including agility reaction & mazes 21 challenges including puzzles and logic games Over 10 hours of game play 2 modes – interactive adventure or story book mode for younger childrenWindows Requirements Windows 95 98 Me XP Pentium 166 MHz processor 32 MB of RAM 8X CD-ROM drive 640 x 480 color display 16-bit Sound CardMacintosh Requirements Macintosh OS 8.1 9 or X Classic iMac or G3 420 MHz processor 32 MB of RAM 8X CD-ROM drive 640 x 480 color display - thousands of colors']",
         "1"
        ],
        [
         "672",
         "Text Twist 2",
         "['How good is YOUR vocabulary? Show off your knowledge by making words out of jumbled letters! Play Text Twist 2 today! Text Twist 2 has three new Game Play Modes. Try original mode, or play the Crossword, Lightning, or Word of the Day modes! Text Twist 2 has all new Graphics and Sound along with a dictionary of more than 25,000 words. It also includes the original hit word game, Super Text Twist, as an inside-the-box game bonus!']",
         "1"
        ],
        [
         "740",
         "Punch! Kitchen & Bath Designer",
         "[]",
         "1"
        ]
       ],
       "shape": {
        "columns": 3,
        "rows": 10
       }
      },
      "text/html": [
       "<div>\n",
       "<style scoped>\n",
       "    .dataframe tbody tr th:only-of-type {\n",
       "        vertical-align: middle;\n",
       "    }\n",
       "\n",
       "    .dataframe tbody tr th {\n",
       "        vertical-align: top;\n",
       "    }\n",
       "\n",
       "    .dataframe thead th {\n",
       "        text-align: right;\n",
       "    }\n",
       "</style>\n",
       "<table border=\"1\" class=\"dataframe\">\n",
       "  <thead>\n",
       "    <tr style=\"text-align: right;\">\n",
       "      <th></th>\n",
       "      <th>title</th>\n",
       "      <th>description</th>\n",
       "      <th>agg_avg_cluster</th>\n",
       "    </tr>\n",
       "  </thead>\n",
       "  <tbody>\n",
       "    <tr>\n",
       "      <th>51</th>\n",
       "      <td>Jack 5.0 -- World Champion Computer Bridge -- ...</td>\n",
       "      <td>[]</td>\n",
       "      <td>1</td>\n",
       "    </tr>\n",
       "    <tr>\n",
       "      <th>84</th>\n",
       "      <td>Oregon Trail II - Anniversary</td>\n",
       "      <td>[Original unopened collectors edition of Orego...</td>\n",
       "      <td>1</td>\n",
       "    </tr>\n",
       "    <tr>\n",
       "      <th>268</th>\n",
       "      <td>PANTONE COLOR CUE - 1 UNIT</td>\n",
       "      <td>[]</td>\n",
       "      <td>1</td>\n",
       "    </tr>\n",
       "    <tr>\n",
       "      <th>354</th>\n",
       "      <td>Number Munchers</td>\n",
       "      <td>[Munch on Math! Help your Muncher avoid the mi...</td>\n",
       "      <td>1</td>\n",
       "    </tr>\n",
       "    <tr>\n",
       "      <th>364</th>\n",
       "      <td>Lego Island 2: The Brickster's Revenge (XP Com...</td>\n",
       "      <td>[[Ages 6 &amp; Up] Save LEGO Island from the Brick...</td>\n",
       "      <td>1</td>\n",
       "    </tr>\n",
       "    <tr>\n",
       "      <th>496</th>\n",
       "      <td>Chess King with Houdini 2 Pro (DVD)</td>\n",
       "      <td>[]</td>\n",
       "      <td>1</td>\n",
       "    </tr>\n",
       "    <tr>\n",
       "      <th>596</th>\n",
       "      <td>Lottery</td>\n",
       "      <td>[]</td>\n",
       "      <td>1</td>\n",
       "    </tr>\n",
       "    <tr>\n",
       "      <th>612</th>\n",
       "      <td>DK Little Polar Bear Take Me Home</td>\n",
       "      <td>[Based on the Children's book artist Hans De B...</td>\n",
       "      <td>1</td>\n",
       "    </tr>\n",
       "    <tr>\n",
       "      <th>672</th>\n",
       "      <td>Text Twist 2</td>\n",
       "      <td>[How good is YOUR vocabulary? Show off your kn...</td>\n",
       "      <td>1</td>\n",
       "    </tr>\n",
       "    <tr>\n",
       "      <th>740</th>\n",
       "      <td>Punch! Kitchen &amp; Bath Designer</td>\n",
       "      <td>[]</td>\n",
       "      <td>1</td>\n",
       "    </tr>\n",
       "  </tbody>\n",
       "</table>\n",
       "</div>"
      ],
      "text/plain": [
       "                                                 title  \\\n",
       "51   Jack 5.0 -- World Champion Computer Bridge -- ...   \n",
       "84                       Oregon Trail II - Anniversary   \n",
       "268                         PANTONE COLOR CUE - 1 UNIT   \n",
       "354                                    Number Munchers   \n",
       "364  Lego Island 2: The Brickster's Revenge (XP Com...   \n",
       "496                Chess King with Houdini 2 Pro (DVD)   \n",
       "596                                            Lottery   \n",
       "612                  DK Little Polar Bear Take Me Home   \n",
       "672                                       Text Twist 2   \n",
       "740                     Punch! Kitchen & Bath Designer   \n",
       "\n",
       "                                           description  agg_avg_cluster  \n",
       "51                                                  []                1  \n",
       "84   [Original unopened collectors edition of Orego...                1  \n",
       "268                                                 []                1  \n",
       "354  [Munch on Math! Help your Muncher avoid the mi...                1  \n",
       "364  [[Ages 6 & Up] Save LEGO Island from the Brick...                1  \n",
       "496                                                 []                1  \n",
       "596                                                 []                1  \n",
       "612  [Based on the Children's book artist Hans De B...                1  \n",
       "672  [How good is YOUR vocabulary? Show off your kn...                1  \n",
       "740                                                 []                1  "
      ]
     },
     "metadata": {},
     "output_type": "display_data"
    },
    {
     "name": "stdout",
     "output_type": "stream",
     "text": [
      ">>>>\n",
      "\n",
      ">>>> Cluster 3\n"
     ]
    },
    {
     "data": {
      "application/vnd.microsoft.datawrangler.viewer.v0+json": {
       "columns": [
        {
         "name": "index",
         "rawType": "int64",
         "type": "integer"
        },
        {
         "name": "title",
         "rawType": "object",
         "type": "string"
        },
        {
         "name": "description",
         "rawType": "object",
         "type": "unknown"
        },
        {
         "name": "agg_avg_cluster",
         "rawType": "int64",
         "type": "integer"
        }
       ],
       "ref": "585def0f-5250-49af-a4af-732972e93c64",
       "rows": [
        [
         "0",
         "Medstudy Video Board Review of InternalMedicine 2016",
         "['No returns.']",
         "2"
        ],
        [
         "1",
         "The Learning Company - Oregon Trail 5th Edition",
         "['Product description', 'Explore the West! Live the Adventure! Survive the Trail!', 'Westward, Ho! Are you ready to travel the Oregon Trail? It‘s going to take insight and careful planning to choose the right traveling companions, gear, and supplies. Even then, there are countless unpredictable hazards, like swollen rivers, poisonous creatures, and deadly diseases. You‘ll have to strategize and make quick decisions. And they‘ll have to be right.', 'Create Your Journey', 'Decide your occupation, who you‘ll take with you, and where you‘re headed!', 'Learn From the Pioneers', 'Talk with pioneers - Irish, African Americans, Native Americans, and other settlers. Share their dreams, fears, and adventures.', 'Blaze a Trail', 'Ford raging rivers. Hunt, fish, and forage for food. Be a part of the taming of the wild West. From the banks of the great Mississippi to the sweeping Williamette Valley, you‘ll carve your own trail through an historic adventure.', 'Discover Jed’s Tales', 'Through riveting mini-movies, you‘ll befriend Captain Jed Freedman, an experienced fur trader who is trail-wise and a great story-teller!  Windows XP, Vista, 7, 8 compatible', 'Amazon.com', 'Explore the West, live the adventure, and survive the trail! Kids will build real-life decision-making and problem-solving skills as they choose their wagon party and supplies, read maps, plan their route, and guide their team through the wilderness. Can they survive the dangers of the long journey, raging rivers, buffalo stampedes, sickness, and starvation? The trail explodes with adventure as you face the rugged challenges and experience real-life events.', 'Plus,', 'The Oregon Trail 5th Edition', \"introduces players to the Montgomery kids and trail guide Captain Jed, who are heading West from Independence, Missouri, to Oregon City, Oregon, to meet Pa Montgomery. The Montgomery's story is brought to life for players through six exciting movies, Cassie's heartfelt journal entries, and Jed's captivating campfire tales.\", 'Review', 'Sometimes you have to take two steps back to take one step forward. That holds true for this \"new\" version of Oregon Trail, which is actually based on the older, more stable second edition of the game; one of the last products produced by the respected Minnesota publisher MECC. Children start their trek westward by typing in their name, profession, and the names of people in their party. They then navigate through a series of complex menus to purchase supplies and stock their wagon. Unfortunately, some of the flaws with version two have also been carried into this edition. Children often overload their wagon, and the program doesn\\'t help them visualize what they have. Kids also have trouble with some new phrases that could be better defined, such as \"caulk the wagons\" and \"ford the river\". Along the trail, it is possible to hunt, fish and interact with characters. So what\\'s different? At each main break in the adventure, children can listen to campfire stories about three real life children who actually traveled the Oregon Trail. Our testers loved these vignettes and felt like they helped them better understand what the journey was really like. The children\\'s journal is also on the CD as a PDF file, which makes good reading. Despite its flaws, this edition of Oregon Trail is the best yet, and a great way to experience American history. --', 'From Children\\'s Software Revue® -- \"Subscribe Now!\"', 'See more']",
         "2"
        ],
        [
         "2",
         "My Amazing Human Body",
         "['Let Seemore Skinless teach your child about the human body and how it works!! My Amazing Human Body is the best introduction to the human body and its workings for young children.']",
         "2"
        ],
        [
         "11",
         "Delorme Xmap 7 Professional With Topo & Street Data, Traditional Disc",
         "['Supports ESRI Shapefile format so you can download and import shapefiles from GIS data archives']",
         "2"
        ],
        [
         "13",
         "My Wine Collection",
         "['brand new, still in package, excellent condition, never been opened']",
         "2"
        ],
        [
         "14",
         "Cakewalk Sonar 4 Video Training Course",
         "['Interactive video tutorials covering all aspects of audio and midi recording, editing, and mixing for Cakewalk Sonar 4 music production software. Includes project examples. This course contains fifteen modules and is organized into four sections: There is an overview section which covers elements that are common to both midi and audio. This section provides an introduction to Sonar projects as well recording, editing and mixing using the Sonar 4 Producer Edition. There are in-depth sections for both audio and midi which cover recording, editing and mixing using actual projects. Finally there is an Advanced Topics section which includes Loop Compositions, Drum Map Editing, Surround Sound Mixing, as well as the use of Soft Synths And System Exclusive commands. 2 hours and 3 minutes of interactive videos. System Requirements: Operating System: Microsoft Windows 2000/XP; Minimum Screen Resolution: 1024 x 768; Main Memory (RAM): 256 Megabytes (MB); Internet Browser: Microsoft Internet Explorer 5.5 or later; Flash: Macromedia Flash Player 6.0 or later; Sonar: Sonar 4 or later.']",
         "2"
        ],
        [
         "17",
         "Drugs, Society, and Human Behavior - Connect Access - 18th Edition",
         "['Drugs, Society, and Human Behavior - Connect Access 18th Edition *The textbook is not included, access code only*']",
         "2"
        ],
        [
         "19",
         "The Thomas Nelson Bible Study Library",
         "[]",
         "2"
        ],
        [
         "23",
         "Greek Tutor",
         "[]",
         "2"
        ],
        [
         "28",
         "Personal Ancestral File 5.2 (Includes Personal Ancestral File Companion 5.1.5)",
         "['One of the oldest and most popular genealogy software programs available, this family tree software from the Church of Jesus Christ of Latter-day Saints is powerful and full-featured. It is also very user-friendly, making it perfect for novice computer users and genealogists.']",
         "2"
        ]
       ],
       "shape": {
        "columns": 3,
        "rows": 10
       }
      },
      "text/html": [
       "<div>\n",
       "<style scoped>\n",
       "    .dataframe tbody tr th:only-of-type {\n",
       "        vertical-align: middle;\n",
       "    }\n",
       "\n",
       "    .dataframe tbody tr th {\n",
       "        vertical-align: top;\n",
       "    }\n",
       "\n",
       "    .dataframe thead th {\n",
       "        text-align: right;\n",
       "    }\n",
       "</style>\n",
       "<table border=\"1\" class=\"dataframe\">\n",
       "  <thead>\n",
       "    <tr style=\"text-align: right;\">\n",
       "      <th></th>\n",
       "      <th>title</th>\n",
       "      <th>description</th>\n",
       "      <th>agg_avg_cluster</th>\n",
       "    </tr>\n",
       "  </thead>\n",
       "  <tbody>\n",
       "    <tr>\n",
       "      <th>0</th>\n",
       "      <td>Medstudy Video Board Review of InternalMedicin...</td>\n",
       "      <td>[No returns.]</td>\n",
       "      <td>2</td>\n",
       "    </tr>\n",
       "    <tr>\n",
       "      <th>1</th>\n",
       "      <td>The Learning Company - Oregon Trail 5th Edition</td>\n",
       "      <td>[Product description, Explore the West! Live t...</td>\n",
       "      <td>2</td>\n",
       "    </tr>\n",
       "    <tr>\n",
       "      <th>2</th>\n",
       "      <td>My Amazing Human Body</td>\n",
       "      <td>[Let Seemore Skinless teach your child about t...</td>\n",
       "      <td>2</td>\n",
       "    </tr>\n",
       "    <tr>\n",
       "      <th>11</th>\n",
       "      <td>Delorme Xmap 7 Professional With Topo &amp; Street...</td>\n",
       "      <td>[Supports ESRI Shapefile format so you can dow...</td>\n",
       "      <td>2</td>\n",
       "    </tr>\n",
       "    <tr>\n",
       "      <th>13</th>\n",
       "      <td>My Wine Collection</td>\n",
       "      <td>[brand new, still in package, excellent condit...</td>\n",
       "      <td>2</td>\n",
       "    </tr>\n",
       "    <tr>\n",
       "      <th>14</th>\n",
       "      <td>Cakewalk Sonar 4 Video Training Course</td>\n",
       "      <td>[Interactive video tutorials covering all aspe...</td>\n",
       "      <td>2</td>\n",
       "    </tr>\n",
       "    <tr>\n",
       "      <th>17</th>\n",
       "      <td>Drugs, Society, and Human Behavior - Connect A...</td>\n",
       "      <td>[Drugs, Society, and Human Behavior - Connect ...</td>\n",
       "      <td>2</td>\n",
       "    </tr>\n",
       "    <tr>\n",
       "      <th>19</th>\n",
       "      <td>The Thomas Nelson Bible Study Library</td>\n",
       "      <td>[]</td>\n",
       "      <td>2</td>\n",
       "    </tr>\n",
       "    <tr>\n",
       "      <th>23</th>\n",
       "      <td>Greek Tutor</td>\n",
       "      <td>[]</td>\n",
       "      <td>2</td>\n",
       "    </tr>\n",
       "    <tr>\n",
       "      <th>28</th>\n",
       "      <td>Personal Ancestral File 5.2 (Includes Personal...</td>\n",
       "      <td>[One of the oldest and most popular genealogy ...</td>\n",
       "      <td>2</td>\n",
       "    </tr>\n",
       "  </tbody>\n",
       "</table>\n",
       "</div>"
      ],
      "text/plain": [
       "                                                title  \\\n",
       "0   Medstudy Video Board Review of InternalMedicin...   \n",
       "1     The Learning Company - Oregon Trail 5th Edition   \n",
       "2                               My Amazing Human Body   \n",
       "11  Delorme Xmap 7 Professional With Topo & Street...   \n",
       "13                                 My Wine Collection   \n",
       "14             Cakewalk Sonar 4 Video Training Course   \n",
       "17  Drugs, Society, and Human Behavior - Connect A...   \n",
       "19              The Thomas Nelson Bible Study Library   \n",
       "23                                        Greek Tutor   \n",
       "28  Personal Ancestral File 5.2 (Includes Personal...   \n",
       "\n",
       "                                          description  agg_avg_cluster  \n",
       "0                                       [No returns.]                2  \n",
       "1   [Product description, Explore the West! Live t...                2  \n",
       "2   [Let Seemore Skinless teach your child about t...                2  \n",
       "11  [Supports ESRI Shapefile format so you can dow...                2  \n",
       "13  [brand new, still in package, excellent condit...                2  \n",
       "14  [Interactive video tutorials covering all aspe...                2  \n",
       "17  [Drugs, Society, and Human Behavior - Connect ...                2  \n",
       "19                                                 []                2  \n",
       "23                                                 []                2  \n",
       "28  [One of the oldest and most popular genealogy ...                2  "
      ]
     },
     "metadata": {},
     "output_type": "display_data"
    },
    {
     "name": "stdout",
     "output_type": "stream",
     "text": [
      ">>>>\n",
      "\n",
      ">>>> Cluster 4\n"
     ]
    },
    {
     "data": {
      "application/vnd.microsoft.datawrangler.viewer.v0+json": {
       "columns": [
        {
         "name": "index",
         "rawType": "int64",
         "type": "integer"
        },
        {
         "name": "title",
         "rawType": "object",
         "type": "string"
        },
        {
         "name": "description",
         "rawType": "object",
         "type": "unknown"
        },
        {
         "name": "agg_avg_cluster",
         "rawType": "int64",
         "type": "integer"
        }
       ],
       "ref": "897b5484-2f8c-4742-bf58-30ccd6b68f72",
       "rows": [
        [
         "4",
         "Reader Rabbit Learn to Read with Phonics Preschool & Kindergarten",
         "['Preschool/Kindergarten Learning to read with phonics.']",
         "3"
        ],
        [
         "5",
         "Leap Into Phonics Build Phonemic Awareness",
         "['Leap Into Phonics consists of 8 components, each concentrating on particular phonemic awareness skills. Within each component, there are several activities that teach these skills.']",
         "3"
        ],
        [
         "15",
         "Hair 900 DVD DEMO For Practice",
         "['Vietnamese & English Bleach Color Relaxed Hair cut Wet set Thermal (120 minutes']",
         "3"
        ],
        [
         "57",
         "Jump Start Learning Games: ABC's",
         "['Amazon.com', 'In', \"JumpStart Learning Games: ABC's\", ', the JumpStart gang has a mystery on its hands. Someone spilled juice in the JumpStart train\\'s caboose and didn\\'t clean it up. Children join Eleanor Elephant and friends on a fun-filled train adventure to deduce \"Who left the juice in the caboose?\" As kids travel to different locations and play learning games, they earn clues and use their deductive reasoning skills to solve the mystery. Along the way, kids can also listen to six fun songs, which reinforce letter recognition, letter sequencing, and letter sounds.', 'Review', \"Three excellent early reading activities are provided in this inexpensive CD. Kids will love practicing their ABC order to make a path for a train. They'll also enjoy steering a sled through the snow while collecting letters and objects that contain certain sounds. Both the content and format of the activities is very engaging. Kids or parents can easily adjust the program's volume, and we were pleased to see that both content and game play levels could be determined. While more of these well designed activities would have made this an all-star program, what's there is worth buying at such a reasonable price.\", 'Teaches:', 'early reading, letter sounds, abc order, upper and lower case letters, reading simple words', 'Age Range:', \"3, 4, 5, 6 Copyright © 2000 Children's Software Revue --\", 'From Children\\'s Software Revue® -- \"Subscribe Now!\"']",
         "3"
        ],
        [
         "58",
         "JumpStart Preschool",
         "['Product description', \"Meet Casey Cat, Pierre Polar Bear, Kisha Koala and Eleanor Elephant in a magical preschool classroom. Click anywhere in the classroom to hear a fun sing-and-Learn song or enter an interactive play area. Listening to nursery rhymes, learning phonics, counting numbers-these and other activities will keep your child engages and entertained for hours! Endless Fun : Creative games and happy melodies keep children delighted for hours and hours. Focus On Phonics : Identify first letter sounds, find the beginning letters of words and match similar pictures with Kisha Koala. Letters & Numbers : Connect numbers and letters in the correct sequence by clicking on the dots, and watch as finished pictures spring to life. Distinguish between objects with different colors, shapes or letters. This pre-reading skill helps pre-schoolers identify the difference between letters such as b, d and p. Letters, Numbers, Shapes : Develop visual memory by finding identical pictures, letters, numbers or shapes. Listening Skills : Listen to verbal clues and apply deductive reasoning to find where Felicia the Fish is hiding. Counting & Quantity : Count the number of turtle eggs and help Mama Turtle find the correct nest. Spatial Relationships : Associate relative size and shapes by inserting objects into the picture. Colors : Learn letters,numbers and shapes by coloring finished picture becomes an adorable animated reward. Music And Songs : Sing along with 16 songs that teach counting to 10,telling time geometric shapes, nursery rhymes, ABC's days of the week, seasons and more!\", 'Amazon.com', \"Your preschooler can leap to an early understanding of letters, numbers, shapes, and colors in Casey's colorful classroom, which is bursting with animation and song. Based on nationally recommended curricula and actual teacher lesson plans that cover a full year of preschool,\", 'JumpStart Preschooler', 'is filled with a variety of activities that make learning fun. The innovative classroom setting presents your child with a familiar environment, filled with animated friends who provide encouragement through games, puzzles, and songs.', 'Review', 'In this engaging variety pack there are 20 play areas that teach 30 preschool skills. The games have three levels, with a range of challenges best for the three- to four-year-old set. Young children are introduced to their letters and numbers in dot-to-dot games and are presented with the letter sounds in picture/sound matching activities. Kids particularly liked the \"paint by matching letter\" game that helps them make letter-sound associations. The graphics and characters are appealing, and the tutor feature and reward system are unusually good. There are some noninterruptible animation and narration sequences that testers didn\\'t seem to mind, in fact, this is a favorite of many children.', 'Teaches:', 'early learning skills, reading, math', 'Age Range:', \"2, 3, 4 Copyright © 2000 Children's Software Revue --\", 'From Children\\'s Software Revue® -- \"Subscribe Now!\"', 'See more']",
         "3"
        ],
        [
         "61",
         "Where in the World Is Carmen Sandiego? [OLD VERSION]",
         "['Amazon.com', 'Discover the world in a thrilling crime-stopping chase. The world has lost all the salt from the Dead Sea, the gargoyles from Notre Dame, even the steps to the Tango. As a detective, your job is to interrogate informants, track clues with your electronic notepad, and arrest the thief before the battery meter runs out.', 'From the Manufacturer', \"Expand kids' knowledge of world geography and cultures as they travel to 50 countries, gather clues from hundreds of animated characters, and take guided tours through scrolling landscapes filled with music. To help kids solve cases or gather information for school assignments, a rich electronic database is included. It features essays, spectacular color photos, and video clips from The National Geographic Society.\", 'Review', \"Kids can once again search for criminals across the globe with this updated version of the classic geography program. Carmen Sandiego is on another spree of mischief, stealing the Olympic flame and pilfering all the salt from the Dead Sea! Children are given the task of tracking down Carmen and her cohorts, country by country. As they travel to 50 different locations to follow leads, players tour each area to get the lay of the land. While talking to inhabitants while narrowing down the clues, they'll hear bits of twelve other languages. To aid their sleuthing, children can use a talking foreign language dictionary or directly access an Internet link to maps, satellite images and geographic resources. Testers greatly enjoyed the program but found that they needed an almanac when trying to figure out the clues. Kids loved the suspense of the game and especially liked the scrolling panoramic graphics. The program is very educational as well as entertaining. In the Multimedia Library, children can watch National Geographic Society videos and access essays, maps and color photos of locations across the globe. Guided tours are available so that kids can learn world geography as well as facts about international music, art and history. Other skills emphasized include database research skills, deductive reasoning and map reading. We highly recommend this terrific CD-ROM, to both schools and homes- just make sure you've got an almanac handy.\", 'Teaches:', 'geography, facts about 50 countries, language, logic', 'Age Range:', \"9, 10, 11, 12, 13, 14 Copyright © 2000 Children's Software Revue --\", 'From Children\\'s Software Revue® -- \"Subscribe Now!\"', 'See more']",
         "3"
        ],
        [
         "62",
         "I Spy Spooky Mansion",
         "['Product description', \"Lots of paths to choose from...and endless funfinding your way out!Product InformationExplore the ten creepy rooms of I Spy Spooky Mansion and find brain-buildingpicture riddles and multi-leveled games that encourage problem solving readingand creativity.Explore ten creepy rooms in the spooky mansion to find cleverly concealedpicture riddles and games. Solve the Secret Message Puzzle too and you'lldiscover the way out of the house.What is I Spy?\\xa0 I Spy created by Jean Marzollo and Walter Wick is anaward-winning series of books software jigsaw puzzles and games for children.I spy bines intriguing photographs of familiar objects with rich rhymingriddles to create bran-testing puzzles that kids can't resist. Each time kidsplay I Spy they discover clever object associations word play and themeswhich help them build important learning skills including reading problemsolving and creativity. Kids think when they play I spy!Product Highlights13 Riddle AreasYou'll need to use more than just your eyes to solve some of these trickyriddles. Get ready to think!Special FeaturesUse the built-in magnifying glass to uncover objects hidden within the colorfulwings of these butterflies.Mystery BinsIn this fast-paced game you'll need to concentrate in order to sort andclassify objects into matching pairs. Try all three levels of difficulty!And More!Explore the whole house there's nothing to fear. Solve all the riddles createseven ghosts design your own I Spy picture riddles and play games. For everyriddle you tackle you e closer to finding a way out of the house.Product Features Solve 26 picture riddles create seven ghosts play fast-paced games and make your own picture riddles. Play independently or team up with a friend. Multi-leveled games encourage replayability. Scenes are personalized with your name. Amusing sound effects fun animations and musical surprises. Save your game to finish later. Print\", 'Amazon.com', 'This CD-ROM game is based on the award-winning I Spy book series. The game engages children with clever and colorful spooky scenarios and builds learning skills through riddles, puzzles, and games.', 'Review', \"Your eyes water, but you won't give up. You're searching for a small nut hiding somewhere in a detailed picture of a clock face. You've found the first nut- an acorn. After some intensive looking you spot a metal nut (as in bolt). You click on it to solve the riddle and win another clue toward how to escape from the spooky house. Our testers simply wouldn't stop playing this second program in the I Spy CD-ROM series, which hides thirteen of Jean Marzallo's I Spy puzzles inside a dark mansion. Kids must find their way out of the mansion by solving each riddle. Children look for hidden objects camouflaged in a collection of exotic dolls, a spooky old butterfly collection and an amazing assortment of keys, buttons, paper clips, spiders and so on. Because the child has signed into the program, the software occasionally weaves the child's name into the picture. Also hidden among the rooms is a three-level concentration game, a timed matching game and a create-your-own I Spy puzzle, which lets children make their own puzzles and write their own riddles. It's hard to find fault with the design of this program. Be forewarned that children will be calling for help when they can't find that last fish eye, however. We were pleased to see some innovative features- a moving concentration game and a dark attic where objects are found with the beam of a flashlight. The combination of riddles and games gives the program plenty of replay value and provides a fun way to experiment with language. Because the computer keeps track of the puzzles that have been completed, it's possible to jump to a fresh challenge at any time. This makes this program very easy to get started with, yet extremely challenging, even for adults.\", 'Teaches:', 'reading, language, rhyming, classification, logic, memory', 'Age Range:', '6, 7, 8, 9, 10 --', 'From Children\\'s Software Revue® -- \"Subscribe Now!\"', 'See more']",
         "3"
        ],
        [
         "64",
         "MatchBox Caterpillar Construction Zone CD & CAT Controller",
         "['Amazon.com', \"Dig, demolish, construct, and save the day! Realistic controls and awesome 3-D graphics put you in the operator's seat of your own Caterpillar machine. Complete challenging missions in realistic environments. Use the CAT Controller for added realism. Operate six different CAT machines. Personalize hard hats, certificates, and more. (Ages 5 and older)\", 'Review', \"This just-for-fun CD lets your wannabe construction worker sit in the driver's seat of a Caterpillar vehicle and help out with projects like clearing a wheat field, fixing a pipe under a city street or demolishing a rundown building. In realistic environments, kids choose from six cool Caterpillar vehicles to dig tunnels, move earth and cut trees while performing each mission. Testers found the program very entertaining, although those who tried to operate the vehicles using the strap-on playset ultimately reverted to the arrow keys for steering. Note that the program was very buggy on a top-of-the-line 1999 Packard Bell computer.\", 'Teaches:', 'game play, vehicles', 'Age Range:', \"5, 6, 7, 8, 9 Copyright © 2000 Children's Software Revue --\", 'From Children\\'s Software Revue® -- \"Subscribe Now!\"']",
         "3"
        ],
        [
         "69",
         "My Type Artist",
         "['Amazon.com', \"MySoftware's MyTypeArtist is a graphical program that helps you add flair to words or phrases for your projects, presentations, and Web pages. You can choose from 1,000 imaginative typestyles, and in three quick steps, jazz up your words with a designer's touch. It's easy and fast to browse the library and try out a range of typestyles.\", 'MyTypeArtist offers typestyles in a variety of colors, textures, patterns, and more. Some provide you with a professional look, some with a more whimsical look. There are also many holiday-theme typestyles. Over 30,000 designer hours went into creating MyTypeArtist, so you have professional-quality graphics at your fingertips.']",
         "3"
        ],
        [
         "83",
         "Arthur's Teacher Trouble",
         "[\"Arthur begins a new school year in his third grade class with his new teacher Mr. Ratburn. Kids practice along with Arthur as he studies for his school's spelling bee. Enhance your child's education while they have fun playing with Arthur.\"]",
         "3"
        ]
       ],
       "shape": {
        "columns": 3,
        "rows": 10
       }
      },
      "text/html": [
       "<div>\n",
       "<style scoped>\n",
       "    .dataframe tbody tr th:only-of-type {\n",
       "        vertical-align: middle;\n",
       "    }\n",
       "\n",
       "    .dataframe tbody tr th {\n",
       "        vertical-align: top;\n",
       "    }\n",
       "\n",
       "    .dataframe thead th {\n",
       "        text-align: right;\n",
       "    }\n",
       "</style>\n",
       "<table border=\"1\" class=\"dataframe\">\n",
       "  <thead>\n",
       "    <tr style=\"text-align: right;\">\n",
       "      <th></th>\n",
       "      <th>title</th>\n",
       "      <th>description</th>\n",
       "      <th>agg_avg_cluster</th>\n",
       "    </tr>\n",
       "  </thead>\n",
       "  <tbody>\n",
       "    <tr>\n",
       "      <th>4</th>\n",
       "      <td>Reader Rabbit Learn to Read with Phonics Presc...</td>\n",
       "      <td>[Preschool/Kindergarten Learning to read with ...</td>\n",
       "      <td>3</td>\n",
       "    </tr>\n",
       "    <tr>\n",
       "      <th>5</th>\n",
       "      <td>Leap Into Phonics Build Phonemic Awareness</td>\n",
       "      <td>[Leap Into Phonics consists of 8 components, e...</td>\n",
       "      <td>3</td>\n",
       "    </tr>\n",
       "    <tr>\n",
       "      <th>15</th>\n",
       "      <td>Hair 900 DVD DEMO For Practice</td>\n",
       "      <td>[Vietnamese &amp; English Bleach Color Relaxed Hai...</td>\n",
       "      <td>3</td>\n",
       "    </tr>\n",
       "    <tr>\n",
       "      <th>57</th>\n",
       "      <td>Jump Start Learning Games: ABC's</td>\n",
       "      <td>[Amazon.com, In, JumpStart Learning Games: ABC...</td>\n",
       "      <td>3</td>\n",
       "    </tr>\n",
       "    <tr>\n",
       "      <th>58</th>\n",
       "      <td>JumpStart Preschool</td>\n",
       "      <td>[Product description, Meet Casey Cat, Pierre P...</td>\n",
       "      <td>3</td>\n",
       "    </tr>\n",
       "    <tr>\n",
       "      <th>61</th>\n",
       "      <td>Where in the World Is Carmen Sandiego? [OLD VE...</td>\n",
       "      <td>[Amazon.com, Discover the world in a thrilling...</td>\n",
       "      <td>3</td>\n",
       "    </tr>\n",
       "    <tr>\n",
       "      <th>62</th>\n",
       "      <td>I Spy Spooky Mansion</td>\n",
       "      <td>[Product description, Lots of paths to choose ...</td>\n",
       "      <td>3</td>\n",
       "    </tr>\n",
       "    <tr>\n",
       "      <th>64</th>\n",
       "      <td>MatchBox Caterpillar Construction Zone CD &amp; CA...</td>\n",
       "      <td>[Amazon.com, Dig, demolish, construct, and sav...</td>\n",
       "      <td>3</td>\n",
       "    </tr>\n",
       "    <tr>\n",
       "      <th>69</th>\n",
       "      <td>My Type Artist</td>\n",
       "      <td>[Amazon.com, MySoftware's MyTypeArtist is a gr...</td>\n",
       "      <td>3</td>\n",
       "    </tr>\n",
       "    <tr>\n",
       "      <th>83</th>\n",
       "      <td>Arthur's Teacher Trouble</td>\n",
       "      <td>[Arthur begins a new school year in his third ...</td>\n",
       "      <td>3</td>\n",
       "    </tr>\n",
       "  </tbody>\n",
       "</table>\n",
       "</div>"
      ],
      "text/plain": [
       "                                                title  \\\n",
       "4   Reader Rabbit Learn to Read with Phonics Presc...   \n",
       "5          Leap Into Phonics Build Phonemic Awareness   \n",
       "15                     Hair 900 DVD DEMO For Practice   \n",
       "57                   Jump Start Learning Games: ABC's   \n",
       "58                                JumpStart Preschool   \n",
       "61  Where in the World Is Carmen Sandiego? [OLD VE...   \n",
       "62                               I Spy Spooky Mansion   \n",
       "64  MatchBox Caterpillar Construction Zone CD & CA...   \n",
       "69                                     My Type Artist   \n",
       "83                           Arthur's Teacher Trouble   \n",
       "\n",
       "                                          description  agg_avg_cluster  \n",
       "4   [Preschool/Kindergarten Learning to read with ...                3  \n",
       "5   [Leap Into Phonics consists of 8 components, e...                3  \n",
       "15  [Vietnamese & English Bleach Color Relaxed Hai...                3  \n",
       "57  [Amazon.com, In, JumpStart Learning Games: ABC...                3  \n",
       "58  [Product description, Meet Casey Cat, Pierre P...                3  \n",
       "61  [Amazon.com, Discover the world in a thrilling...                3  \n",
       "62  [Product description, Lots of paths to choose ...                3  \n",
       "64  [Amazon.com, Dig, demolish, construct, and sav...                3  \n",
       "69  [Amazon.com, MySoftware's MyTypeArtist is a gr...                3  \n",
       "83  [Arthur begins a new school year in his third ...                3  "
      ]
     },
     "metadata": {},
     "output_type": "display_data"
    },
    {
     "name": "stdout",
     "output_type": "stream",
     "text": [
      ">>>>\n",
      "\n",
      ">>>> Cluster 5\n"
     ]
    },
    {
     "data": {
      "application/vnd.microsoft.datawrangler.viewer.v0+json": {
       "columns": [
        {
         "name": "index",
         "rawType": "int64",
         "type": "integer"
        },
        {
         "name": "title",
         "rawType": "object",
         "type": "string"
        },
        {
         "name": "description",
         "rawType": "object",
         "type": "unknown"
        },
        {
         "name": "agg_avg_cluster",
         "rawType": "int64",
         "type": "integer"
        }
       ],
       "ref": "9b88e6a1-83da-4017-a41c-0162f3a6edb0",
       "rows": [
        [
         "283",
         "Animals: Amazing, Wild and Endangered Learning Power Pack (Win/Mac)",
         "['3 Full-Featured Titles on 3 CD-ROMs! Product Information This fascinating compendium is a complete guide to nature, the animal kingdomwhich inhabits it and how humans are dangerously affecting the naturalecosystem.\\xa0 Through dramatic multimedia presentations, You will learn whatscientists have discovered about hundreds of species and plants and theirhabitats.\\xa0 These same species, so']",
         "4"
        ],
        [
         "291",
         "How Many Bugs In A Box?",
         "[]",
         "4"
        ],
        [
         "335",
         "WeatherBug Plus",
         "['Product Description', 'WeatherBug Plus is your ultimate guide to live, local weather conditions for your neighborhood and other cities and towns across the United States. A one year subscription to WeatherBug Plus is included. After one year, the WeatherBug Plus subscription must be renewed or it will revert to the advertising-supported version.', 'From the Manufacturer', 'Get WeatherBug Plus--now on CD in a handsome new box! It makes a great gift for the person who has everything! Get all the weather information you want, completely ad-free! You just need an Internet connection to get the live, local data from one of our 8,000 WeatherBug tracking stations. WeatherBug Plus can be installed from the CD on up to two computers. Each CD has a one-year subscription with:', '\"Come-to-life\" backgrounds that replace the ads', '\"Come-to-life\" backgrounds that replace the ads', '13 additional weather alerts set to your preference', '13 additional weather alerts set to your preference', 'Access to up to 30 live, local weather cameras in your area', 'Access to up to 30 live, local weather cameras in your area', \"The ability to view six locations at once, so you know whats going on at your kid's school, parents house, or even your favorite vacation spot WeatherBug Plus is your ultimate guide to live, local weather conditions for your neighborhood and other cities and towns across the United States. Features:Live, local temperature in your taskbar Severe weather alerts An interactive travel map to check the forecast Instant access to live animated radar Community sections Weather monitoring window Thirty live weather cameras Ability to set up 13 unique weather alerts Unique skins Air quality and UV index reports\", \"The ability to view six locations at once, so you know whats going on at your kid's school, parents house, or even your favorite vacation spot WeatherBug Plus is your ultimate guide to live, local weather conditions for your neighborhood and other cities and towns across the United States.\", 'Features:', 'Live, local temperature in your taskbar', 'Live, local temperature in your taskbar', 'Severe weather alerts', 'Severe weather alerts', 'An interactive travel map to check the forecast', 'An interactive travel map to check the forecast', 'Instant access to live animated radar', 'Instant access to live animated radar', 'Community sections', 'Community sections', 'Weather monitoring window', 'Weather monitoring window', 'Thirty live weather cameras', 'Thirty live weather cameras', 'Ability to set up 13 unique weather alerts', 'Ability to set up 13 unique weather alerts', 'Unique skins', 'Unique skins', 'Air quality and UV index reports', 'Air quality and UV index reports']",
         "4"
        ],
        [
         "378",
         "Starry Night Complete Space & Astronomy Pack 2.0 Win/Mac",
         "['From the Manufacturer', 'If youre new to astronomy or looking for the perfect gift for someone interested in the stars, this new version of Starry Night Complete Space & Astronomy Pack has everything you need to get started.', \"From the most trusted name in astronomy software, Starry Night Complete Space & Astronomy Pack Deluxe Edition is a revolutionary fusion of the world's most realistic desktop planetarium software with a new, easy-to-use point-and-click interface and 50 interactive guided tours of the night sky.\", 'Find out what it is like to be an astronaut in spaceship mode where you can travel to the edges of the known universe. See what the universe looked like thousands of years ago or what it will look like thousands of years from now. As new discoveries are made, the new objects will automatically update into the software!', 'New Features:', 'Fly around the universe using the joystick supported spaceship mode', 'Fly around the universe using the joystick supported spaceship mode', 'Know exactly where, when, and what youre observing with the \"Status\" and \"Info\" panes Key Features:See the night sky from anywhere on Earth Learn to instantly identify planets, stars, and constellations in every season using the SkyGuides multimedia, interactive tours Blast off to visit any planet in the solar system, its moons or the Milky Way Explore 1,000,000 stars from the Hipparcos and Tycho-2 3D-star catalogs and 28,000 galaxies from the Starry Night-exclusive Tully database Astound your friends with thousands of fun space facts Save or export color images to create your own space art Print handy star charts for your next adventure under the stars Stay current with automatic online updates And much more! Starry Night Complete Space & Astronomy Pack provides an ideal introduction to astronomy with: Starry Night software with 50 interactive, guided tours to get you started exploring our solar system SkyTheater DVD with over an hour-and-a-half of original movies about space Starry Night Companion, a bonus 192-page illustrated book Unleash a powerful planetarium experience with Starry Night Complete Space & Astronomy Pack Deluxe Edition', 'Know exactly where, when, and what youre observing with the \"Status\" and \"Info\" panes', 'Key Features:', 'See the night sky from anywhere on Earth', 'See the night sky from anywhere on Earth', 'Learn to instantly identify planets, stars, and constellations in every season using the SkyGuides multimedia, interactive tours', 'Learn to instantly identify planets, stars, and constellations in every season using the SkyGuides multimedia, interactive tours', 'Blast off to visit any planet in the solar system, its moons or the Milky Way', 'Blast off to visit any planet in the solar system, its moons or the Milky Way', 'Explore 1,000,000 stars from the Hipparcos and Tycho-2 3D-star catalogs and 28,000 galaxies from the Starry Night-exclusive Tully database', 'Explore 1,000,000 stars from the Hipparcos and Tycho-2 3D-star catalogs and 28,000 galaxies from the Starry Night-exclusive Tully database', 'Astound your friends with thousands of fun space facts', 'Astound your friends with thousands of fun space facts', 'Save or export color images to create your own space art', 'Save or export color images to create your own space art', 'Print handy star charts for your next adventure under the stars', 'Print handy star charts for your next adventure under the stars', 'Stay current with automatic online updates', 'Stay current with automatic online updates', 'And much more! Starry Night Complete Space & Astronomy Pack provides an ideal introduction to astronomy with: Starry Night software with 50 interactive, guided tours to get you started exploring our solar system SkyTheater DVD with over an hour-and-a-half of original movies about space Starry Night Companion, a bonus 192-page illustrated book Unleash a powerful planetarium experience with Starry Night Complete Space & Astronomy Pack Deluxe Edition', 'And much more! Starry Night Complete Space & Astronomy Pack provides an ideal introduction to astronomy with:', 'Starry Night software with 50 interactive, guided tours to get you started exploring our solar system', 'Starry Night software with 50 interactive, guided tours to get you started exploring our solar system', 'SkyTheater DVD with over an hour-and-a-half of original movies about space', 'SkyTheater DVD with over an hour-and-a-half of original movies about space', 'Starry Night Companion, a bonus 192-page illustrated book', 'Starry Night Companion, a bonus 192-page illustrated book', 'Unleash a powerful planetarium experience with Starry Night Complete Space & Astronomy Pack Deluxe Edition', 'Unleash a powerful planetarium experience with Starry Night Complete Space & Astronomy Pack Deluxe Edition']",
         "4"
        ],
        [
         "406",
         "Marine Aquarium + Sharks",
         "[\"Turn your monitor into the exotic fish tank you've always wanted!\"]",
         "4"
        ],
        [
         "422",
         "Switch Zoo Deluxe: Make New Animals! (Jewel Case) Free Shipping!",
         "['Make your own new creatures at this photorealistic virtual zoo! Switch Zoo Deluxe was selected by Parenting magazine as one of \"The Best Computer Games\" of 2005. The games were handpicked by Parenting editors then tested by moms and kids across the country! \"Players assemble any mixture of animal they can imagine from the heads, bodies, legs, and tails of 140 vividly lifelike onscreen critters. Beyond its sidesplitting humor, this dazzling game of mix and match teaches children accurate info about animals and lets them make up names and bios for their surreal menagerie. Looking for a Grandparents Day gift? Print pictures of and stories about your kids\\' wildest creations.\" - Anne Reeks, \\'The Best Computer Games,\" Parenting magazine. Switch Zoo Deluxe features diverse species and a fact-filled profile of every animal. The Randomizer switches all of an animal\\'s features simultaneously, for a surprise that\\'s like discovering a new species. Players can save their favorite new animals and stories in their own collection. Like a real zoo, Switch Zoo Deluxe is fascinating for visitors of all ages. The game is easy to play using a colorful user interface, so young players can make animals even if they can\\'t read yet. Older children and adults can read the animal profiles to learn about the animals that make up their fantastic new creatures. Switch Zoo is used for science, art, and language arts projects in thousands of schools, worldwide.']",
         "4"
        ],
        [
         "425",
         "Aqua Real 3D Deluxe",
         "[\"Experience ultra realistic virtual fish in underwater worlds and transform your monitor into a fully stocked aquarium of the highest quality. Not just a screensaver, Aqua Real 3D Deluxe can also be your active desktop. Choose from over 60 species of fish, enjoy spectacular fish tanks and even customize your aquarium with your favorite digital images and music! Utilizing some of the world's most advanced technology for 3D virtual reality and biomechanics, the inhabitants of this virtual aquarium look, move and behave like real fish!\"]",
         "4"
        ],
        [
         "441",
         "Sid Meier's Colonization (Jewel Case)",
         "[\"Sid Meier's Colonization: Create a New Nation! Listed for Windows 3.1/95, but has also been tested and works on Windows XP depending on your computer's configuration . So re-live this classic game. The New World lies before you with all its peril, promise and infinite possibility. Your colonists anxiously follow you to shore. The treasures of an entire continent await you. Finally, the much-anticipated follow-up to Civilization is here! Sid Meier's Colonization takes you into the Colonial Era to discover, explore and colonize vast territories that promise both danger and reward. Play one of four colonial powers as you set sail to discover the New World. Explore new lands and strategically plant your first colony. Direct its growth, manage its resources and establish lucrative trade routes. Balance economic, political and military strategy to create your own, powerful nation. But beware of your enemies! Angry natives and rival powers can encroach upon your territory. You'll have to overcome your foes with superior military strategy and wily diplomacy. Only then can you launch your revolution and declare your independence. Colonization, the newest strategy game from Sid Meier continues the great tradition of Civilization.\"]",
         "4"
        ],
        [
         "444",
         "Game Empire (Over 250 Games!}",
         "[\"* * * WITH OVER 250 GAMES ON A SINGLE CD, GAME EMPIRE GIVES YOU MORE INCREDIBLE GRAPHICS, FAST ACTION AND SOUND EFFECTS THAN A VIDEO ARCADE. HERE'S JUST A FEW OF THE INCLUDED PROGRAMS: *DOOM *MONSTER BASH *BIOMENACE * EPIC PINBALL *JETPACK *KEN'S LABYRINTH *WOLFENSTEIN 3D *BATTLE OF ATLANTIS * * *\"]",
         "4"
        ],
        [
         "475",
         "Starry Night Pro Plus 6.2 [Old Version]",
         "['Amazon.com', 'For the advanced amateur astronomer, the full-color AllSky CCD mosaic, sophisticated telescope controls and comprehensive observational tools included in Starry Night Pro Plus version 6.0 will engage you in the hobby like no other software.', '100 degree field-of-view of the AllSky Image.', 'View larger', '.', 'From any place on Earth, see the real night sky in full-color photographic detail.', 'View larger', '.', 'Hover above the Earth for a detailed view of our home planet before blasting off to explore deep space.', 'View larger', '.', 'Recognize 1000+ craters, valleys, and more instantly with surface feature outlines for the Moon.', 'View larger', '.', 'Enhanced telescope control makes Starry Night even easier-to-use for unsurpassed astronomical observations.', 'View larger', '.', 'Pro Plus Version 6 Features', \"The biggest single addition to Starry Night software since its inception is now yours in the Pro Plus version 6.0--a full-color AllSky CCD image mosaic of the entire night sky visible from Earth--a picture so detailed, it weighs in at an astounding 6.44 billion pixels in size. Named AllSky for its uniform coverage from pole to pole, it's a single picture of the whole sky that has now been precisely mapped to Starry Night's computer generated stars and databases. Previously only available to Windows users through Desktop Universe planetarium software, the display of the AllSky image has been drastically improved in Starry Night and is now accessible to Mac users as well.\", 'Computer Images With Exquisite Detail', 'With Pro Plus version 6.0, you can view on your computer screen an image better than the best-trained human eye can capture in real-time viewing through a telescope on a \"good seeing\" night. You\\'ll be able to see the entire Milky Way in exquisite detail and then zoom in to explore dust lanes and nebulae. Instead of dots and circles, you will see an actual photo of a star or a deep sky object.', 'Smooth and Swift Navigation', \"With Pro Plus version 6.0, you'll smoothly and swiftly navigate the full color AllSky CC photograph of the entire night sky, to a limiting magnitude of 14-15. Five years in development, the AllSky CCD mosaic is comprised of about 20,000 individual images, originally imaged at a resolution of 12 arcseconds per pixel with a scientific grade, custom built AP9E CCD camera. The AllSky image in Starry Night presents the entire sky as a full-color, seamless mosaic at 5 resolution levels depending on your zoom setting. This consistent resolution, color and depth of coverage eliminates the uncertainties of comparing images from many and varied sources. Zoom from the widest possible view of 180 degrees to 0.5 degree field of view.\", 'If you have the processing power, set the AllSky image to be more precise and a better match between the photographic stars in the AllSky image and the Starry Night stars. For the highest quality AllSky image, you will need a video card with a minimum of 96 MB VRAM.', 'Pro Plus version 6.0 includes an additional 6 GB of the AllSky image in DDS texture format, which enables the AllSky image to load up to 20 times faster. In addition, at wide fields of view, the AllSky image can be rendered via shaders for perfect rendering accuracy and a dramatic speed improvement, but you will need a higher-end OpenGL 2.0 capable graphics card to see this phenomenal improvement. A 128 MB nVidia GeForce 6600 (or higher) or ATI Radeon X800 (or higher) are recommended.', 'In all, Starry Night Pro Plus version 6 has over 25 new features that bring more power and control to your observing and imaging. Starry Night Pro Plus will change how you look at the night sky.', 'Exclusive to Pro Plus:', 'View positions and outlines of 1400 dark, emission, planetary and reflection nebulae', 'View positions and outlines of 1400 dark, emission, planetary and reflection nebulae', 'Identify 1700 globular and open star clusters', 'Identify 1700 globular and open star clusters', 'Fly over super-high resolution 24-bit color map of Mars land mass topography above the sea.', 'Fly over super-high resolution 24-bit color map of Mars land mass topography above the sea.', 'Hover over Earth and see details within 1 km (0.6 miles) resolution', 'Hover over Earth and see details within 1 km (0.6 miles) resolution', \"Create your own astrophotography using imaging plug-in to integrate Starry Night and MaxIm DL imaging software (sold separately, Windows only) What's in the Box Two DVD-ROMs of Starry Night software for Windows and Macintosh, an exclusive SkyTheater DVD with over an hour or original movies about space, Starry Night Companion, a 192-page illustrated astronomy book, and a new, comprehensive 210-page User's Guide.\", 'Create your own astrophotography using imaging plug-in to integrate Starry Night and MaxIm DL imaging software (sold separately, Windows only)', \"What's in the Box\", \"Two DVD-ROMs of Starry Night software for Windows and Macintosh, an exclusive SkyTheater DVD with over an hour or original movies about space, Starry Night Companion, a 192-page illustrated astronomy book, and a new, comprehensive 210-page User's Guide.\", 'From the Manufacturer', 'For the advanced amateur astronomer, the full-color AllSky CCD mosaic, sophisticated telescope controls, and comprehensive observational tools included in Starry Night Pro Plus version 6 will engage you in the hobby like no other software.', \"The biggest single addition to Starry Night software since its inception, the full-color AllSky CCD image mosaic of the entire night sky visible from Earth weighs in at 6.44 billion pixels in size. Named AllSky for its uniform coverage from pole to pole, it's a single picture of the whole sky that has now been precisely mapped to Starry Night's computer generated stars and databases. Previously only available to Windows users through Desktop Universe planetarium software, the display of the AllSky image has been drastically improved in Starry Night and is now accessible to Mac users as well.\", 'View on your computer screen an image better than the best-trained human eye can capture in real-time viewing through a telescope on a \"good seeing\" night. See the entire Milky Way in exquisite detail and then zoom in to explore dust lanes and nebulae. Instead of dots and circles, you will see an actual photo of a star or a deep sky object.', 'Smoothly and swiftly navigate this full-color photograph of the entire night sky, to a limiting magnitude of 14-15. Five years in development, the AllSky CCD mosaic is comprised of about 20,000 individual images, originally imaged at a resolution of 12 arcseconds per pixel with a scientific grade, custom-built AP9E CCD camera.', 'The AllSky image in Starry Night presents the entire sky as a full-color, seamless mosaic at five resolution levels depending on your zoom setting. This consistent resolution, color, and depth of coverage eliminates the uncertainties of comparing images from many and varied sources. Zoom from the widest possible view of 180 degrees to 0.5 degree field of view.', 'If you have the processing power, set the AllSky image to be more precise and a better match between the photographic stars in the AllSky image and the Starry Night stars. For the highest quality AllSky image, you will need a video card with a minimum of 96 MB VRAM.', 'Version 6 includes an additional 6 GB of the AllSky image in DDS texture format, which enables the AllSky image to load up to 20 times faster.', 'In addition, at wide fields of view, the AllSky image can be rendered via shaders for perfect rendering accuracy and a dramatic speed improvement, but you will need a higher-end OpenGL 2.0-capable graphics card to see this phenomenal improvement. We recommend 128 MB nVidia GeForce 6600 (or higher) or ATI Radeon X800 (or higher).', 'In all, Starry Night Pro Plus version 6 has over 25 new features that bring more power and control to your observing and imaging. Starry Night Pro Plus will change how you look at the night sky.', 'Exclusive to Pro Plus:', \"Zoom in on full-color AllSky CCD image mosaic of the entire night sky to a limiting magnitude of 14-15, mapped precisely to Starry Night's databases\", \"Zoom in on full-color AllSky CCD image mosaic of the entire night sky to a limiting magnitude of 14-15, mapped precisely to Starry Night's databases\", 'AllSky CCD image loads 20 times faster in DDS texture format (additional 6 GB of hard drive space needed)', 'AllSky CCD image loads 20 times faster in DDS texture format (additional 6 GB of hard drive space needed)', 'View positions and outlines of 1400 dark, emission, planetary, and reflection nebulae', 'View positions and outlines of 1400 dark, emission, planetary, and reflection nebulae', 'Identify 1700 globular and open-star clusters', 'Identify 1700 globular and open-star clusters', 'Fly over super-high resolution 24-bit color map of Mars land mass topography above the sea', 'Fly over super-high resolution 24-bit color map of Mars land mass topography above the sea', 'Hover over Earth and see details within 1 km (0.6 miles) resolution', 'Hover over Earth and see details within 1 km (0.6 miles) resolution', \"Create your own astrophotography using imaging plug-in to integrate Starry Night and MaxIm DL imaging software (sold separately, Windows only) New Features:Plan observing sessions with Event Finder that instantly displays celestial events, such as lunar and solar eclipses and conjunctions, for months far into the future. Create Observing Lists of astronomical objects using a variety of filters such as magnitude, altitude above horizon, type, or database. Quickly see what objects you have observed and which ones you still need to hunt down. Find targets effortlessly with three-view star-hopping charts customized to your equipment. Select your equipment from expanded default database of over 300 Orion, Meade, Celestron and Vixen scopes, binoculars, SBIG, Apogee, FLI and Starlight Express CCD chips, and more. Recognize 1000+ craters, valleys, and more instantly with surface feature outlines for the Moon. View the locations of 160+ extrasolar planets. Enjoy eight additional photorealistic Earth horizon panoramas. And all the new data and features of Starry Night Pro version 6, including Take advantage of improved Digital Settings Circles Support for non-motorized telescopes such as Orion SkyQuest IntelliScope, NGCMAX, Lumicon Sky Vector, Discovery Digital Star Finder, Orion SkyWizard III, and Celestron Advanced Astromaster. Control your robotic telescope focuser with Computer Controlled Focuser Support (Windows only). Supported models include AstroOptik telescopes, Astrophysics GTO mount, Finger Lakes focusers, Gemini equipped mount, JMI Smart Focus, Meade LX200 and Autostar, Optec TCF-S, and PCFocus. Smoothly track and follow satellites with the Meade LX200 GPS telescope (Mac only). And much more. Other Features:Controls most popular brands of robotic telescopes, including Orion SkyQuest Intelliscope, Meade LX200 and Autostar, Celestron Nexstar series, and all ASCOM-compliant scopes (additional cable required) Explore 65,000,000 stars Access 500+ million stars online Explore PGC Catalog of 980,000 galaxies Choose from over 30 photorealistic horizon panoramas Add custom field of view indicators to match your telescope eyepiece, binoculars, CCDs, or DSLRs And all the data and features of Starry Night Pro version 6 Starry Night Pro Plus version 6 includes: Two DVD-ROMs of Starry Night software for Windows and Macintosh Exclusive SkyTheater DVD with over an hour or original movies about space Starry Night Companion, a 192-page illustrated astronomy book New, comprehensive 210-page user's guide\", 'Create your own astrophotography using imaging plug-in to integrate Starry Night and MaxIm DL imaging software (sold separately, Windows only)', 'New Features:', 'Plan observing sessions with Event Finder that instantly displays celestial events, such as lunar and solar eclipses and conjunctions, for months far into the future.', 'Plan observing sessions with Event Finder that instantly displays celestial events, such as lunar and solar eclipses and conjunctions, for months far into the future.', 'Create Observing Lists of astronomical objects using a variety of filters such as magnitude, altitude above horizon, type, or database. Quickly see what objects you have observed and which ones you still need to hunt down.', 'Create Observing Lists of astronomical objects using a variety of filters such as magnitude, altitude above horizon, type, or database. Quickly see what objects you have observed and which ones you still need to hunt down.', 'Find targets effortlessly with three-view star-hopping charts customized to your equipment.', 'Find targets effortlessly with three-view star-hopping charts customized to your equipment.', 'Select your equipment from expanded default database of over 300 Orion, Meade, Celestron and Vixen scopes, binoculars, SBIG, Apogee, FLI and Starlight Express CCD chips, and more.', 'Select your equipment from expanded default database of over 300 Orion, Meade, Celestron and Vixen scopes, binoculars, SBIG, Apogee, FLI and Starlight Express CCD chips, and more.', 'Recognize 1000+ craters, valleys, and more instantly with surface feature outlines for the Moon.', 'Recognize 1000+ craters, valleys, and more instantly with surface feature outlines for the Moon.', 'View the locations of 160+ extrasolar planets.', 'View the locations of 160+ extrasolar planets.', 'Enjoy eight additional photorealistic Earth horizon panoramas.', 'Enjoy eight additional photorealistic Earth horizon panoramas.', \"And all the new data and features of Starry Night Pro version 6, including Take advantage of improved Digital Settings Circles Support for non-motorized telescopes such as Orion SkyQuest IntelliScope, NGCMAX, Lumicon Sky Vector, Discovery Digital Star Finder, Orion SkyWizard III, and Celestron Advanced Astromaster. Control your robotic telescope focuser with Computer Controlled Focuser Support (Windows only). Supported models include AstroOptik telescopes, Astrophysics GTO mount, Finger Lakes focusers, Gemini equipped mount, JMI Smart Focus, Meade LX200 and Autostar, Optec TCF-S, and PCFocus. Smoothly track and follow satellites with the Meade LX200 GPS telescope (Mac only). And much more. Other Features:Controls most popular brands of robotic telescopes, including Orion SkyQuest Intelliscope, Meade LX200 and Autostar, Celestron Nexstar series, and all ASCOM-compliant scopes (additional cable required) Explore 65,000,000 stars Access 500+ million stars online Explore PGC Catalog of 980,000 galaxies Choose from over 30 photorealistic horizon panoramas Add custom field of view indicators to match your telescope eyepiece, binoculars, CCDs, or DSLRs And all the data and features of Starry Night Pro version 6 Starry Night Pro Plus version 6 includes: Two DVD-ROMs of Starry Night software for Windows and Macintosh Exclusive SkyTheater DVD with over an hour or original movies about space Starry Night Companion, a 192-page illustrated astronomy book New, comprehensive 210-page user's guide\", 'And all the new data and features of Starry Night Pro version 6, including', 'Take advantage of improved Digital Settings Circles Support for non-motorized telescopes such as Orion SkyQuest IntelliScope, NGCMAX, Lumicon Sky Vector, Discovery Digital Star Finder, Orion SkyWizard III, and Celestron Advanced Astromaster.', 'Take advantage of improved Digital Settings Circles Support for non-motorized telescopes such as Orion SkyQuest IntelliScope, NGCMAX, Lumicon Sky Vector, Discovery Digital Star Finder, Orion SkyWizard III, and Celestron Advanced Astromaster.', 'Control your robotic telescope focuser with Computer Controlled Focuser Support (Windows only). Supported models include AstroOptik telescopes, Astrophysics GTO mount, Finger Lakes focusers, Gemini equipped mount, JMI Smart Focus, Meade LX200 and Autostar, Optec TCF-S, and PCFocus.', 'Control your robotic telescope focuser with Computer Controlled Focuser Support (Windows only). Supported models include AstroOptik telescopes, Astrophysics GTO mount, Finger Lakes focusers, Gemini equipped mount, JMI Smart Focus, Meade LX200 and Autostar, Optec TCF-S, and PCFocus.', 'Smoothly track and follow satellites with the Meade LX200 GPS telescope (Mac only).', 'Smoothly track and follow satellites with the Meade LX200 GPS telescope (Mac only).', \"And much more. Other Features:Controls most popular brands of robotic telescopes, including Orion SkyQuest Intelliscope, Meade LX200 and Autostar, Celestron Nexstar series, and all ASCOM-compliant scopes (additional cable required) Explore 65,000,000 stars Access 500+ million stars online Explore PGC Catalog of 980,000 galaxies Choose from over 30 photorealistic horizon panoramas Add custom field of view indicators to match your telescope eyepiece, binoculars, CCDs, or DSLRs And all the data and features of Starry Night Pro version 6 Starry Night Pro Plus version 6 includes: Two DVD-ROMs of Starry Night software for Windows and Macintosh Exclusive SkyTheater DVD with over an hour or original movies about space Starry Night Companion, a 192-page illustrated astronomy book New, comprehensive 210-page user's guide\", 'And much more.', 'Other Features:', 'Controls most popular brands of robotic telescopes, including Orion SkyQuest Intelliscope, Meade LX200 and Autostar, Celestron Nexstar series, and all ASCOM-compliant scopes (additional cable required)', 'Controls most popular brands of robotic telescopes, including Orion SkyQuest Intelliscope, Meade LX200 and Autostar, Celestron Nexstar series, and all ASCOM-compliant scopes (additional cable required)', 'Explore 65,000,000 stars', 'Explore 65,000,000 stars', 'Access 500+ million stars online', 'Access 500+ million stars online', 'Explore PGC Catalog of 980,000 galaxies', 'Explore PGC Catalog of 980,000 galaxies', 'Choose from over 30 photorealistic horizon panoramas', 'Choose from over 30 photorealistic horizon panoramas', 'Add custom field of view indicators to match your telescope eyepiece, binoculars, CCDs, or DSLRs', 'Add custom field of view indicators to match your telescope eyepiece, binoculars, CCDs, or DSLRs', \"And all the data and features of Starry Night Pro version 6 Starry Night Pro Plus version 6 includes: Two DVD-ROMs of Starry Night software for Windows and Macintosh Exclusive SkyTheater DVD with over an hour or original movies about space Starry Night Companion, a 192-page illustrated astronomy book New, comprehensive 210-page user's guide\", 'And all the data and features of Starry Night Pro version 6 Starry Night Pro Plus version 6 includes:', 'Two DVD-ROMs of Starry Night software for Windows and Macintosh', 'Two DVD-ROMs of Starry Night software for Windows and Macintosh', 'Exclusive SkyTheater DVD with over an hour or original movies about space', 'Exclusive SkyTheater DVD with over an hour or original movies about space', 'Starry Night Companion, a 192-page illustrated astronomy book', 'Starry Night Companion, a 192-page illustrated astronomy book', \"New, comprehensive 210-page user's guide\", \"New, comprehensive 210-page user's guide\"]",
         "4"
        ]
       ],
       "shape": {
        "columns": 3,
        "rows": 10
       }
      },
      "text/html": [
       "<div>\n",
       "<style scoped>\n",
       "    .dataframe tbody tr th:only-of-type {\n",
       "        vertical-align: middle;\n",
       "    }\n",
       "\n",
       "    .dataframe tbody tr th {\n",
       "        vertical-align: top;\n",
       "    }\n",
       "\n",
       "    .dataframe thead th {\n",
       "        text-align: right;\n",
       "    }\n",
       "</style>\n",
       "<table border=\"1\" class=\"dataframe\">\n",
       "  <thead>\n",
       "    <tr style=\"text-align: right;\">\n",
       "      <th></th>\n",
       "      <th>title</th>\n",
       "      <th>description</th>\n",
       "      <th>agg_avg_cluster</th>\n",
       "    </tr>\n",
       "  </thead>\n",
       "  <tbody>\n",
       "    <tr>\n",
       "      <th>283</th>\n",
       "      <td>Animals: Amazing, Wild and Endangered Learning...</td>\n",
       "      <td>[3 Full-Featured Titles on 3 CD-ROMs! Product ...</td>\n",
       "      <td>4</td>\n",
       "    </tr>\n",
       "    <tr>\n",
       "      <th>291</th>\n",
       "      <td>How Many Bugs In A Box?</td>\n",
       "      <td>[]</td>\n",
       "      <td>4</td>\n",
       "    </tr>\n",
       "    <tr>\n",
       "      <th>335</th>\n",
       "      <td>WeatherBug Plus</td>\n",
       "      <td>[Product Description, WeatherBug Plus is your ...</td>\n",
       "      <td>4</td>\n",
       "    </tr>\n",
       "    <tr>\n",
       "      <th>378</th>\n",
       "      <td>Starry Night Complete Space &amp; Astronomy Pack 2...</td>\n",
       "      <td>[From the Manufacturer, If youre new to astron...</td>\n",
       "      <td>4</td>\n",
       "    </tr>\n",
       "    <tr>\n",
       "      <th>406</th>\n",
       "      <td>Marine Aquarium + Sharks</td>\n",
       "      <td>[Turn your monitor into the exotic fish tank y...</td>\n",
       "      <td>4</td>\n",
       "    </tr>\n",
       "    <tr>\n",
       "      <th>422</th>\n",
       "      <td>Switch Zoo Deluxe: Make New Animals! (Jewel Ca...</td>\n",
       "      <td>[Make your own new creatures at this photoreal...</td>\n",
       "      <td>4</td>\n",
       "    </tr>\n",
       "    <tr>\n",
       "      <th>425</th>\n",
       "      <td>Aqua Real 3D Deluxe</td>\n",
       "      <td>[Experience ultra realistic virtual fish in un...</td>\n",
       "      <td>4</td>\n",
       "    </tr>\n",
       "    <tr>\n",
       "      <th>441</th>\n",
       "      <td>Sid Meier's Colonization (Jewel Case)</td>\n",
       "      <td>[Sid Meier's Colonization: Create a New Nation...</td>\n",
       "      <td>4</td>\n",
       "    </tr>\n",
       "    <tr>\n",
       "      <th>444</th>\n",
       "      <td>Game Empire (Over 250 Games!}</td>\n",
       "      <td>[* * * WITH OVER 250 GAMES ON A SINGLE CD, GAM...</td>\n",
       "      <td>4</td>\n",
       "    </tr>\n",
       "    <tr>\n",
       "      <th>475</th>\n",
       "      <td>Starry Night Pro Plus 6.2 [Old Version]</td>\n",
       "      <td>[Amazon.com, For the advanced amateur astronom...</td>\n",
       "      <td>4</td>\n",
       "    </tr>\n",
       "  </tbody>\n",
       "</table>\n",
       "</div>"
      ],
      "text/plain": [
       "                                                 title  \\\n",
       "283  Animals: Amazing, Wild and Endangered Learning...   \n",
       "291                            How Many Bugs In A Box?   \n",
       "335                                    WeatherBug Plus   \n",
       "378  Starry Night Complete Space & Astronomy Pack 2...   \n",
       "406                           Marine Aquarium + Sharks   \n",
       "422  Switch Zoo Deluxe: Make New Animals! (Jewel Ca...   \n",
       "425                                Aqua Real 3D Deluxe   \n",
       "441              Sid Meier's Colonization (Jewel Case)   \n",
       "444                      Game Empire (Over 250 Games!}   \n",
       "475            Starry Night Pro Plus 6.2 [Old Version]   \n",
       "\n",
       "                                           description  agg_avg_cluster  \n",
       "283  [3 Full-Featured Titles on 3 CD-ROMs! Product ...                4  \n",
       "291                                                 []                4  \n",
       "335  [Product Description, WeatherBug Plus is your ...                4  \n",
       "378  [From the Manufacturer, If youre new to astron...                4  \n",
       "406  [Turn your monitor into the exotic fish tank y...                4  \n",
       "422  [Make your own new creatures at this photoreal...                4  \n",
       "425  [Experience ultra realistic virtual fish in un...                4  \n",
       "441  [Sid Meier's Colonization: Create a New Nation...                4  \n",
       "444  [* * * WITH OVER 250 GAMES ON A SINGLE CD, GAM...                4  \n",
       "475  [Amazon.com, For the advanced amateur astronom...                4  "
      ]
     },
     "metadata": {},
     "output_type": "display_data"
    },
    {
     "name": "stdout",
     "output_type": "stream",
     "text": [
      ">>>>\n",
      "\n"
     ]
    }
   ],
   "source": [
    "for i in range( N_AGGLOMERATIVE_CLUSTERS ):\n",
    "    print(f\">>>> Cluster {i + 1}\")\n",
    "    display( meta_items_pandas_sample_texts_avg_with_item_data[\n",
    "        meta_items_pandas_sample_texts_avg_with_item_data['agg_avg_cluster'] == i\n",
    "    ][['title', 'description', 'agg_avg_cluster']].head(10) )\n",
    "    print(f\">>>>\\n\")"
   ]
  }
 ],
 "metadata": {
  "kernelspec": {
   "display_name": ".venv",
   "language": "python",
   "name": "python3"
  },
  "language_info": {
   "codemirror_mode": {
    "name": "ipython",
    "version": 3
   },
   "file_extension": ".py",
   "mimetype": "text/x-python",
   "name": "python",
   "nbconvert_exporter": "python",
   "pygments_lexer": "ipython3",
   "version": "3.10.16"
  }
 },
 "nbformat": 4,
 "nbformat_minor": 5
}
