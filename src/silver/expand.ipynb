{
 "cells": [
  {
   "cell_type": "markdown",
   "id": "df78e874",
   "metadata": {},
   "source": [
    "# Expandir descripciones en textos de metadata de descripciones\n",
    "Se expanden descripciones provenientes como arreglos de texto a un único texto unificado, así msimo, se genera un dataset separado para condensación de oraciones provenientes del corpus original"
   ]
  },
  {
   "cell_type": "markdown",
   "id": "99e7319d",
   "metadata": {},
   "source": [
    "## Importes iniciales"
   ]
  },
  {
   "cell_type": "code",
   "execution_count": 11,
   "id": "2a259f2a",
   "metadata": {},
   "outputs": [
    {
     "name": "stdout",
     "output_type": "stream",
     "text": [
      "The IPython.extensions.autoreload extension is already loaded. To reload it, use:\n",
      "  %reload_ext IPython.extensions.autoreload\n"
     ]
    }
   ],
   "source": [
    "%load_ext IPython.extensions.autoreload\n",
    "%autoreload 2"
   ]
  },
  {
   "cell_type": "code",
   "execution_count": 12,
   "id": "d5259bfb",
   "metadata": {},
   "outputs": [],
   "source": [
    "import sys\n",
    "from pathlib import Path\n",
    "\n",
    "def find_src_folder(current_path: Path, folder_name: str = 'src') -> Path:\n",
    "    search_directories = [current_path] + list(current_path.parents)\n",
    "    for parent in search_directories:\n",
    "        if parent.name == folder_name:\n",
    "            return parent.parent\n",
    "    return current_path\n",
    "\n",
    "src_path = find_src_folder(Path.cwd(), 'src')\n",
    "sys.path.append(str(src_path))"
   ]
  },
  {
   "cell_type": "code",
   "execution_count": 24,
   "id": "3bfa0849",
   "metadata": {},
   "outputs": [],
   "source": [
    "from sklearn.decomposition import PCA\n",
    "from sklearn.cluster import DBSCAN\n",
    "from sklearn.cluster import AgglomerativeClustering\n",
    "\n",
    "import matplotlib.pyplot as plt\n",
    "\n",
    "import tensorflow as tf\n",
    "import numpy as np\n",
    "\n",
    "import pandas as pd\n",
    "\n",
    "from matplotlib.ticker import FuncFormatter\n",
    "\n",
    "import tensorflow_hub as hub\n",
    "\n",
    "from sklearn.neighbors import NearestNeighbors\n",
    "\n",
    "from langchain_ollama.embeddings import OllamaEmbeddings\n",
    "\n",
    "from pyspark.sql import functions as F, types as T\n",
    "\n",
    "from sklearn.cluster import DBSCAN\n",
    "\n",
    "from src.utils import SparkUtils\n",
    "from keybert import KeyBERT"
   ]
  },
  {
   "cell_type": "code",
   "execution_count": 14,
   "id": "63f2ab4f",
   "metadata": {},
   "outputs": [
    {
     "name": "stdout",
     "output_type": "stream",
     "text": [
      "[SparkUtils] Stopping existing SparkSession...\n"
     ]
    }
   ],
   "source": [
    "spark_utils = SparkUtils('texts_expanded')"
   ]
  },
  {
   "cell_type": "code",
   "execution_count": 19,
   "id": "9999f718",
   "metadata": {},
   "outputs": [],
   "source": [
    "spark = spark_utils.spark"
   ]
  },
  {
   "cell_type": "code",
   "execution_count": 20,
   "id": "6079db8b",
   "metadata": {},
   "outputs": [],
   "source": [
    "meta_items = spark.read.parquet(spark_utils.path('meta_items'))"
   ]
  },
  {
   "cell_type": "code",
   "execution_count": 22,
   "id": "e8a7206d",
   "metadata": {},
   "outputs": [
    {
     "name": "stderr",
     "output_type": "stream",
     "text": [
      "                                                                                \r"
     ]
    },
    {
     "data": {
      "application/vnd.microsoft.datawrangler.viewer.v0+json": {
       "columns": [
        {
         "name": "index",
         "rawType": "int64",
         "type": "integer"
        },
        {
         "name": "title",
         "rawType": "object",
         "type": "string"
        },
        {
         "name": "main_category",
         "rawType": "object",
         "type": "string"
        },
        {
         "name": "features",
         "rawType": "object",
         "type": "unknown"
        },
        {
         "name": "description",
         "rawType": "object",
         "type": "unknown"
        },
        {
         "name": "average_rating",
         "rawType": "float32",
         "type": "float"
        },
        {
         "name": "rating_number",
         "rawType": "float64",
         "type": "float"
        },
        {
         "name": "price",
         "rawType": "float64",
         "type": "float"
        },
        {
         "name": "store",
         "rawType": "object",
         "type": "string"
        },
        {
         "name": "parent_asin",
         "rawType": "object",
         "type": "string"
        },
        {
         "name": "categories",
         "rawType": "object",
         "type": "unknown"
        },
        {
         "name": "details",
         "rawType": "object",
         "type": "string"
        },
        {
         "name": "images",
         "rawType": "object",
         "type": "unknown"
        }
       ],
       "ref": "1426d74a-376c-4f04-8c01-4f8acced3a0b",
       "rows": [
        [
         "0",
         "Accupressure Guide",
         "Appstore for Android",
         "['All the pressing point has been explained with the help of image for the ease of the user.']",
         "[\"Acupressure technique is very ancient and very effective technique to cure many medical problems. Acupressure is an ancient healing art that uses the fingers to press key points on the surface of the skin to stimulate the body's natural self-curative abilities. When these points are pressed, they release muscular tension and promote the circulation of blood and the body's life force to aid healing.\"]",
         "3.6",
         null,
         "0.0",
         "mAppsguru",
         "B00VRPSGEO",
         "[]",
         "{\"Release Date\":\"2015\",\"Date first listed on Amazon\":\"April 8, 2015\",\"Developed By\":\"mAppsguru\",\"Size\":\"2.3MB\",\"Version\":\"1.0\",\"Application Permissions\":[\"Access information about networks\",\"Initiate a phone call without going through the Dialer user interface for the user to confirm the call being placed\",\"Open network sockets\",\"Read from external storage\",\"Read only access to device state\",\"PowerManager WakeLocks to keep processor from sleeping or screen from dimming\",\"Write to external storage\"],\"Minimum Operating System\":\"Android 3.0\",\"Approximate Download Time\":\"Less than 30 seconds\"}",
         "['{\"large\":\"https://m.media-amazon.com/images/I/41+4JZcQQyL.jpg\",\"variant\":\"MAIN\"}', '{\"large\":\"https://m.media-amazon.com/images/I/51P-UDgfJUL.jpg\",\"variant\":\"PT01\"}', '{\"large\":\"https://m.media-amazon.com/images/I/61VKAZswGfL.jpg\",\"variant\":\"PT02\"}', '{\"large\":\"https://m.media-amazon.com/images/I/71Epp76GOPL.png\",\"variant\":\"PT03\"}']"
        ],
        [
         "1",
         "Ankylosaurus Fights Back - Smithsonian's Prehistoric Pals",
         "Appstore for Android",
         "['ENCOURAGE literacy skills with highlighted narration', 'FOLLOW along with three fun ways to read!', 'LEARN new vocabulary with tappable words', 'TAP objects to hear their name read aloud']",
         "[\"Join Ankylosaurus in this interactive book app as he is so busy eating that he doesn’t notice the huge T-rex that is watching him! Explore pictures, learn new vocabulary, and follow along with three fun ways to read!\\xa0Will Ankylosaurus get away from the dangerous predator?Explore the Story:- ENCOURAGE literacy skills with highlighted narration- FOLLOW along with three fun ways to read!- LEARN new vocabulary with tappable words- TAP objects to hear their name read aloud This title has been carefully reviewed by paleontologists at the Smithsonian Institution and provides fascinating information on the prehistoric worldDesigned for children ages 3-8------------------------------------------------------------------------We'd Love To Hear From You!- Please share your thoughts in a review! Your experience matters to us.- Need tech support? Contact us at\\xa0support@omapp.com- Say hello to us on FB!\\xa0facebook.com/oceanhousemediaOfficial Smithsonian Institution licensed app\"]",
         "4.0",
         null,
         "2.99",
         "Oceanhouse Media, Inc",
         "B00NWQXXHQ",
         "[]",
         "{\"Release Date\":\"2014\",\"Date first listed on Amazon\":\"September 26, 2014\",\"Developed By\":\"Oceanhouse Media, Inc\",\"Size\":\"41.6MB\",\"Version\":\"2.30\",\"Application Permissions\":[\"Open network sockets\",\"PowerManager WakeLocks to keep processor from sleeping or screen from dimming\",\"Allows verification of Google app Entitlements\"],\"Minimum Operating System\":\"Android 4.4\",\"Approximate Download Time\":\"More than 5 minutes\"}",
         "['{\"large\":\"https://m.media-amazon.com/images/I/A1XJ+0NwHpL.png\",\"variant\":\"MAIN\"}', '{\"large\":\"https://m.media-amazon.com/images/I/A1ALOQjUkVL.png\",\"variant\":\"PT01\"}', '{\"large\":\"https://m.media-amazon.com/images/I/9160mU3oAqL.png\",\"variant\":\"PT02\"}', '{\"large\":\"https://m.media-amazon.com/images/I/91abib5RPpL.png\",\"variant\":\"PT03\"}', '{\"large\":\"https://m.media-amazon.com/images/I/9107PzbO9lL.png\",\"variant\":\"PT04\"}']"
        ],
        [
         "2",
         "Mahjong 2015",
         "Appstore for Android",
         "['Mahjong 2015 is a free solitaire matching game which uses a set of Mahjong tiles. The goal of this pyramid game is to match open pairs of identical tiles and remove them from the board, exposing the tiles under them for play. You will be challenged to eliminate all pieces from the board.', 'This board game includes 300 tables. A hint functionnality also exist to help you when being stuck on a difficult table.', 'Mahjong involves skill, strategy, and calculation, as well as a certain degree of luck.', 'If you enjoy playing chess, checkers, backgammon or any Memory games, you will surely enjoy playing Mahjong !', 'IF YOU LIKE IT, PLEASE RATE IT. THANKS.']",
         "['Mahjong 2015 is a free solitaire matching game which uses a set of Mahjong tiles. The goal of this pyramid game is to match open pairs of identical tiles and remove them from the board, exposing the tiles under them for play. You will be challenged to eliminate all pieces from the board.This board game includes 300 tables. A hint functionnality also exist to help you when being stuck on a difficult table.Mahjong involves skill, strategy, and calculation, as well as a certain degree of luck.If you enjoy playing chess, checkers, backgammon or any Memory games, you will surely enjoy playing Mahjong !IF YOU LIKE IT, PLEASE RATE IT. THANKS.']",
         "3.1",
         null,
         "0.0",
         "sophiathach",
         "B00RFKP6AC",
         "[]",
         "{\"Release Date\":\"2014\",\"Date first listed on Amazon\":\"December 25, 2014\",\"Developed By\":\"sophiathach\",\"Size\":\"3.5MB\",\"Version\":\"0.5\",\"Application Permissions\":[\"Access information about networks\",\"Open network sockets\"],\"Minimum Operating System\":\"Android 2.3\",\"Approximate Download Time\":\"Less than 30 seconds\"}",
         "['{\"large\":\"https://m.media-amazon.com/images/I/91k4ufpk8lL.png\",\"variant\":\"MAIN\"}', '{\"large\":\"https://m.media-amazon.com/images/I/91bSpGp3gHL.png\",\"variant\":\"PT01\"}', '{\"large\":\"https://m.media-amazon.com/images/I/91PuWpbn1uL.png\",\"variant\":\"PT02\"}']"
        ],
        [
         "3",
         "Jewels Brick Breakout",
         "Appstore for Android",
         "['Game Features:', '- Intuitive touch controls with realistic jewels physics.', '- Optimized for both smartphones & tablets!', '- Tons of exciting & challenging levels to enjoy.', '- Gorgeous jewels power-ups.', '- Colorful gem graphics that will leave you hungry for more along with engaging music and sound effects', '- Turn off the sound and music if needed.', '- Pause the game and resume when needed.', '- Level selector.', '- Endless fun']",
         "['Jewels Brick Breakout is a glowing jewels brick breaking game in which your goal is to break all the jewels brick on each level screen! Battle through many uniquely designed levels!This amazing jewels game has tons of fun levels with exciting power-ups to utilize so be sure to clear all puzzle screens as quickly as possible!How to play:Touch the bottom part of the screen and slide your finger left or right to control the jewels board, and clear all the brick gems.']",
         "4.2",
         null,
         "0.0",
         "Bad Chicken",
         "B00SP2QU0E",
         "[]",
         "{\"Release Date\":\"2015\",\"Date first listed on Amazon\":\"January 25, 2015\",\"Developed By\":\"Bad Chicken\",\"Size\":\"4.4MB\",\"Version\":\"1.04\",\"Application Permissions\":[\"Access information about networks\",\"Open network sockets\",\"Read from external storage\",\"PowerManager WakeLocks to keep processor from sleeping or screen from dimming\",\"Write to external storage\"],\"Minimum Operating System\":\"Android 2.3\",\"Approximate Download Time\":\"Less than 1 minute\"}",
         "['{\"large\":\"https://m.media-amazon.com/images/I/71cNuRRV2HL.jpg\",\"variant\":\"MAIN\"}', '{\"large\":\"https://m.media-amazon.com/images/I/71CK1b6UQEL.jpg\",\"variant\":\"PT01\"}', '{\"large\":\"https://m.media-amazon.com/images/I/716IGqxCTML.jpg\",\"variant\":\"PT02\"}', '{\"large\":\"https://m.media-amazon.com/images/I/71-Zb2GEeDL.jpg\",\"variant\":\"PT03\"}', '{\"large\":\"https://m.media-amazon.com/images/I/71YzHc89tZL.jpg\",\"variant\":\"PT04\"}', '{\"large\":\"https://m.media-amazon.com/images/I/71agXt4zUBL.jpg\",\"variant\":\"PT05\"}', '{\"large\":\"https://m.media-amazon.com/images/I/71pDihGds-L.jpg\",\"variant\":\"PT06\"}', '{\"large\":\"https://m.media-amazon.com/images/I/71+cSjmyFlL.jpg\",\"variant\":\"PT07\"}', '{\"large\":\"https://m.media-amazon.com/images/I/71WHRU4TppL.jpg\",\"variant\":\"PT08\"}']"
        ],
        [
         "4",
         "Traffic Police: Off-Road Cub",
         "Appstore for Android",
         "['In this game you will find:', '- Killer police car physics', '- Stylish cube world', '- Off-road car chases', '- Challenging track and loop driving', '- Addictive gameplay']",
         "[\"Become the best road police officer in Cube City! You're a brave traffic police officer, drive your off-road car and pursue the criminals. It’s an infinite loop of fun! Step on the gas and conquer off-road tracks of the cube world. Jump in your police car, go to the woods! Start a race through the loop and win in a pursuit on the road. The tangled off-road is no problem for the Cube Police Department. Don't get lost in the road loop! In this game you will find: - Killer police car physics - Stylish cube world - Off-road car chases - Challenging track and loop driving - Addictive gameplay\"]",
         "3.3",
         null,
         "0.0",
         "Dast 2 For Metro",
         "B01DZIT64O",
         "[]",
         "{\"Release Date\":\"2016\",\"Date first listed on Amazon\":\"April 8, 2016\",\"Developed By\":\"Dast 2 For Metro\",\"Size\":\"28MB\",\"Version\":\"1.0\",\"Application Permissions\":[\"Access information about networks\",\"Open network sockets\",\"Read from external storage\",\"Write to external storage\"],\"Minimum Operating System\":\"Android 2.3\",\"Approximate Download Time\":\"Less than 4 minutes\"}",
         "['{\"large\":\"https://m.media-amazon.com/images/I/91KXRb3-T8L.jpg\",\"variant\":\"MAIN\"}', '{\"large\":\"https://m.media-amazon.com/images/I/816Quw4jc3L.jpg\",\"variant\":\"PT01\"}', '{\"large\":\"https://m.media-amazon.com/images/I/91o1aFT1HSL.jpg\",\"variant\":\"PT02\"}', '{\"large\":\"https://m.media-amazon.com/images/I/81kpITvD-DL.jpg\",\"variant\":\"PT03\"}']"
        ],
        [
         "5",
         "Shadow Fighting Superhero War",
         "Appstore for Android",
         "['Shadow combat super battle', 'Addicting gameplay', 'Easy to play this shadow battle', 'Iconic moves like never before', 'Shadow assassin fighting hero game', 'Easy to control movement', 'High quality graphics', 'Multiple power modes and challenge like a ninja arashi', 'Astonishing animations and unique design of shadow battle game in special edition', 'Challenge yourself and become a master of shadow assassin fighting game']",
         "['Let’s start to use different approach, dodge and defeat the opponents with mind strategy. Become a fighting hero and you can block incoming attack from your rivals. Crazy shadow fighting hero war will provide you addictive kicks, punch tactic and environment. Show your combat fight skills in real fighting game that are you are never seen in other fighting games. In order to win and survive the endless adventure and you will have to fight till your last drop of blood remains. Once you are skipping a beat then you will dead. Your shadow’s opponent will attack on your body parts. Be ready for this new epic fight theme of shadow battle game now and enjoy this memorable fighting with great heroes. Become a master hero like ninja arashi.We want to make sure you are entertained. Feel free to write us feedback. They are real time credit for us. Let’s improve the game together. Thanks in advance for valuable contributionPlease give and lets us thoughts or suggestions and ideasIts work good on android version 4.1 plus devices. It’s suggested to update your android OS for well constancy.']",
         "3.3",
         null,
         "0.0",
         "3D Futuristic Games",
         "B07F89XZF3",
         "[]",
         "{\"Release Date\":\"2018\",\"Date first listed on Amazon\":\"July 5, 2018\",\"Developed By\":\"3D Futuristic Games\",\"Size\":\"31.7MB\",\"Version\":\"1.0\",\"Application Permissions\":[\"Access information about networks\",\"Access information about Wi-Fi networks\",\"Open network sockets\"],\"Minimum Operating System\":\"Android 4.1\",\"Approximate Download Time\":\"Less than 5 minutes\"}",
         "['{\"large\":\"https://m.media-amazon.com/images/I/816UT9EvS4L.jpg\",\"variant\":\"MAIN\"}', '{\"large\":\"https://m.media-amazon.com/images/I/81bUgns07FL.jpg\",\"variant\":\"PT01\"}', '{\"large\":\"https://m.media-amazon.com/images/I/815dp01J2uL.jpg\",\"variant\":\"PT02\"}', '{\"large\":\"https://m.media-amazon.com/images/I/815tAdmWEQL.jpg\",\"variant\":\"PT03\"}', '{\"large\":\"https://m.media-amazon.com/images/I/7153M99q49L.jpg\",\"variant\":\"PT04\"}']"
        ],
        [
         "6",
         "My Aquarium - Hidden Object Challenge # 122",
         "Appstore for Android",
         "['100 Levels full of seek and find hidden objects', '400 Total Objects seek and find hidden objects', 'Beat the Leaderboard as you search and find hidden objects']",
         "['Did you search games for Hidden Object Games Free New or New Free Hidden Object Games as you search games for object finding games?PlayHOG presents My Aquarium, one of our New Free Hidden Object Games where you search and find hidden objects in New Free Hidden Objects Games, making our object finding games one of the hardest Hidden Object Games Free New.Some of My Aquarium Hidden Object Games Free New Features:★ 100 Levels full of seek and find hidden objects★ 400 Total Objects seek and find hidden objects★ Beat the Leaderboard as you search and find hidden objects★ Use hints to search and find hidden objects★ Pinch & Zoom to seek and find hidden objects★ Amazing Graphics makes our object finding games super fun★ All our Hidden Object Games Free New are 100 % freeWhat is different in our New Free Hidden Object Games?Unlike other Hidden Object Games New Free that offer teaser levels before making you pay, in My Aquarium, the entire hidden picture games is 100% free, making this the most challenging, rewarding & fair New Free Hidden Object Games. So if you like Hidden Objects Games Free New, try to seek and find hidden objects that we have carefully hidden in our picture puzzles.Our find objects games free are not spot the difference games free, but pretty similar to spot the difference games free, as both are search things in picture puzzles levels. The only difference is that spot the difference games free has two picture puzzles that you compare to search things and Hidden Objects Games New Free has only one picture puzzles to search things.Graphics in our Hidden Object Games Free New?Search and find hidden objects in My Aquarium, in vibrant colors to make the object finding games experience memorable. Like you do yoga for the body, our games give a workout to your mind as you seek and find hidden objects in our Free New Hidden Object Games. Our finding object games are ideal for those gamers that are searching for hard hidden games experience in find objects games free.New Free Hidden Objects Game are hidden games or search games where you are tasked to search things in hidden picture games levels. It is not easy, as our task is to hide objects in our Hidden Objects Games Free New and yours is to search games as you try to find objects games free.Challenges in our Free New Hidden Object Games?Play our Free New Hidden Object Games & search things in this free finding object games while discovering hidden games. Are you ready to play find objects games free where life is more complex & fantastic than just simple search games & simple spot the difference games free? Are you good in finding object games to spot all the missing objects in each colorful Hidden Objects Games Free New stage?These are fun hidden picture games & find finding object games that challenges you to solve different hidden games. Search and find hidden objects give you images of objects you have to find in picture puzzles to complete levels of object finding games. Our New Free Hidden Object Games are full of little hidden objects to search and find which makes it a hard finding object games. Hidden Object Games New Free is a very addictive hidden picture games for both kids & adults looking to play find objects games free.More Hidden Object Games New Free?Do you like to play brain games like spot the difference games free? Well our Free New Hidden Object Games puzzles are like yoga for the mind. Our brain teasers unlock the genius as you play hidden picture games. Before you spring into action playing our Hidden Object Games New Free make sure you are ready to challenge yourself in our Free New Hidden Object Games. Patience is the key when you play Free New Hidden Objects Games as it is easy to give up but hard to continue playing hidden games when you get stuck.If you like our Hidden Object Games New Free, please leave a review. Thanks.']",
         "3.0",
         null,
         "0.0",
         "PlayHOG",
         "B00PY3WIEE",
         "[]",
         "{\"Release Date\":\"2014\",\"Date first listed on Amazon\":\"November 24, 2014\",\"Developed By\":\"PlayHOG\",\"Size\":\"28.1MB\",\"Version\":\"75.0.0\",\"Application Permissions\":[\"Access information about networks\",\"Open network sockets\",\"Read from external storage\",\"Read only access to device state\",\"PowerManager WakeLocks to keep processor from sleeping or screen from dimming\",\"Write to external storage\",\"Allows an application to receive messages via Google Cloud Messaging\"],\"Minimum Operating System\":\"Android 4.0\",\"Approximate Download Time\":\"Less than 4 minutes\"}",
         "['{\"large\":\"https://m.media-amazon.com/images/I/A1O7ASRXkeL.jpg\",\"variant\":\"MAIN\"}', '{\"large\":\"https://m.media-amazon.com/images/I/A1vUvcUOChL.jpg\",\"variant\":\"PT01\"}', '{\"large\":\"https://m.media-amazon.com/images/I/91LGKqfkFcL.jpg\",\"variant\":\"PT02\"}', '{\"large\":\"https://m.media-amazon.com/images/I/A1uhXzzgYGL.jpg\",\"variant\":\"PT03\"}', '{\"large\":\"https://m.media-amazon.com/images/I/71me-Yxh-nL.jpg\",\"variant\":\"PT04\"}']"
        ],
        [
         "7",
         "Giant Surprise Petcage! Unlock Superhero Puppy",
         "Appstore for Android",
         "['Latest surprise kit with pet goals.', 'Include 7+ surprises in all the pet cages.', 'Collectible doll puppies from surprise wave.', 'Collect all multicolor characters & merge them to unleash the surprise super hero pet.', 'Only Super puppy can save Ella with the magic key.', 'The puppy cage is just like surprise blind bag capsule with more than 20 cute puzzles.', 'You will surely love this amazing puzzle game if you like surprise eggs and unboxing toys.']",
         "['Love surprise opening and unboxing cute little toys using mystery codes and puzzles? Whats inside this surprise blind box puppy cage? Download to find out and test this new version of hidden surprises game with a new and different story. This time you have to unlock Cute little puppy Ella who is locked in a dog house and she needs the super hero puppy to save her. Forget the eye spy puzzles and try these new riddles to reveal blind bag hidden hearts that will give life to the cute puppy from the pet series surprise wave. The 3 puppies are locked in a cage and you need to unlock them to unleash the superhero by merging them all. Only the superhero puppy can save Ella. Release all the puppies by Solving the smartest puzzles easy to start and difficult to quit!Unravel the hidden mystery behind the cage by opening it with your reasoning skills. Disclose the magic and escape the prison. This new hidden glam glitter surprises pet game will truly amaze you. Enjoy unlocking cage with your creative puzzle skills and let the puppies help Ella This game will prove to be a therapeutic experience to who love finding hidden objects and are obsessed with surprise biggie pets. Revealing these amazing giant surprise puppies from cute pet series will amaze you for sure. So download and try it!Latest surprise kit with pet goals.Include 7+ surprises in all the pet cages.Collectible doll puppies from surprise wave.Collect all multicolor characters & merge them to unleash the surprise super hero pet.Only Super puppy can save Ella with the magic key.The puppy cage is just like surprise blind bag capsule with more than 20 cute puzzles.You will surely love this amazing puzzle game if you like surprise eggs and unboxing toys.']",
         "2.9",
         null,
         "0.0",
         "Surprise Unboxing Games",
         "B08DNZVD7Q",
         "[]",
         "{\"Release Date\":\"2020\",\"Date first listed on Amazon\":\"July 27, 2020\",\"Developed By\":\"Surprise Unboxing Games\",\"Size\":\"48.9MB\",\"Version\":\"1.0.2\",\"Application Permissions\":[\"Access information about networks\",\"Access information about Wi-Fi networks\",\"Open network sockets\",\"Read from external storage\",\"Read only access to device state\",\"Write to external storage\"],\"Minimum Operating System\":\"Android 4.3\",\"Approximate Download Time\":\"More than 5 minutes\"}",
         "['{\"large\":\"https://m.media-amazon.com/images/I/91zP-WV5wEL.png\",\"variant\":\"MAIN\"}', '{\"large\":\"https://m.media-amazon.com/images/I/81-FugjUehL.png\",\"variant\":\"PT01\"}', '{\"large\":\"https://m.media-amazon.com/images/I/91gFi9yu67L.png\",\"variant\":\"PT02\"}', '{\"large\":\"https://m.media-amazon.com/images/I/91yysrDjqzL.png\",\"variant\":\"PT03\"}', '{\"large\":\"https://m.media-amazon.com/images/I/915Jr7sVjTL.png\",\"variant\":\"PT04\"}', '{\"large\":\"https://m.media-amazon.com/images/I/81H2ZqWFiOL.png\",\"variant\":\"PT05\"}', '{\"large\":\"https://m.media-amazon.com/images/I/81VQg-QQ-HL.png\",\"variant\":\"PT06\"}', '{\"large\":\"https://m.media-amazon.com/images/I/817+63sM2gL.png\",\"variant\":\"PT07\"}', '{\"large\":\"https://m.media-amazon.com/images/I/91pJmeysdVL.png\",\"variant\":\"PT08\"}', '{\"large\":\"https://m.media-amazon.com/images/I/91b2FIBUwDL.png\",\"variant\":\"PT09\"}']"
        ],
        [
         "8",
         "Ac Market tips",
         "Appstore for Android",
         "['We personally check and use the apps and play the games, only then it gets into the My Apps Market.', 'These are the selected apps that will make your daily life easier. So we have made this app to help you get the list of the most important apps at one place and install them with the help of this app']",
         "[\"Application made by fans for fans!Complete and detailed operational How to use where you with Good.This Free Reference is right to the point and simple clear for you to use.With this Guide app will learn a lot about Use the App of market genie.This app you can feel best experience for using the app.You may find some information useful here.This is a perfect for beginner and intermediate user. This app you can feel best experience for use the app. Please note - This is not a app !! It's is app guide.\"]",
         "3.3",
         null,
         "0.0",
         "Azeed",
         "B076J3SJ4G",
         "[]",
         "{\"Release Date\":\"2017\",\"Date first listed on Amazon\":\"October 18, 2017\",\"Developed By\":\"Azeed\",\"Size\":\"7.9MB\",\"Version\":\"1.0\",\"Application Permissions\":[\"Access information about networks\",\"Open network sockets\"],\"Minimum Operating System\":\"Android 3.0\",\"Approximate Download Time\":\"Less than 1 minute\"}",
         "['{\"large\":\"https://m.media-amazon.com/images/I/81O7BtEp6KL.png\",\"variant\":\"MAIN\"}', '{\"large\":\"https://m.media-amazon.com/images/I/81O7BtEp6KL.png\",\"variant\":\"PT01\"}', '{\"large\":\"https://m.media-amazon.com/images/I/71X6aWMtpSL.png\",\"variant\":\"PT02\"}', '{\"large\":\"https://m.media-amazon.com/images/I/91ixjjsje4L.png\",\"variant\":\"PT03\"}', '{\"large\":\"https://m.media-amazon.com/images/I/619oewgR88L.png\",\"variant\":\"PT04\"}', '{\"large\":\"https://m.media-amazon.com/images/I/91ixjjsje4L.png\",\"variant\":\"PT05\"}']"
        ],
        [
         "9",
         "Gem Shopping Network",
         "Appstore for Android",
         "['Live Stream!', 'Call to shop, ask questions, and participate in live auctions!', 'HD Coming Soon!']",
         "['Watch Gem Shopping Network Live!']",
         "3.8",
         "816.0",
         "0.0",
         "Gem Shopping Network Inc.",
         "B01GUEBBC0",
         "[]",
         "{\"Release Date\":\"2016\",\"Date first listed on Amazon\":\"June 10, 2016\",\"Developed By\":\"Gem Shopping Network Inc.\",\"Size\":\"21.3MB\",\"Version\":\"6.10.0\",\"Application Permissions\":[\"Access information about networks\",\"FOREGROUND_SERVICE\",\"Open network sockets\",\"Read only access to device state\",\"PowerManager WakeLocks to keep processor from sleeping or screen from dimming\",\"Allows an application to receive messages via Google Cloud Messaging\",\"Receive message via Amazon Device\"],\"Minimum Operating System\":\"Android 5.0\",\"Approximate Download Time\":\"Less than 3 minutes\"}",
         "['{\"large\":\"https://m.media-amazon.com/images/I/911RL+U4tYL.png\",\"variant\":\"MAIN\"}', '{\"large\":\"https://m.media-amazon.com/images/I/918CWu2XuJL.png\",\"variant\":\"PT01\"}', '{\"large\":\"https://m.media-amazon.com/images/I/916OBxaEygL.png\",\"variant\":\"PT02\"}', '{\"large\":\"https://m.media-amazon.com/images/I/91AePhH2LxL.png\",\"variant\":\"PT03\"}', '{\"large\":\"https://m.media-amazon.com/images/I/A1ZeRGC8Y1L.png\",\"variant\":\"PT04\"}', '{\"large\":\"https://m.media-amazon.com/images/I/B1GY5QSBhtS.png\",\"variant\":\"PT05\"}', '{\"large\":\"https://m.media-amazon.com/images/I/610fdwA7G+L.png\",\"variant\":\"PT06\"}', '{\"large\":\"https://m.media-amazon.com/images/I/715ECbAcTLL.jpg\",\"variant\":\"PT07\"}']"
        ]
       ],
       "shape": {
        "columns": 12,
        "rows": 10
       }
      },
      "text/html": [
       "<div>\n",
       "<style scoped>\n",
       "    .dataframe tbody tr th:only-of-type {\n",
       "        vertical-align: middle;\n",
       "    }\n",
       "\n",
       "    .dataframe tbody tr th {\n",
       "        vertical-align: top;\n",
       "    }\n",
       "\n",
       "    .dataframe thead th {\n",
       "        text-align: right;\n",
       "    }\n",
       "</style>\n",
       "<table border=\"1\" class=\"dataframe\">\n",
       "  <thead>\n",
       "    <tr style=\"text-align: right;\">\n",
       "      <th></th>\n",
       "      <th>title</th>\n",
       "      <th>main_category</th>\n",
       "      <th>features</th>\n",
       "      <th>description</th>\n",
       "      <th>average_rating</th>\n",
       "      <th>rating_number</th>\n",
       "      <th>price</th>\n",
       "      <th>store</th>\n",
       "      <th>parent_asin</th>\n",
       "      <th>categories</th>\n",
       "      <th>details</th>\n",
       "      <th>images</th>\n",
       "    </tr>\n",
       "  </thead>\n",
       "  <tbody>\n",
       "    <tr>\n",
       "      <th>0</th>\n",
       "      <td>Accupressure Guide</td>\n",
       "      <td>Appstore for Android</td>\n",
       "      <td>[All the pressing point has been explained wit...</td>\n",
       "      <td>[Acupressure technique is very ancient and ver...</td>\n",
       "      <td>3.6</td>\n",
       "      <td>NaN</td>\n",
       "      <td>0.00</td>\n",
       "      <td>mAppsguru</td>\n",
       "      <td>B00VRPSGEO</td>\n",
       "      <td>[]</td>\n",
       "      <td>{\"Release Date\":\"2015\",\"Date first listed on A...</td>\n",
       "      <td>[{\"large\":\"https://m.media-amazon.com/images/I...</td>\n",
       "    </tr>\n",
       "    <tr>\n",
       "      <th>1</th>\n",
       "      <td>Ankylosaurus Fights Back - Smithsonian's Prehi...</td>\n",
       "      <td>Appstore for Android</td>\n",
       "      <td>[ENCOURAGE literacy skills with highlighted na...</td>\n",
       "      <td>[Join Ankylosaurus in this interactive book ap...</td>\n",
       "      <td>4.0</td>\n",
       "      <td>NaN</td>\n",
       "      <td>2.99</td>\n",
       "      <td>Oceanhouse Media, Inc</td>\n",
       "      <td>B00NWQXXHQ</td>\n",
       "      <td>[]</td>\n",
       "      <td>{\"Release Date\":\"2014\",\"Date first listed on A...</td>\n",
       "      <td>[{\"large\":\"https://m.media-amazon.com/images/I...</td>\n",
       "    </tr>\n",
       "    <tr>\n",
       "      <th>2</th>\n",
       "      <td>Mahjong 2015</td>\n",
       "      <td>Appstore for Android</td>\n",
       "      <td>[Mahjong 2015 is a free solitaire matching gam...</td>\n",
       "      <td>[Mahjong 2015 is a free solitaire matching gam...</td>\n",
       "      <td>3.1</td>\n",
       "      <td>NaN</td>\n",
       "      <td>0.00</td>\n",
       "      <td>sophiathach</td>\n",
       "      <td>B00RFKP6AC</td>\n",
       "      <td>[]</td>\n",
       "      <td>{\"Release Date\":\"2014\",\"Date first listed on A...</td>\n",
       "      <td>[{\"large\":\"https://m.media-amazon.com/images/I...</td>\n",
       "    </tr>\n",
       "    <tr>\n",
       "      <th>3</th>\n",
       "      <td>Jewels Brick Breakout</td>\n",
       "      <td>Appstore for Android</td>\n",
       "      <td>[Game Features:, - Intuitive touch controls wi...</td>\n",
       "      <td>[Jewels Brick Breakout is a glowing jewels bri...</td>\n",
       "      <td>4.2</td>\n",
       "      <td>NaN</td>\n",
       "      <td>0.00</td>\n",
       "      <td>Bad Chicken</td>\n",
       "      <td>B00SP2QU0E</td>\n",
       "      <td>[]</td>\n",
       "      <td>{\"Release Date\":\"2015\",\"Date first listed on A...</td>\n",
       "      <td>[{\"large\":\"https://m.media-amazon.com/images/I...</td>\n",
       "    </tr>\n",
       "    <tr>\n",
       "      <th>4</th>\n",
       "      <td>Traffic Police: Off-Road Cub</td>\n",
       "      <td>Appstore for Android</td>\n",
       "      <td>[In this game you will find:, - Killer police ...</td>\n",
       "      <td>[Become the best road police officer in Cube C...</td>\n",
       "      <td>3.3</td>\n",
       "      <td>NaN</td>\n",
       "      <td>0.00</td>\n",
       "      <td>Dast 2 For Metro</td>\n",
       "      <td>B01DZIT64O</td>\n",
       "      <td>[]</td>\n",
       "      <td>{\"Release Date\":\"2016\",\"Date first listed on A...</td>\n",
       "      <td>[{\"large\":\"https://m.media-amazon.com/images/I...</td>\n",
       "    </tr>\n",
       "    <tr>\n",
       "      <th>5</th>\n",
       "      <td>Shadow Fighting Superhero War</td>\n",
       "      <td>Appstore for Android</td>\n",
       "      <td>[Shadow combat super battle, Addicting gamepla...</td>\n",
       "      <td>[Let’s start to use different approach, dodge ...</td>\n",
       "      <td>3.3</td>\n",
       "      <td>NaN</td>\n",
       "      <td>0.00</td>\n",
       "      <td>3D Futuristic Games</td>\n",
       "      <td>B07F89XZF3</td>\n",
       "      <td>[]</td>\n",
       "      <td>{\"Release Date\":\"2018\",\"Date first listed on A...</td>\n",
       "      <td>[{\"large\":\"https://m.media-amazon.com/images/I...</td>\n",
       "    </tr>\n",
       "    <tr>\n",
       "      <th>6</th>\n",
       "      <td>My Aquarium - Hidden Object Challenge # 122</td>\n",
       "      <td>Appstore for Android</td>\n",
       "      <td>[100 Levels full of seek and find hidden objec...</td>\n",
       "      <td>[Did you search games for Hidden Object Games ...</td>\n",
       "      <td>3.0</td>\n",
       "      <td>NaN</td>\n",
       "      <td>0.00</td>\n",
       "      <td>PlayHOG</td>\n",
       "      <td>B00PY3WIEE</td>\n",
       "      <td>[]</td>\n",
       "      <td>{\"Release Date\":\"2014\",\"Date first listed on A...</td>\n",
       "      <td>[{\"large\":\"https://m.media-amazon.com/images/I...</td>\n",
       "    </tr>\n",
       "    <tr>\n",
       "      <th>7</th>\n",
       "      <td>Giant Surprise Petcage! Unlock Superhero Puppy</td>\n",
       "      <td>Appstore for Android</td>\n",
       "      <td>[Latest surprise kit with pet goals., Include ...</td>\n",
       "      <td>[Love surprise opening and unboxing cute littl...</td>\n",
       "      <td>2.9</td>\n",
       "      <td>NaN</td>\n",
       "      <td>0.00</td>\n",
       "      <td>Surprise Unboxing Games</td>\n",
       "      <td>B08DNZVD7Q</td>\n",
       "      <td>[]</td>\n",
       "      <td>{\"Release Date\":\"2020\",\"Date first listed on A...</td>\n",
       "      <td>[{\"large\":\"https://m.media-amazon.com/images/I...</td>\n",
       "    </tr>\n",
       "    <tr>\n",
       "      <th>8</th>\n",
       "      <td>Ac Market tips</td>\n",
       "      <td>Appstore for Android</td>\n",
       "      <td>[We personally check and use the apps and play...</td>\n",
       "      <td>[Application made by fans for fans!Complete an...</td>\n",
       "      <td>3.3</td>\n",
       "      <td>NaN</td>\n",
       "      <td>0.00</td>\n",
       "      <td>Azeed</td>\n",
       "      <td>B076J3SJ4G</td>\n",
       "      <td>[]</td>\n",
       "      <td>{\"Release Date\":\"2017\",\"Date first listed on A...</td>\n",
       "      <td>[{\"large\":\"https://m.media-amazon.com/images/I...</td>\n",
       "    </tr>\n",
       "    <tr>\n",
       "      <th>9</th>\n",
       "      <td>Gem Shopping Network</td>\n",
       "      <td>Appstore for Android</td>\n",
       "      <td>[Live Stream!, Call to shop, ask questions, an...</td>\n",
       "      <td>[Watch Gem Shopping Network Live!]</td>\n",
       "      <td>3.8</td>\n",
       "      <td>816.0</td>\n",
       "      <td>0.00</td>\n",
       "      <td>Gem Shopping Network Inc.</td>\n",
       "      <td>B01GUEBBC0</td>\n",
       "      <td>[]</td>\n",
       "      <td>{\"Release Date\":\"2016\",\"Date first listed on A...</td>\n",
       "      <td>[{\"large\":\"https://m.media-amazon.com/images/I...</td>\n",
       "    </tr>\n",
       "  </tbody>\n",
       "</table>\n",
       "</div>"
      ],
      "text/plain": [
       "                                               title         main_category  \\\n",
       "0                                 Accupressure Guide  Appstore for Android   \n",
       "1  Ankylosaurus Fights Back - Smithsonian's Prehi...  Appstore for Android   \n",
       "2                                       Mahjong 2015  Appstore for Android   \n",
       "3                              Jewels Brick Breakout  Appstore for Android   \n",
       "4                       Traffic Police: Off-Road Cub  Appstore for Android   \n",
       "5                      Shadow Fighting Superhero War  Appstore for Android   \n",
       "6        My Aquarium - Hidden Object Challenge # 122  Appstore for Android   \n",
       "7     Giant Surprise Petcage! Unlock Superhero Puppy  Appstore for Android   \n",
       "8                                     Ac Market tips  Appstore for Android   \n",
       "9                               Gem Shopping Network  Appstore for Android   \n",
       "\n",
       "                                            features  \\\n",
       "0  [All the pressing point has been explained wit...   \n",
       "1  [ENCOURAGE literacy skills with highlighted na...   \n",
       "2  [Mahjong 2015 is a free solitaire matching gam...   \n",
       "3  [Game Features:, - Intuitive touch controls wi...   \n",
       "4  [In this game you will find:, - Killer police ...   \n",
       "5  [Shadow combat super battle, Addicting gamepla...   \n",
       "6  [100 Levels full of seek and find hidden objec...   \n",
       "7  [Latest surprise kit with pet goals., Include ...   \n",
       "8  [We personally check and use the apps and play...   \n",
       "9  [Live Stream!, Call to shop, ask questions, an...   \n",
       "\n",
       "                                         description  average_rating  \\\n",
       "0  [Acupressure technique is very ancient and ver...             3.6   \n",
       "1  [Join Ankylosaurus in this interactive book ap...             4.0   \n",
       "2  [Mahjong 2015 is a free solitaire matching gam...             3.1   \n",
       "3  [Jewels Brick Breakout is a glowing jewels bri...             4.2   \n",
       "4  [Become the best road police officer in Cube C...             3.3   \n",
       "5  [Let’s start to use different approach, dodge ...             3.3   \n",
       "6  [Did you search games for Hidden Object Games ...             3.0   \n",
       "7  [Love surprise opening and unboxing cute littl...             2.9   \n",
       "8  [Application made by fans for fans!Complete an...             3.3   \n",
       "9                 [Watch Gem Shopping Network Live!]             3.8   \n",
       "\n",
       "   rating_number  price                      store parent_asin categories  \\\n",
       "0            NaN   0.00                  mAppsguru  B00VRPSGEO         []   \n",
       "1            NaN   2.99      Oceanhouse Media, Inc  B00NWQXXHQ         []   \n",
       "2            NaN   0.00                sophiathach  B00RFKP6AC         []   \n",
       "3            NaN   0.00                Bad Chicken  B00SP2QU0E         []   \n",
       "4            NaN   0.00           Dast 2 For Metro  B01DZIT64O         []   \n",
       "5            NaN   0.00        3D Futuristic Games  B07F89XZF3         []   \n",
       "6            NaN   0.00                    PlayHOG  B00PY3WIEE         []   \n",
       "7            NaN   0.00    Surprise Unboxing Games  B08DNZVD7Q         []   \n",
       "8            NaN   0.00                      Azeed  B076J3SJ4G         []   \n",
       "9          816.0   0.00  Gem Shopping Network Inc.  B01GUEBBC0         []   \n",
       "\n",
       "                                             details  \\\n",
       "0  {\"Release Date\":\"2015\",\"Date first listed on A...   \n",
       "1  {\"Release Date\":\"2014\",\"Date first listed on A...   \n",
       "2  {\"Release Date\":\"2014\",\"Date first listed on A...   \n",
       "3  {\"Release Date\":\"2015\",\"Date first listed on A...   \n",
       "4  {\"Release Date\":\"2016\",\"Date first listed on A...   \n",
       "5  {\"Release Date\":\"2018\",\"Date first listed on A...   \n",
       "6  {\"Release Date\":\"2014\",\"Date first listed on A...   \n",
       "7  {\"Release Date\":\"2020\",\"Date first listed on A...   \n",
       "8  {\"Release Date\":\"2017\",\"Date first listed on A...   \n",
       "9  {\"Release Date\":\"2016\",\"Date first listed on A...   \n",
       "\n",
       "                                              images  \n",
       "0  [{\"large\":\"https://m.media-amazon.com/images/I...  \n",
       "1  [{\"large\":\"https://m.media-amazon.com/images/I...  \n",
       "2  [{\"large\":\"https://m.media-amazon.com/images/I...  \n",
       "3  [{\"large\":\"https://m.media-amazon.com/images/I...  \n",
       "4  [{\"large\":\"https://m.media-amazon.com/images/I...  \n",
       "5  [{\"large\":\"https://m.media-amazon.com/images/I...  \n",
       "6  [{\"large\":\"https://m.media-amazon.com/images/I...  \n",
       "7  [{\"large\":\"https://m.media-amazon.com/images/I...  \n",
       "8  [{\"large\":\"https://m.media-amazon.com/images/I...  \n",
       "9  [{\"large\":\"https://m.media-amazon.com/images/I...  "
      ]
     },
     "execution_count": 22,
     "metadata": {},
     "output_type": "execute_result"
    }
   ],
   "source": [
    "meta_items.limit(10).toPandas()"
   ]
  },
  {
   "cell_type": "markdown",
   "id": "055f3d39",
   "metadata": {},
   "source": [
    "## Expandir descripción de oraciones para generación posterior de embeddings"
   ]
  },
  {
   "cell_type": "code",
   "execution_count": 29,
   "id": "914c4dcd",
   "metadata": {},
   "outputs": [],
   "source": [
    "# Separación de oraciones por descripción\n",
    "meta_items_expanded_descriptions_sentences = meta_items.withColumn('description', F.explode('description'))\n",
    "meta_items_expanded_descriptions_sentences =  meta_items_expanded_descriptions_sentences.withColumn(\n",
    "    'description', F.split(F.col('description'), r\"\\.\")\n",
    ")\n",
    "meta_items_expanded_descriptions_sentences = meta_items_expanded_descriptions_sentences.withColumn('description', F.explode('description'))"
   ]
  },
  {
   "cell_type": "code",
   "execution_count": 32,
   "id": "d6c39a46",
   "metadata": {},
   "outputs": [
    {
     "name": "stderr",
     "output_type": "stream",
     "text": [
      "                                                                                \r"
     ]
    }
   ],
   "source": [
    "(\n",
    "    meta_items_expanded_descriptions_sentences\n",
    "        .write\n",
    "        .format('delta')\n",
    "        .mode('overwrite')\n",
    "        .save(spark_utils.path('meta_items_description_sentences'))\n",
    ")"
   ]
  },
  {
   "cell_type": "markdown",
   "id": "4a749090",
   "metadata": {},
   "source": [
    "## Unificar descripciones y características para extracción de palabras clave"
   ]
  },
  {
   "cell_type": "code",
   "execution_count": 31,
   "id": "031e0568",
   "metadata": {},
   "outputs": [],
   "source": [
    "# Unificación de descripción y características para extracción de palabras clave\n",
    "meta_items_unified_descriptions_and_features = meta_items.withColumn(\n",
    "    'description', F.concat_ws('.', F.col('description'))\n",
    ").withColumn(\n",
    "    'features', F.concat_ws('.', F.col('features'))\n",
    ")"
   ]
  },
  {
   "cell_type": "code",
   "execution_count": 33,
   "id": "f481b853",
   "metadata": {},
   "outputs": [
    {
     "name": "stderr",
     "output_type": "stream",
     "text": [
      "                                                                                \r"
     ]
    }
   ],
   "source": [
    "(\n",
    "    meta_items_unified_descriptions_and_features\n",
    "        .write\n",
    "        .format('delta')\n",
    "        .mode('overwrite')\n",
    "        .save(spark_utils.path('meta_items_description_and_features_unified'))\n",
    ")"
   ]
  }
 ],
 "metadata": {
  "kernelspec": {
   "display_name": ".venv",
   "language": "python",
   "name": "python3"
  },
  "language_info": {
   "codemirror_mode": {
    "name": "ipython",
    "version": 3
   },
   "file_extension": ".py",
   "mimetype": "text/x-python",
   "name": "python",
   "nbconvert_exporter": "python",
   "pygments_lexer": "ipython3",
   "version": "3.10.16"
  }
 },
 "nbformat": 4,
 "nbformat_minor": 5
}
